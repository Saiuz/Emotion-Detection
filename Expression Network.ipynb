{
 "cells": [
  {
   "cell_type": "code",
   "execution_count": 1,
   "metadata": {},
   "outputs": [],
   "source": [
    "import numpy as np\n",
    "import csv"
   ]
  },
  {
   "cell_type": "code",
   "execution_count": 2,
   "metadata": {},
   "outputs": [
    {
     "data": {
      "text/plain": [
       "998"
      ]
     },
     "execution_count": 2,
     "metadata": {},
     "output_type": "execute_result"
    }
   ],
   "source": [
    "labels = []\n",
    "\n",
    "with open(\"images/faceLabels.csv\") as csvfile:\n",
    "    reader = csv.reader(csvfile, delimiter=\",\")\n",
    "    for row in reader:\n",
    "        labels.append(row)\n",
    "labels = np.array(labels[1:])\n",
    "len(labels)"
   ]
  },
  {
   "cell_type": "code",
   "execution_count": 3,
   "metadata": {},
   "outputs": [],
   "source": [
    "from skimage import color\n",
    "from skimage import io\n",
    "from skimage.transform import resize\n",
    "import matplotlib.pyplot as plt\n",
    "from tqdm import tqdm"
   ]
  },
  {
   "cell_type": "code",
   "execution_count": 4,
   "metadata": {},
   "outputs": [],
   "source": [
    "#if true, re-reads and saves all images to numpy array\n",
    "if False:\n",
    "    images = []\n",
    "    size = (128,128)\n",
    "    print(\"reading in images...\")\n",
    "    for line in tqdm(labels):\n",
    "        ##read and convert to Black and White\n",
    "\n",
    "        img = io.imread('images/'+line[0], as_grey=True)\n",
    "        img = resize(img, size)\n",
    "        images.append(img)\n",
    "    print(\"saving...\")\n",
    "    \n",
    "    npimages = np.zeros(shape=(len(images),*size), dtype=np.float64)\n",
    "    for i,im in enumerate(images):\n",
    "        npimages[i] = im\n",
    "    labels = np.array(labels[:,1],dtype=str)\n",
    "    print(labels)\n",
    "    np.save(\"data/labels.npy\",labels)\n",
    "    np.save(\"data/images.npy\",npimages)\n",
    "    "
   ]
  },
  {
   "cell_type": "code",
   "execution_count": 5,
   "metadata": {},
   "outputs": [
    {
     "name": "stdout",
     "output_type": "stream",
     "text": [
      "float64\n",
      "<U11\n"
     ]
    }
   ],
   "source": [
    "images = np.load(\"data/images.npy\")\n",
    "labels = np.load(\"data/labels.npy\")\n",
    "print(images.dtype)\n",
    "print(labels.dtype)"
   ]
  },
  {
   "cell_type": "code",
   "execution_count": 6,
   "metadata": {},
   "outputs": [
    {
     "name": "stdout",
     "output_type": "stream",
     "text": [
      "\t\tHappy\n"
     ]
    },
    {
     "data": {
      "image/png": "[encoded data removed]",
      "text/plain": [
       "<Figure size 432x288 with 1 Axes>"
      ]
     },
     "metadata": {
      "needs_background": "light"
     },
     "output_type": "display_data"
    }
   ],
   "source": [
    "idx = np.random.randint(0,len(labels))\n",
    "plt.imshow(images[idx], cmap=\"gray\")\n",
    "print(\"\\t\\t\"+str(labels[idx]))"
   ]
  },
  {
   "cell_type": "code",
   "execution_count": 7,
   "metadata": {},
   "outputs": [],
   "source": [
    "import random\n",
    "def balanced_subset(images,labels):\n",
    "    #np.warnings.filterwarnings('ignore')\n",
    "    count = Counter(labels)\n",
    "    perclass_count = np.array([[c,count[c]] for c in count.keys()])\n",
    "    max_n = min(perclass_count[:,1])\n",
    "    \n",
    "    perclass_indexes = {cname:random.sample(range(0, n), max_n) for cname,n in perclass_count}\n",
    "    perclass_index = {label:0 for label in count.keys()}\n",
    "    \n",
    "    newlabels = []\n",
    "    newimages = []\n",
    "    total = 0\n",
    "    for i in range(len(labels)):\n",
    "        \n",
    "        label = labels[i]\n",
    "\n",
    "        if perclass_index[label] in perclass_indexes[label]:\n",
    "            total += 1\n",
    "            newlabels.append(label)\n",
    "            newimages.append(images[i])\n",
    "        perclass_index[label] += 1\n",
    "            \n",
    "    newimages, newlabels = np.array(newimages),np.array(newlabels)   \n",
    "        \n",
    "    #print(perclass_count,perclass_indexes)\n",
    "    return newimages, newlabels"
   ]
  },
  {
   "cell_type": "code",
   "execution_count": 8,
   "metadata": {},
   "outputs": [
    {
     "name": "stdout",
     "output_type": "stream",
     "text": [
      "count: [('happy', 250), ('sad', 250), ('neutral', 249), ('angry', 249)] \n",
      "\n"
     ]
    }
   ],
   "source": [
    "from collections import Counter\n",
    "labels = [x.lower() for x in labels]\n",
    "count = Counter(labels)\n",
    "#print(c.most_common())\n",
    "label2int = {y:x for x,(y,_) in enumerate(count.most_common())}\n",
    "int2label = {label2int[key]:key for key in label2int.keys()}\n",
    "\n",
    "nplabels = np.array([label2int[x] for x in labels])\n",
    "assert(len(nplabels) == len(images))\n",
    "print(\"count:\",count.most_common(),\"\\n\")"
   ]
  },
  {
   "cell_type": "code",
   "execution_count": 9,
   "metadata": {},
   "outputs": [
    {
     "data": {
      "text/plain": [
       "50"
      ]
     },
     "execution_count": 9,
     "metadata": {},
     "output_type": "execute_result"
    }
   ],
   "source": [
    "from sklearn.model_selection import train_test_split\n",
    "from sklearn.utils import shuffle\n",
    "x_train, x_val, y_train, y_val = train_test_split(images, nplabels, test_size=.05)\n",
    "len(y_val)"
   ]
  },
  {
   "cell_type": "code",
   "execution_count": 10,
   "metadata": {},
   "outputs": [],
   "source": [
    "def next_batch(images, labels, batch_size):\n",
    "    images, labels = shuffle(images,labels)\n",
    "    for i in range(0,len(labels),batch_size):\n",
    "        if i+batch_size >= len(labels):\n",
    "            yield images[i:],labels[i:]\n",
    "        else:\n",
    "            yield images[i:i+batch_size],labels[i:i+batch_size]"
   ]
  },
  {
   "cell_type": "code",
   "execution_count": 11,
   "metadata": {},
   "outputs": [
    {
     "name": "stdout",
     "output_type": "stream",
     "text": [
      "(128, 128)\n"
     ]
    }
   ],
   "source": [
    "print(images[0].shape)"
   ]
  },
  {
   "cell_type": "markdown",
   "metadata": {},
   "source": [
    "# Build Model"
   ]
  },
  {
   "cell_type": "code",
   "execution_count": 14,
   "metadata": {},
   "outputs": [],
   "source": [
    "import tensorflow as tf\n",
    "from Expression_Network import Expression_Network"
   ]
  },
  {
   "cell_type": "code",
   "execution_count": 15,
   "metadata": {},
   "outputs": [],
   "source": [
    "num_classes = len(count.most_common())\n",
    "x = tf.placeholder(dtype=tf.float32, shape=(None,128,128),name='x')\n",
    "y = tf.placeholder(dtype=tf.int32, shape=(None),name=\"y\")\n",
    "lr = tf.placeholder(dtype=tf.float32, shape=[], name=\"lr\")\n",
    "one_hot = tf.one_hot(y,num_classes)\n",
    "reshaped = tf.expand_dims(x,-1)\n",
    "\n",
    "exnet = Expression_Network(num_classes,Training=True)\n",
    "logits,prediction = exnet.model(x)"
   ]
  },
  {
   "cell_type": "code",
   "execution_count": 16,
   "metadata": {},
   "outputs": [],
   "source": [
    "cross_entropy = tf.nn.softmax_cross_entropy_with_logits_v2(logits=logits, labels=one_hot)\n",
    "loss_op = tf.reduce_mean(cross_entropy)\n",
    "optimizer = tf.train.AdamOptimizer(lr).minimize(loss_op)\n",
    "correct_pred = tf.equal(tf.argmax(prediction,1), tf.argmax(one_hot,1))\n",
    "accuracy = tf.reduce_mean(tf.cast(correct_pred, tf.float32), name='accuracy')"
   ]
  },
  {
   "cell_type": "code",
   "execution_count": 18,
   "metadata": {},
   "outputs": [
    {
     "name": "stdout",
     "output_type": "stream",
     "text": [
      "epoch:0 batch:10\ttrain accuracy: 0.2363\tloss: 24.5807\tval acc: 0.22\n",
      "epoch:0 batch:20\ttrain accuracy: 0.2743\tloss: 25.2867\tval acc: 0.24\n",
      "epoch:0 batch:30\ttrain accuracy: 0.3523\tloss: 13.4603\tval acc: 0.42\n",
      "epoch:1 batch:10\ttrain accuracy: 0.3829\tloss: 13.5296\tval acc: 0.42\n",
      "epoch:1 batch:20\ttrain accuracy: 0.4335\tloss: 10.6212\tval acc: 0.52\n",
      "epoch:1 batch:30\ttrain accuracy: 0.423\tloss: 13.256\tval acc: 0.48\n",
      "epoch:2 batch:10\ttrain accuracy: 0.4335\tloss: 14.7839\tval acc: 0.42\n",
      "epoch:2 batch:20\ttrain accuracy: 0.6171\tloss: 5.6573\tval acc: 0.54\n",
      "epoch:2 batch:30\ttrain accuracy: 0.6561\tloss: 4.2414\tval acc: 0.62\n",
      "epoch:3 batch:10\ttrain accuracy: 0.5812\tloss: 6.4494\tval acc: 0.52\n",
      "epoch:3 batch:20\ttrain accuracy: 0.6129\tloss: 5.6947\tval acc: 0.5\n",
      "epoch:3 batch:30\ttrain accuracy: 0.6698\tloss: 4.4643\tval acc: 0.62\n",
      "epoch:4 batch:10\ttrain accuracy: 0.6941\tloss: 4.1496\tval acc: 0.68\n",
      "epoch:4 batch:20\ttrain accuracy: 0.7679\tloss: 2.377\tval acc: 0.72\n",
      "epoch:4 batch:30\ttrain accuracy: 0.7975\tloss: 2.1509\tval acc: 0.78\n",
      "epoch:5 batch:10\ttrain accuracy: 0.7447\tloss: 3.1972\tval acc: 0.76\n",
      "epoch:5 batch:20\ttrain accuracy: 0.788\tloss: 2.1994\tval acc: 0.72\n",
      "epoch:5 batch:30\ttrain accuracy: 0.7943\tloss: 2.1338\tval acc: 0.76\n",
      "epoch:6 batch:10\ttrain accuracy: 0.8059\tloss: 2.2604\tval acc: 0.76\n",
      "epoch:6 batch:20\ttrain accuracy: 0.7658\tloss: 2.6246\tval acc: 0.72\n",
      "epoch:6 batch:30\ttrain accuracy: 0.7848\tloss: 2.3792\tval acc: 0.66\n",
      "epoch:7 batch:10\ttrain accuracy: 0.8776\tloss: 0.9699\tval acc: 0.78\n",
      "epoch:7 batch:20\ttrain accuracy: 0.8481\tloss: 1.4621\tval acc: 0.8\n",
      "epoch:7 batch:30\ttrain accuracy: 0.8418\tloss: 1.4214\tval acc: 0.78\n",
      "epoch:8 batch:10\ttrain accuracy: 0.8407\tloss: 1.7731\tval acc: 0.76\n",
      "epoch:8 batch:20\ttrain accuracy: 0.8544\tloss: 1.1813\tval acc: 0.8\n",
      "epoch:8 batch:30\ttrain accuracy: 0.8935\tloss: 0.6901\tval acc: 0.82\n",
      "epoch:9 batch:10\ttrain accuracy: 0.8903\tloss: 0.9599\tval acc: 0.84\n",
      "epoch:9 batch:20\ttrain accuracy: 0.8977\tloss: 0.7914\tval acc: 0.8\n",
      "epoch:9 batch:30\ttrain accuracy: 0.8977\tloss: 0.7041\tval acc: 0.72\n",
      "epoch:10 batch:10\ttrain accuracy: 0.903\tloss: 0.6638\tval acc: 0.78\n",
      "epoch:10 batch:20\ttrain accuracy: 0.8555\tloss: 1.395\tval acc: 0.74\n",
      "epoch:10 batch:30\ttrain accuracy: 0.6688\tloss: 4.8091\tval acc: 0.66\n",
      "epoch:11 batch:10\ttrain accuracy: 0.847\tloss: 1.6108\tval acc: 0.74\n",
      "epoch:11 batch:20\ttrain accuracy: 0.8966\tloss: 0.7569\tval acc: 0.8\n",
      "epoch:11 batch:30\ttrain accuracy: 0.9251\tloss: 0.4753\tval acc: 0.86\n",
      "epoch:12 batch:10\ttrain accuracy: 0.9357\tloss: 0.5434\tval acc: 0.92\n",
      "epoch:12 batch:20\ttrain accuracy: 0.8513\tloss: 1.4759\tval acc: 0.84\n",
      "epoch:12 batch:30\ttrain accuracy: 0.9008\tloss: 0.9048\tval acc: 0.86\n",
      "epoch:13 batch:10\ttrain accuracy: 0.8797\tloss: 1.2171\tval acc: 0.82\n",
      "epoch:13 batch:20\ttrain accuracy: 0.9304\tloss: 0.546\tval acc: 0.86\n",
      "epoch:13 batch:30\ttrain accuracy: 0.9578\tloss: 0.2667\tval acc: 0.82\n",
      "epoch:14 batch:10\ttrain accuracy: 0.9177\tloss: 0.5697\tval acc: 0.8\n",
      "epoch:14 batch:20\ttrain accuracy: 0.8608\tloss: 1.3957\tval acc: 0.78\n",
      "epoch:14 batch:30\ttrain accuracy: 0.9072\tloss: 0.7025\tval acc: 0.76\n",
      "epoch:15 batch:10\ttrain accuracy: 0.942\tloss: 0.4581\tval acc: 0.86\n",
      "epoch:15 batch:20\ttrain accuracy: 0.9378\tloss: 0.5014\tval acc: 0.86\n",
      "epoch:15 batch:30\ttrain accuracy: 0.9441\tloss: 0.3294\tval acc: 0.82\n",
      "epoch:16 batch:10\ttrain accuracy: 0.9726\tloss: 0.148\tval acc: 0.82\n",
      "epoch:16 batch:20\ttrain accuracy: 0.9715\tloss: 0.168\tval acc: 0.82\n",
      "epoch:16 batch:30\ttrain accuracy: 0.9831\tloss: 0.0655\tval acc: 0.88\n",
      "epoch:17 batch:10\ttrain accuracy: 0.9821\tloss: 0.0932\tval acc: 0.92\n",
      "epoch:17 batch:20\ttrain accuracy: 0.981\tloss: 0.1084\tval acc: 0.88\n",
      "epoch:17 batch:30\ttrain accuracy: 0.9536\tloss: 0.2676\tval acc: 0.82\n",
      "epoch:18 batch:10\ttrain accuracy: 0.9821\tloss: 0.0949\tval acc: 0.88\n",
      "epoch:18 batch:20\ttrain accuracy: 0.9852\tloss: 0.0551\tval acc: 0.86\n",
      "epoch:18 batch:30\ttrain accuracy: 0.9768\tloss: 0.103\tval acc: 0.92\n",
      "epoch:19 batch:10\ttrain accuracy: 0.9768\tloss: 0.1004\tval acc: 0.82\n",
      "epoch:19 batch:20\ttrain accuracy: 0.9821\tloss: 0.0537\tval acc: 0.88\n",
      "epoch:19 batch:30\ttrain accuracy: 0.9842\tloss: 0.0817\tval acc: 0.92\n"
     ]
    },
    {
     "ename": "UnknownError",
     "evalue": "Failed to rename: checkpoints/model.ckpt.data-00000-of-00001.tempstate9252437243531276833 to: checkpoints/model.ckpt.data-00000-of-00001 : Access is denied.\r\n; Input/output error\n\t [[node save_1/SaveV2 (defined at <ipython-input-18-e212846be9b4>:7)  = SaveV2[dtypes=[DT_FLOAT, DT_FLOAT, DT_FLOAT, DT_FLOAT, DT_FLOAT, ..., DT_FLOAT, DT_FLOAT, DT_FLOAT, DT_FLOAT, DT_FLOAT], _device=\"/job:localhost/replica:0/task:0/device:CPU:0\"](_arg_save_1/Const_0_0, save_1/SaveV2/tensor_names, save_1/SaveV2/shape_and_slices, Conv/biases/_23, Conv/biases/Adam/_25, Conv/biases/Adam_1/_27, Conv/weights/_29, Conv/weights/Adam/_31, Conv/weights/Adam_1/_33, Conv_1/biases/_35, Conv_1/biases/Adam/_37, Conv_1/biases/Adam_1/_39, Conv_1/weights/_41, Conv_1/weights/Adam/_43, Conv_1/weights/Adam_1/_45, beta1_power/_47, beta2_power/_49, fully_connected/biases/_51, fully_connected/biases/Adam/_53, fully_connected/biases/Adam_1/_55, fully_connected/weights/_57, fully_connected/weights/Adam/_59, fully_connected/weights/Adam_1/_61, fully_connected_1/biases/_63, fully_connected_1/biases/Adam/_65, fully_connected_1/biases/Adam_1/_67, fully_connected_1/weights/_69, fully_connected_1/weights/Adam/_71, fully_connected_1/weights/Adam_1/_73)]]\n\nCaused by op 'save_1/SaveV2', defined at:\n  File \"c:\\users\\ablac\\miniconda3\\envs\\expressions\\lib\\runpy.py\", line 193, in _run_module_as_main\n    \"__main__\", mod_spec)\n  File \"c:\\users\\ablac\\miniconda3\\envs\\expressions\\lib\\runpy.py\", line 85, in _run_code\n    exec(code, run_globals)\n  File \"c:\\users\\ablac\\miniconda3\\envs\\expressions\\lib\\site-packages\\ipykernel_launcher.py\", line 16, in <module>\n    app.launch_new_instance()\n  File \"c:\\users\\ablac\\miniconda3\\envs\\expressions\\lib\\site-packages\\traitlets\\config\\application.py\", line 658, in launch_instance\n    app.start()\n  File \"c:\\users\\ablac\\miniconda3\\envs\\expressions\\lib\\site-packages\\ipykernel\\kernelapp.py\", line 505, in start\n    self.io_loop.start()\n  File \"c:\\users\\ablac\\miniconda3\\envs\\expressions\\lib\\site-packages\\tornado\\platform\\asyncio.py\", line 132, in start\n    self.asyncio_loop.run_forever()\n  File \"c:\\users\\ablac\\miniconda3\\envs\\expressions\\lib\\asyncio\\base_events.py\", line 427, in run_forever\n    self._run_once()\n  File \"c:\\users\\ablac\\miniconda3\\envs\\expressions\\lib\\asyncio\\base_events.py\", line 1440, in _run_once\n    handle._run()\n  File \"c:\\users\\ablac\\miniconda3\\envs\\expressions\\lib\\asyncio\\events.py\", line 145, in _run\n    self._callback(*self._args)\n  File \"c:\\users\\ablac\\miniconda3\\envs\\expressions\\lib\\site-packages\\tornado\\ioloop.py\", line 758, in _run_callback\n    ret = callback()\n  File \"c:\\users\\ablac\\miniconda3\\envs\\expressions\\lib\\site-packages\\tornado\\stack_context.py\", line 300, in null_wrapper\n    return fn(*args, **kwargs)\n  File \"c:\\users\\ablac\\miniconda3\\envs\\expressions\\lib\\site-packages\\tornado\\gen.py\", line 1233, in inner\n    self.run()\n  File \"c:\\users\\ablac\\miniconda3\\envs\\expressions\\lib\\site-packages\\tornado\\gen.py\", line 1147, in run\n    yielded = self.gen.send(value)\n  File \"c:\\users\\ablac\\miniconda3\\envs\\expressions\\lib\\site-packages\\ipykernel\\kernelbase.py\", line 357, in process_one\n    yield gen.maybe_future(dispatch(*args))\n  File \"c:\\users\\ablac\\miniconda3\\envs\\expressions\\lib\\site-packages\\tornado\\gen.py\", line 326, in wrapper\n    yielded = next(result)\n  File \"c:\\users\\ablac\\miniconda3\\envs\\expressions\\lib\\site-packages\\ipykernel\\kernelbase.py\", line 267, in dispatch_shell\n    yield gen.maybe_future(handler(stream, idents, msg))\n  File \"c:\\users\\ablac\\miniconda3\\envs\\expressions\\lib\\site-packages\\tornado\\gen.py\", line 326, in wrapper\n    yielded = next(result)\n  File \"c:\\users\\ablac\\miniconda3\\envs\\expressions\\lib\\site-packages\\ipykernel\\kernelbase.py\", line 534, in execute_request\n    user_expressions, allow_stdin,\n  File \"c:\\users\\ablac\\miniconda3\\envs\\expressions\\lib\\site-packages\\tornado\\gen.py\", line 326, in wrapper\n    yielded = next(result)\n  File \"c:\\users\\ablac\\miniconda3\\envs\\expressions\\lib\\site-packages\\ipykernel\\ipkernel.py\", line 294, in do_execute\n    res = shell.run_cell(code, store_history=store_history, silent=silent)\n  File \"c:\\users\\ablac\\miniconda3\\envs\\expressions\\lib\\site-packages\\ipykernel\\zmqshell.py\", line 536, in run_cell\n    return super(ZMQInteractiveShell, self).run_cell(*args, **kwargs)\n  File \"c:\\users\\ablac\\miniconda3\\envs\\expressions\\lib\\site-packages\\IPython\\core\\interactiveshell.py\", line 2819, in run_cell\n    raw_cell, store_history, silent, shell_futures)\n  File \"c:\\users\\ablac\\miniconda3\\envs\\expressions\\lib\\site-packages\\IPython\\core\\interactiveshell.py\", line 2845, in _run_cell\n    return runner(coro)\n  File \"c:\\users\\ablac\\miniconda3\\envs\\expressions\\lib\\site-packages\\IPython\\core\\async_helpers.py\", line 67, in _pseudo_sync_runner\n    coro.send(None)\n  File \"c:\\users\\ablac\\miniconda3\\envs\\expressions\\lib\\site-packages\\IPython\\core\\interactiveshell.py\", line 3020, in run_cell_async\n    interactivity=interactivity, compiler=compiler, result=result)\n  File \"c:\\users\\ablac\\miniconda3\\envs\\expressions\\lib\\site-packages\\IPython\\core\\interactiveshell.py\", line 3185, in run_ast_nodes\n    if (yield from self.run_code(code, result)):\n  File \"c:\\users\\ablac\\miniconda3\\envs\\expressions\\lib\\site-packages\\IPython\\core\\interactiveshell.py\", line 3267, in run_code\n    exec(code_obj, self.user_global_ns, self.user_ns)\n  File \"<ipython-input-18-e212846be9b4>\", line 7, in <module>\n    saver = tf.train.Saver()\n  File \"c:\\users\\ablac\\miniconda3\\envs\\expressions\\lib\\site-packages\\tensorflow\\python\\training\\saver.py\", line 1102, in __init__\n    self.build()\n  File \"c:\\users\\ablac\\miniconda3\\envs\\expressions\\lib\\site-packages\\tensorflow\\python\\training\\saver.py\", line 1114, in build\n    self._build(self._filename, build_save=True, build_restore=True)\n  File \"c:\\users\\ablac\\miniconda3\\envs\\expressions\\lib\\site-packages\\tensorflow\\python\\training\\saver.py\", line 1151, in _build\n    build_save=build_save, build_restore=build_restore)\n  File \"c:\\users\\ablac\\miniconda3\\envs\\expressions\\lib\\site-packages\\tensorflow\\python\\training\\saver.py\", line 792, in _build_internal\n    save_tensor = self._AddSaveOps(filename_tensor, saveables)\n  File \"c:\\users\\ablac\\miniconda3\\envs\\expressions\\lib\\site-packages\\tensorflow\\python\\training\\saver.py\", line 284, in _AddSaveOps\n    save = self.save_op(filename_tensor, saveables)\n  File \"c:\\users\\ablac\\miniconda3\\envs\\expressions\\lib\\site-packages\\tensorflow\\python\\training\\saver.py\", line 202, in save_op\n    tensors)\n  File \"c:\\users\\ablac\\miniconda3\\envs\\expressions\\lib\\site-packages\\tensorflow\\python\\ops\\gen_io_ops.py\", line 1804, in save_v2\n    shape_and_slices=shape_and_slices, tensors=tensors, name=name)\n  File \"c:\\users\\ablac\\miniconda3\\envs\\expressions\\lib\\site-packages\\tensorflow\\python\\framework\\op_def_library.py\", line 787, in _apply_op_helper\n    op_def=op_def)\n  File \"c:\\users\\ablac\\miniconda3\\envs\\expressions\\lib\\site-packages\\tensorflow\\python\\util\\deprecation.py\", line 488, in new_func\n    return func(*args, **kwargs)\n  File \"c:\\users\\ablac\\miniconda3\\envs\\expressions\\lib\\site-packages\\tensorflow\\python\\framework\\ops.py\", line 3274, in create_op\n    op_def=op_def)\n  File \"c:\\users\\ablac\\miniconda3\\envs\\expressions\\lib\\site-packages\\tensorflow\\python\\framework\\ops.py\", line 1770, in __init__\n    self._traceback = tf_stack.extract_stack()\n\nUnknownError (see above for traceback): Failed to rename: checkpoints/model.ckpt.data-00000-of-00001.tempstate9252437243531276833 to: checkpoints/model.ckpt.data-00000-of-00001 : Access is denied.\r\n; Input/output error\n\t [[node save_1/SaveV2 (defined at <ipython-input-18-e212846be9b4>:7)  = SaveV2[dtypes=[DT_FLOAT, DT_FLOAT, DT_FLOAT, DT_FLOAT, DT_FLOAT, ..., DT_FLOAT, DT_FLOAT, DT_FLOAT, DT_FLOAT, DT_FLOAT], _device=\"/job:localhost/replica:0/task:0/device:CPU:0\"](_arg_save_1/Const_0_0, save_1/SaveV2/tensor_names, save_1/SaveV2/shape_and_slices, Conv/biases/_23, Conv/biases/Adam/_25, Conv/biases/Adam_1/_27, Conv/weights/_29, Conv/weights/Adam/_31, Conv/weights/Adam_1/_33, Conv_1/biases/_35, Conv_1/biases/Adam/_37, Conv_1/biases/Adam_1/_39, Conv_1/weights/_41, Conv_1/weights/Adam/_43, Conv_1/weights/Adam_1/_45, beta1_power/_47, beta2_power/_49, fully_connected/biases/_51, fully_connected/biases/Adam/_53, fully_connected/biases/Adam_1/_55, fully_connected/weights/_57, fully_connected/weights/Adam/_59, fully_connected/weights/Adam_1/_61, fully_connected_1/biases/_63, fully_connected_1/biases/Adam/_65, fully_connected_1/biases/Adam_1/_67, fully_connected_1/weights/_69, fully_connected_1/weights/Adam/_71, fully_connected_1/weights/Adam_1/_73)]]\n",
     "output_type": "error",
     "traceback": [
      "\u001b[1;31m---------------------------------------------------------------------------\u001b[0m",
      "\u001b[1;31mUnknownError\u001b[0m                              Traceback (most recent call last)",
      "\u001b[1;32mc:\\users\\ablac\\miniconda3\\envs\\expressions\\lib\\site-packages\\tensorflow\\python\\client\\session.py\u001b[0m in \u001b[0;36m_do_call\u001b[1;34m(self, fn, *args)\u001b[0m\n\u001b[0;32m   1333\u001b[0m     \u001b[1;32mtry\u001b[0m\u001b[1;33m:\u001b[0m\u001b[1;33m\u001b[0m\u001b[1;33m\u001b[0m\u001b[0m\n\u001b[1;32m-> 1334\u001b[1;33m       \u001b[1;32mreturn\u001b[0m \u001b[0mfn\u001b[0m\u001b[1;33m(\u001b[0m\u001b[1;33m*\u001b[0m\u001b[0margs\u001b[0m\u001b[1;33m)\u001b[0m\u001b[1;33m\u001b[0m\u001b[1;33m\u001b[0m\u001b[0m\n\u001b[0m\u001b[0;32m   1335\u001b[0m     \u001b[1;32mexcept\u001b[0m \u001b[0merrors\u001b[0m\u001b[1;33m.\u001b[0m\u001b[0mOpError\u001b[0m \u001b[1;32mas\u001b[0m \u001b[0me\u001b[0m\u001b[1;33m:\u001b[0m\u001b[1;33m\u001b[0m\u001b[1;33m\u001b[0m\u001b[0m\n",
      "\u001b[1;32mc:\\users\\ablac\\miniconda3\\envs\\expressions\\lib\\site-packages\\tensorflow\\python\\client\\session.py\u001b[0m in \u001b[0;36m_run_fn\u001b[1;34m(feed_dict, fetch_list, target_list, options, run_metadata)\u001b[0m\n\u001b[0;32m   1318\u001b[0m       return self._call_tf_sessionrun(\n\u001b[1;32m-> 1319\u001b[1;33m           options, feed_dict, fetch_list, target_list, run_metadata)\n\u001b[0m\u001b[0;32m   1320\u001b[0m \u001b[1;33m\u001b[0m\u001b[0m\n",
      "\u001b[1;32mc:\\users\\ablac\\miniconda3\\envs\\expressions\\lib\\site-packages\\tensorflow\\python\\client\\session.py\u001b[0m in \u001b[0;36m_call_tf_sessionrun\u001b[1;34m(self, options, feed_dict, fetch_list, target_list, run_metadata)\u001b[0m\n\u001b[0;32m   1406\u001b[0m         \u001b[0mself\u001b[0m\u001b[1;33m.\u001b[0m\u001b[0m_session\u001b[0m\u001b[1;33m,\u001b[0m \u001b[0moptions\u001b[0m\u001b[1;33m,\u001b[0m \u001b[0mfeed_dict\u001b[0m\u001b[1;33m,\u001b[0m \u001b[0mfetch_list\u001b[0m\u001b[1;33m,\u001b[0m \u001b[0mtarget_list\u001b[0m\u001b[1;33m,\u001b[0m\u001b[1;33m\u001b[0m\u001b[1;33m\u001b[0m\u001b[0m\n\u001b[1;32m-> 1407\u001b[1;33m         run_metadata)\n\u001b[0m\u001b[0;32m   1408\u001b[0m \u001b[1;33m\u001b[0m\u001b[0m\n",
      "\u001b[1;31mUnknownError\u001b[0m: Failed to rename: checkpoints/model.ckpt.data-00000-of-00001.tempstate9252437243531276833 to: checkpoints/model.ckpt.data-00000-of-00001 : Access is denied.\r\n; Input/output error\n\t [[{{node save_1/SaveV2}} = SaveV2[dtypes=[DT_FLOAT, DT_FLOAT, DT_FLOAT, DT_FLOAT, DT_FLOAT, ..., DT_FLOAT, DT_FLOAT, DT_FLOAT, DT_FLOAT, DT_FLOAT], _device=\"/job:localhost/replica:0/task:0/device:CPU:0\"](_arg_save_1/Const_0_0, save_1/SaveV2/tensor_names, save_1/SaveV2/shape_and_slices, Conv/biases/_23, Conv/biases/Adam/_25, Conv/biases/Adam_1/_27, Conv/weights/_29, Conv/weights/Adam/_31, Conv/weights/Adam_1/_33, Conv_1/biases/_35, Conv_1/biases/Adam/_37, Conv_1/biases/Adam_1/_39, Conv_1/weights/_41, Conv_1/weights/Adam/_43, Conv_1/weights/Adam_1/_45, beta1_power/_47, beta2_power/_49, fully_connected/biases/_51, fully_connected/biases/Adam/_53, fully_connected/biases/Adam_1/_55, fully_connected/weights/_57, fully_connected/weights/Adam/_59, fully_connected/weights/Adam_1/_61, fully_connected_1/biases/_63, fully_connected_1/biases/Adam/_65, fully_connected_1/biases/Adam_1/_67, fully_connected_1/weights/_69, fully_connected_1/weights/Adam/_71, fully_connected_1/weights/Adam_1/_73)]]",
      "\nDuring handling of the above exception, another exception occurred:\n",
      "\u001b[1;31mUnknownError\u001b[0m                              Traceback (most recent call last)",
      "\u001b[1;32m<ipython-input-18-e212846be9b4>\u001b[0m in \u001b[0;36m<module>\u001b[1;34m\u001b[0m\n\u001b[0;32m     26\u001b[0m \u001b[1;33m\u001b[0m\u001b[0m\n\u001b[0;32m     27\u001b[0m \u001b[1;33m\u001b[0m\u001b[0m\n\u001b[1;32m---> 28\u001b[1;33m     \u001b[0msave_path\u001b[0m \u001b[1;33m=\u001b[0m \u001b[0msaver\u001b[0m\u001b[1;33m.\u001b[0m\u001b[0msave\u001b[0m\u001b[1;33m(\u001b[0m\u001b[0msess\u001b[0m\u001b[1;33m,\u001b[0m \u001b[1;34m\"checkpoints/model.ckpt\"\u001b[0m\u001b[1;33m)\u001b[0m\u001b[1;33m\u001b[0m\u001b[1;33m\u001b[0m\u001b[0m\n\u001b[0m\u001b[0;32m     29\u001b[0m \u001b[1;33m\u001b[0m\u001b[0m\n\u001b[0;32m     30\u001b[0m \u001b[1;33m\u001b[0m\u001b[0m\n",
      "\u001b[1;32mc:\\users\\ablac\\miniconda3\\envs\\expressions\\lib\\site-packages\\tensorflow\\python\\training\\saver.py\u001b[0m in \u001b[0;36msave\u001b[1;34m(self, sess, save_path, global_step, latest_filename, meta_graph_suffix, write_meta_graph, write_state, strip_default_attrs)\u001b[0m\n\u001b[0;32m   1439\u001b[0m           model_checkpoint_path = sess.run(\n\u001b[0;32m   1440\u001b[0m               \u001b[0mself\u001b[0m\u001b[1;33m.\u001b[0m\u001b[0msaver_def\u001b[0m\u001b[1;33m.\u001b[0m\u001b[0msave_tensor_name\u001b[0m\u001b[1;33m,\u001b[0m\u001b[1;33m\u001b[0m\u001b[1;33m\u001b[0m\u001b[0m\n\u001b[1;32m-> 1441\u001b[1;33m               {self.saver_def.filename_tensor_name: checkpoint_file})\n\u001b[0m\u001b[0;32m   1442\u001b[0m \u001b[1;33m\u001b[0m\u001b[0m\n\u001b[0;32m   1443\u001b[0m         \u001b[0mmodel_checkpoint_path\u001b[0m \u001b[1;33m=\u001b[0m \u001b[0mcompat\u001b[0m\u001b[1;33m.\u001b[0m\u001b[0mas_str\u001b[0m\u001b[1;33m(\u001b[0m\u001b[0mmodel_checkpoint_path\u001b[0m\u001b[1;33m)\u001b[0m\u001b[1;33m\u001b[0m\u001b[1;33m\u001b[0m\u001b[0m\n",
      "\u001b[1;32mc:\\users\\ablac\\miniconda3\\envs\\expressions\\lib\\site-packages\\tensorflow\\python\\client\\session.py\u001b[0m in \u001b[0;36mrun\u001b[1;34m(self, fetches, feed_dict, options, run_metadata)\u001b[0m\n\u001b[0;32m    927\u001b[0m     \u001b[1;32mtry\u001b[0m\u001b[1;33m:\u001b[0m\u001b[1;33m\u001b[0m\u001b[1;33m\u001b[0m\u001b[0m\n\u001b[0;32m    928\u001b[0m       result = self._run(None, fetches, feed_dict, options_ptr,\n\u001b[1;32m--> 929\u001b[1;33m                          run_metadata_ptr)\n\u001b[0m\u001b[0;32m    930\u001b[0m       \u001b[1;32mif\u001b[0m \u001b[0mrun_metadata\u001b[0m\u001b[1;33m:\u001b[0m\u001b[1;33m\u001b[0m\u001b[1;33m\u001b[0m\u001b[0m\n\u001b[0;32m    931\u001b[0m         \u001b[0mproto_data\u001b[0m \u001b[1;33m=\u001b[0m \u001b[0mtf_session\u001b[0m\u001b[1;33m.\u001b[0m\u001b[0mTF_GetBuffer\u001b[0m\u001b[1;33m(\u001b[0m\u001b[0mrun_metadata_ptr\u001b[0m\u001b[1;33m)\u001b[0m\u001b[1;33m\u001b[0m\u001b[1;33m\u001b[0m\u001b[0m\n",
      "\u001b[1;32mc:\\users\\ablac\\miniconda3\\envs\\expressions\\lib\\site-packages\\tensorflow\\python\\client\\session.py\u001b[0m in \u001b[0;36m_run\u001b[1;34m(self, handle, fetches, feed_dict, options, run_metadata)\u001b[0m\n\u001b[0;32m   1150\u001b[0m     \u001b[1;32mif\u001b[0m \u001b[0mfinal_fetches\u001b[0m \u001b[1;32mor\u001b[0m \u001b[0mfinal_targets\u001b[0m \u001b[1;32mor\u001b[0m \u001b[1;33m(\u001b[0m\u001b[0mhandle\u001b[0m \u001b[1;32mand\u001b[0m \u001b[0mfeed_dict_tensor\u001b[0m\u001b[1;33m)\u001b[0m\u001b[1;33m:\u001b[0m\u001b[1;33m\u001b[0m\u001b[1;33m\u001b[0m\u001b[0m\n\u001b[0;32m   1151\u001b[0m       results = self._do_run(handle, final_targets, final_fetches,\n\u001b[1;32m-> 1152\u001b[1;33m                              feed_dict_tensor, options, run_metadata)\n\u001b[0m\u001b[0;32m   1153\u001b[0m     \u001b[1;32melse\u001b[0m\u001b[1;33m:\u001b[0m\u001b[1;33m\u001b[0m\u001b[1;33m\u001b[0m\u001b[0m\n\u001b[0;32m   1154\u001b[0m       \u001b[0mresults\u001b[0m \u001b[1;33m=\u001b[0m \u001b[1;33m[\u001b[0m\u001b[1;33m]\u001b[0m\u001b[1;33m\u001b[0m\u001b[1;33m\u001b[0m\u001b[0m\n",
      "\u001b[1;32mc:\\users\\ablac\\miniconda3\\envs\\expressions\\lib\\site-packages\\tensorflow\\python\\client\\session.py\u001b[0m in \u001b[0;36m_do_run\u001b[1;34m(self, handle, target_list, fetch_list, feed_dict, options, run_metadata)\u001b[0m\n\u001b[0;32m   1326\u001b[0m     \u001b[1;32mif\u001b[0m \u001b[0mhandle\u001b[0m \u001b[1;32mis\u001b[0m \u001b[1;32mNone\u001b[0m\u001b[1;33m:\u001b[0m\u001b[1;33m\u001b[0m\u001b[1;33m\u001b[0m\u001b[0m\n\u001b[0;32m   1327\u001b[0m       return self._do_call(_run_fn, feeds, fetches, targets, options,\n\u001b[1;32m-> 1328\u001b[1;33m                            run_metadata)\n\u001b[0m\u001b[0;32m   1329\u001b[0m     \u001b[1;32melse\u001b[0m\u001b[1;33m:\u001b[0m\u001b[1;33m\u001b[0m\u001b[1;33m\u001b[0m\u001b[0m\n\u001b[0;32m   1330\u001b[0m       \u001b[1;32mreturn\u001b[0m \u001b[0mself\u001b[0m\u001b[1;33m.\u001b[0m\u001b[0m_do_call\u001b[0m\u001b[1;33m(\u001b[0m\u001b[0m_prun_fn\u001b[0m\u001b[1;33m,\u001b[0m \u001b[0mhandle\u001b[0m\u001b[1;33m,\u001b[0m \u001b[0mfeeds\u001b[0m\u001b[1;33m,\u001b[0m \u001b[0mfetches\u001b[0m\u001b[1;33m)\u001b[0m\u001b[1;33m\u001b[0m\u001b[1;33m\u001b[0m\u001b[0m\n",
      "\u001b[1;32mc:\\users\\ablac\\miniconda3\\envs\\expressions\\lib\\site-packages\\tensorflow\\python\\client\\session.py\u001b[0m in \u001b[0;36m_do_call\u001b[1;34m(self, fn, *args)\u001b[0m\n\u001b[0;32m   1346\u001b[0m           \u001b[1;32mpass\u001b[0m\u001b[1;33m\u001b[0m\u001b[1;33m\u001b[0m\u001b[0m\n\u001b[0;32m   1347\u001b[0m       \u001b[0mmessage\u001b[0m \u001b[1;33m=\u001b[0m \u001b[0merror_interpolation\u001b[0m\u001b[1;33m.\u001b[0m\u001b[0minterpolate\u001b[0m\u001b[1;33m(\u001b[0m\u001b[0mmessage\u001b[0m\u001b[1;33m,\u001b[0m \u001b[0mself\u001b[0m\u001b[1;33m.\u001b[0m\u001b[0m_graph\u001b[0m\u001b[1;33m)\u001b[0m\u001b[1;33m\u001b[0m\u001b[1;33m\u001b[0m\u001b[0m\n\u001b[1;32m-> 1348\u001b[1;33m       \u001b[1;32mraise\u001b[0m \u001b[0mtype\u001b[0m\u001b[1;33m(\u001b[0m\u001b[0me\u001b[0m\u001b[1;33m)\u001b[0m\u001b[1;33m(\u001b[0m\u001b[0mnode_def\u001b[0m\u001b[1;33m,\u001b[0m \u001b[0mop\u001b[0m\u001b[1;33m,\u001b[0m \u001b[0mmessage\u001b[0m\u001b[1;33m)\u001b[0m\u001b[1;33m\u001b[0m\u001b[1;33m\u001b[0m\u001b[0m\n\u001b[0m\u001b[0;32m   1349\u001b[0m \u001b[1;33m\u001b[0m\u001b[0m\n\u001b[0;32m   1350\u001b[0m   \u001b[1;32mdef\u001b[0m \u001b[0m_extend_graph\u001b[0m\u001b[1;33m(\u001b[0m\u001b[0mself\u001b[0m\u001b[1;33m)\u001b[0m\u001b[1;33m:\u001b[0m\u001b[1;33m\u001b[0m\u001b[1;33m\u001b[0m\u001b[0m\n",
      "\u001b[1;31mUnknownError\u001b[0m: Failed to rename: checkpoints/model.ckpt.data-00000-of-00001.tempstate9252437243531276833 to: checkpoints/model.ckpt.data-00000-of-00001 : Access is denied.\r\n; Input/output error\n\t [[node save_1/SaveV2 (defined at <ipython-input-18-e212846be9b4>:7)  = SaveV2[dtypes=[DT_FLOAT, DT_FLOAT, DT_FLOAT, DT_FLOAT, DT_FLOAT, ..., DT_FLOAT, DT_FLOAT, DT_FLOAT, DT_FLOAT, DT_FLOAT], _device=\"/job:localhost/replica:0/task:0/device:CPU:0\"](_arg_save_1/Const_0_0, save_1/SaveV2/tensor_names, save_1/SaveV2/shape_and_slices, Conv/biases/_23, Conv/biases/Adam/_25, Conv/biases/Adam_1/_27, Conv/weights/_29, Conv/weights/Adam/_31, Conv/weights/Adam_1/_33, Conv_1/biases/_35, Conv_1/biases/Adam/_37, Conv_1/biases/Adam_1/_39, Conv_1/weights/_41, Conv_1/weights/Adam/_43, Conv_1/weights/Adam_1/_45, beta1_power/_47, beta2_power/_49, fully_connected/biases/_51, fully_connected/biases/Adam/_53, fully_connected/biases/Adam_1/_55, fully_connected/weights/_57, fully_connected/weights/Adam/_59, fully_connected/weights/Adam_1/_61, fully_connected_1/biases/_63, fully_connected_1/biases/Adam/_65, fully_connected_1/biases/Adam_1/_67, fully_connected_1/weights/_69, fully_connected_1/weights/Adam/_71, fully_connected_1/weights/Adam_1/_73)]]\n\nCaused by op 'save_1/SaveV2', defined at:\n  File \"c:\\users\\ablac\\miniconda3\\envs\\expressions\\lib\\runpy.py\", line 193, in _run_module_as_main\n    \"__main__\", mod_spec)\n  File \"c:\\users\\ablac\\miniconda3\\envs\\expressions\\lib\\runpy.py\", line 85, in _run_code\n    exec(code, run_globals)\n  File \"c:\\users\\ablac\\miniconda3\\envs\\expressions\\lib\\site-packages\\ipykernel_launcher.py\", line 16, in <module>\n    app.launch_new_instance()\n  File \"c:\\users\\ablac\\miniconda3\\envs\\expressions\\lib\\site-packages\\traitlets\\config\\application.py\", line 658, in launch_instance\n    app.start()\n  File \"c:\\users\\ablac\\miniconda3\\envs\\expressions\\lib\\site-packages\\ipykernel\\kernelapp.py\", line 505, in start\n    self.io_loop.start()\n  File \"c:\\users\\ablac\\miniconda3\\envs\\expressions\\lib\\site-packages\\tornado\\platform\\asyncio.py\", line 132, in start\n    self.asyncio_loop.run_forever()\n  File \"c:\\users\\ablac\\miniconda3\\envs\\expressions\\lib\\asyncio\\base_events.py\", line 427, in run_forever\n    self._run_once()\n  File \"c:\\users\\ablac\\miniconda3\\envs\\expressions\\lib\\asyncio\\base_events.py\", line 1440, in _run_once\n    handle._run()\n  File \"c:\\users\\ablac\\miniconda3\\envs\\expressions\\lib\\asyncio\\events.py\", line 145, in _run\n    self._callback(*self._args)\n  File \"c:\\users\\ablac\\miniconda3\\envs\\expressions\\lib\\site-packages\\tornado\\ioloop.py\", line 758, in _run_callback\n    ret = callback()\n  File \"c:\\users\\ablac\\miniconda3\\envs\\expressions\\lib\\site-packages\\tornado\\stack_context.py\", line 300, in null_wrapper\n    return fn(*args, **kwargs)\n  File \"c:\\users\\ablac\\miniconda3\\envs\\expressions\\lib\\site-packages\\tornado\\gen.py\", line 1233, in inner\n    self.run()\n  File \"c:\\users\\ablac\\miniconda3\\envs\\expressions\\lib\\site-packages\\tornado\\gen.py\", line 1147, in run\n    yielded = self.gen.send(value)\n  File \"c:\\users\\ablac\\miniconda3\\envs\\expressions\\lib\\site-packages\\ipykernel\\kernelbase.py\", line 357, in process_one\n    yield gen.maybe_future(dispatch(*args))\n  File \"c:\\users\\ablac\\miniconda3\\envs\\expressions\\lib\\site-packages\\tornado\\gen.py\", line 326, in wrapper\n    yielded = next(result)\n  File \"c:\\users\\ablac\\miniconda3\\envs\\expressions\\lib\\site-packages\\ipykernel\\kernelbase.py\", line 267, in dispatch_shell\n    yield gen.maybe_future(handler(stream, idents, msg))\n  File \"c:\\users\\ablac\\miniconda3\\envs\\expressions\\lib\\site-packages\\tornado\\gen.py\", line 326, in wrapper\n    yielded = next(result)\n  File \"c:\\users\\ablac\\miniconda3\\envs\\expressions\\lib\\site-packages\\ipykernel\\kernelbase.py\", line 534, in execute_request\n    user_expressions, allow_stdin,\n  File \"c:\\users\\ablac\\miniconda3\\envs\\expressions\\lib\\site-packages\\tornado\\gen.py\", line 326, in wrapper\n    yielded = next(result)\n  File \"c:\\users\\ablac\\miniconda3\\envs\\expressions\\lib\\site-packages\\ipykernel\\ipkernel.py\", line 294, in do_execute\n    res = shell.run_cell(code, store_history=store_history, silent=silent)\n  File \"c:\\users\\ablac\\miniconda3\\envs\\expressions\\lib\\site-packages\\ipykernel\\zmqshell.py\", line 536, in run_cell\n    return super(ZMQInteractiveShell, self).run_cell(*args, **kwargs)\n  File \"c:\\users\\ablac\\miniconda3\\envs\\expressions\\lib\\site-packages\\IPython\\core\\interactiveshell.py\", line 2819, in run_cell\n    raw_cell, store_history, silent, shell_futures)\n  File \"c:\\users\\ablac\\miniconda3\\envs\\expressions\\lib\\site-packages\\IPython\\core\\interactiveshell.py\", line 2845, in _run_cell\n    return runner(coro)\n  File \"c:\\users\\ablac\\miniconda3\\envs\\expressions\\lib\\site-packages\\IPython\\core\\async_helpers.py\", line 67, in _pseudo_sync_runner\n    coro.send(None)\n  File \"c:\\users\\ablac\\miniconda3\\envs\\expressions\\lib\\site-packages\\IPython\\core\\interactiveshell.py\", line 3020, in run_cell_async\n    interactivity=interactivity, compiler=compiler, result=result)\n  File \"c:\\users\\ablac\\miniconda3\\envs\\expressions\\lib\\site-packages\\IPython\\core\\interactiveshell.py\", line 3185, in run_ast_nodes\n    if (yield from self.run_code(code, result)):\n  File \"c:\\users\\ablac\\miniconda3\\envs\\expressions\\lib\\site-packages\\IPython\\core\\interactiveshell.py\", line 3267, in run_code\n    exec(code_obj, self.user_global_ns, self.user_ns)\n  File \"<ipython-input-18-e212846be9b4>\", line 7, in <module>\n    saver = tf.train.Saver()\n  File \"c:\\users\\ablac\\miniconda3\\envs\\expressions\\lib\\site-packages\\tensorflow\\python\\training\\saver.py\", line 1102, in __init__\n    self.build()\n  File \"c:\\users\\ablac\\miniconda3\\envs\\expressions\\lib\\site-packages\\tensorflow\\python\\training\\saver.py\", line 1114, in build\n    self._build(self._filename, build_save=True, build_restore=True)\n  File \"c:\\users\\ablac\\miniconda3\\envs\\expressions\\lib\\site-packages\\tensorflow\\python\\training\\saver.py\", line 1151, in _build\n    build_save=build_save, build_restore=build_restore)\n  File \"c:\\users\\ablac\\miniconda3\\envs\\expressions\\lib\\site-packages\\tensorflow\\python\\training\\saver.py\", line 792, in _build_internal\n    save_tensor = self._AddSaveOps(filename_tensor, saveables)\n  File \"c:\\users\\ablac\\miniconda3\\envs\\expressions\\lib\\site-packages\\tensorflow\\python\\training\\saver.py\", line 284, in _AddSaveOps\n    save = self.save_op(filename_tensor, saveables)\n  File \"c:\\users\\ablac\\miniconda3\\envs\\expressions\\lib\\site-packages\\tensorflow\\python\\training\\saver.py\", line 202, in save_op\n    tensors)\n  File \"c:\\users\\ablac\\miniconda3\\envs\\expressions\\lib\\site-packages\\tensorflow\\python\\ops\\gen_io_ops.py\", line 1804, in save_v2\n    shape_and_slices=shape_and_slices, tensors=tensors, name=name)\n  File \"c:\\users\\ablac\\miniconda3\\envs\\expressions\\lib\\site-packages\\tensorflow\\python\\framework\\op_def_library.py\", line 787, in _apply_op_helper\n    op_def=op_def)\n  File \"c:\\users\\ablac\\miniconda3\\envs\\expressions\\lib\\site-packages\\tensorflow\\python\\util\\deprecation.py\", line 488, in new_func\n    return func(*args, **kwargs)\n  File \"c:\\users\\ablac\\miniconda3\\envs\\expressions\\lib\\site-packages\\tensorflow\\python\\framework\\ops.py\", line 3274, in create_op\n    op_def=op_def)\n  File \"c:\\users\\ablac\\miniconda3\\envs\\expressions\\lib\\site-packages\\tensorflow\\python\\framework\\ops.py\", line 1770, in __init__\n    self._traceback = tf_stack.extract_stack()\n\nUnknownError (see above for traceback): Failed to rename: checkpoints/model.ckpt.data-00000-of-00001.tempstate9252437243531276833 to: checkpoints/model.ckpt.data-00000-of-00001 : Access is denied.\r\n; Input/output error\n\t [[node save_1/SaveV2 (defined at <ipython-input-18-e212846be9b4>:7)  = SaveV2[dtypes=[DT_FLOAT, DT_FLOAT, DT_FLOAT, DT_FLOAT, DT_FLOAT, ..., DT_FLOAT, DT_FLOAT, DT_FLOAT, DT_FLOAT, DT_FLOAT], _device=\"/job:localhost/replica:0/task:0/device:CPU:0\"](_arg_save_1/Const_0_0, save_1/SaveV2/tensor_names, save_1/SaveV2/shape_and_slices, Conv/biases/_23, Conv/biases/Adam/_25, Conv/biases/Adam_1/_27, Conv/weights/_29, Conv/weights/Adam/_31, Conv/weights/Adam_1/_33, Conv_1/biases/_35, Conv_1/biases/Adam/_37, Conv_1/biases/Adam_1/_39, Conv_1/weights/_41, Conv_1/weights/Adam/_43, Conv_1/weights/Adam_1/_45, beta1_power/_47, beta2_power/_49, fully_connected/biases/_51, fully_connected/biases/Adam/_53, fully_connected/biases/Adam_1/_55, fully_connected/weights/_57, fully_connected/weights/Adam/_59, fully_connected/weights/Adam_1/_61, fully_connected_1/biases/_63, fully_connected_1/biases/Adam/_65, fully_connected_1/biases/Adam_1/_67, fully_connected_1/weights/_69, fully_connected_1/weights/Adam/_71, fully_connected_1/weights/Adam_1/_73)]]\n"
     ]
    }
   ],
   "source": [
    "epochs = 20\n",
    "learn_rate = .0001\n",
    "batch_size = 32\n",
    "\n",
    "with tf.Session() as sess:\n",
    "    sess.run(tf.global_variables_initializer())\n",
    "    saver = tf.train.Saver()\n",
    "    for epoch in range(epochs):\n",
    "        batch_i = 1\n",
    "        \n",
    "        for x_batch,y_batch in next_batch(x_train,y_train,batch_size):\n",
    "            sess.run(optimizer,feed_dict={x:x_batch,y:y_batch,lr:learn_rate})\n",
    "        \n",
    "            if batch_i % 10 == 0:\n",
    "            \n",
    "                valacc = sess.run(accuracy,feed_dict={x:x_val,y:y_val})\n",
    "                loss, trainacc = sess.run([loss_op, accuracy], feed_dict={x:x_train,y:y_train})\n",
    "                print(\"epoch:{} batch:{}\\ttrain accuracy: {}\\tloss: {}\\tval acc: {}\"\n",
    "                 .format(epoch,batch_i,round(float(trainacc),4),round(float(loss),4), round(float(valacc),4)))\n",
    "                \n",
    "                \n",
    "            batch_i += 1\n",
    "    X,Y = balanced_subset(images,nplabels)\n",
    "    X,Y = shuffle(X,Y)\n",
    "    #print(sess.run(prediction,feed_dict={x:X,y:Y}))\n",
    "    \n",
    "  \n",
    "    save_path = saver.save(sess, \"checkpoints/model.ckpt\")\n",
    "\n",
    "            "
   ]
  },
  {
   "cell_type": "code",
   "execution_count": 31,
   "metadata": {},
   "outputs": [],
   "source": [
    "batch_i = np.array(0)\n",
    "trainacc = np.array(0.238473172372)\n",
    "loss = np.array(12314.52365646352)"
   ]
  },
  {
   "cell_type": "code",
   "execution_count": 34,
   "metadata": {},
   "outputs": [
    {
     "name": "stdout",
     "output_type": "stream",
     "text": [
      "batch: 0\ttrain accuracy: 0.2385\tloss: 12314.5237\n"
     ]
    }
   ],
   "source": [
    "print(\"batch: {}\\ttrain accuracy: {}\\tloss: {}\"\n",
    "                      .format(batch_i,np.round(trainacc,4),np.round(loss,4)))"
   ]
  },
  {
   "cell_type": "code",
   "execution_count": 36,
   "metadata": {},
   "outputs": [],
   "source": [
    "num_classes = len(count.most_common())\n",
    "x = tf.placeholder(dtype=tf.float64, shape=(None,128,128),name='x')\n",
    "y = tf.placeholder(dtype=tf.int32, shape=(None),name=\"y\")\n",
    "lr = tf.placeholder(dtype=tf.float32, shape=[], name=\"lr\")"
   ]
  },
  {
   "cell_type": "code",
   "execution_count": 38,
   "metadata": {},
   "outputs": [],
   "source": [
    "#batch,128,128,1\n",
    "\n",
    "#first convolution\n",
    "conv = tf.contrib.layers.conv2d(\n",
    "    reshaped,\n",
    "    32,\n",
    "    (9,9),\n",
    "    stride=(1,1),\n",
    "    padding='VALID',\n",
    "    weights_initializer=tf.initializers.random_normal)\n",
    "#batch,120,120,32\n",
    "\n",
    "#subsample\n",
    "pool = tf.contrib.layers.max_pool2d(\n",
    "    conv,\n",
    "    (4,4),\n",
    "    stride=(4,4))\n",
    "#batch,30,30,32\n",
    "\n",
    "#second convolution\n",
    "conv2 = tf.contrib.layers.conv2d(\n",
    "    pool,\n",
    "    64,\n",
    "    (11,11),\n",
    "    stride=(1,1),\n",
    "    padding='VALID',\n",
    "    weights_initializer=tf.initializers.random_normal)\n",
    "#batch,20,20,64\n",
    "\n",
    "#subsample\n",
    "pool2 = tf.contrib.layers.max_pool2d(\n",
    "    conv2,\n",
    "    (4,4),\n",
    "    stride=(4,4))\n",
    "#batch,5,5,64\n",
    "\n",
    "#flatten\n",
    "flat = tf.contrib.layers.flatten(pool2)\n",
    "#batch,1600\n",
    "\n",
    "#fully connected\n",
    "fc = tf.contrib.layers.fully_connected(\n",
    "    flat,\n",
    "    256,\n",
    "    activation_fn=tf.nn.leaky_relu)\n",
    "\n",
    "#batch,256\n",
    "logits = tf.contrib.layers.fully_connected(\n",
    "    fc,\n",
    "    num_classes,\n",
    "    activation_fn=None)\n",
    "\n",
    "prediction = tf.nn.softmax(logits,)"
   ]
  },
  {
   "cell_type": "code",
   "execution_count": 28,
   "metadata": {},
   "outputs": [
    {
     "name": "stdout",
     "output_type": "stream",
     "text": [
      "INFO:tensorflow:Restoring parameters from checkpoints/model.ckpt\n"
     ]
    }
   ],
   "source": [
    "with tf.Session() as sess:\n",
    "    saver = tf.train.Saver()\n",
    "    saver.restore(sess, \"checkpoints/model.ckpt\")\n",
    "    sess.run()"
   ]
  },
  {
   "cell_type": "code",
   "execution_count": null,
   "metadata": {},
   "outputs": [],
   "source": []
  }
 ],
 "metadata": {
  "kernelspec": {
   "display_name": "Python 3",
   "language": "python",
   "name": "python3"
  },
  "language_info": {
   "codemirror_mode": {
    "name": "ipython",
    "version": 3
   },
   "file_extension": ".py",
   "mimetype": "text/x-python",
   "name": "python",
   "nbconvert_exporter": "python",
   "pygments_lexer": "ipython3",
   "version": "3.6.7"
  }
 },
 "nbformat": 4,
 "nbformat_minor": 2
}
