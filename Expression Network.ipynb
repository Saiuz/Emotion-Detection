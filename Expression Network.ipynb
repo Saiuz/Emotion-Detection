{
 "cells": [
  {
   "cell_type": "code",
   "execution_count": 1,
   "metadata": {},
   "outputs": [],
   "source": [
    "import numpy as np\n",
    "import csv"
   ]
  },
  {
   "cell_type": "code",
   "execution_count": 2,
   "metadata": {},
   "outputs": [
    {
     "data": {
      "text/plain": [
       "159"
      ]
     },
     "execution_count": 2,
     "metadata": {},
     "output_type": "execute_result"
    }
   ],
   "source": [
    "labels = []\n",
    "\n",
    "with open(\"images/faceLabels.csv\") as csvfile:\n",
    "    reader = csv.reader(csvfile, delimiter=\",\")\n",
    "    for row in reader:\n",
    "        labels.append(row)\n",
    "labels = np.array(labels[1:])\n",
    "\n",
    "len(labels)"
   ]
  },
  {
   "cell_type": "code",
   "execution_count": 3,
   "metadata": {},
   "outputs": [],
   "source": [
    "from skimage import color\n",
    "from skimage import io\n",
    "from skimage.transform import resize\n",
    "import matplotlib.pyplot as plt\n",
    "from tqdm import tqdm"
   ]
  },
  {
   "cell_type": "code",
   "execution_count": 4,
   "metadata": {},
   "outputs": [],
   "source": [
    "#if true, re-reads and saves all images to numpy array\n",
    "if False:\n",
    "    images = []\n",
    "    size = (128,128)\n",
    "    print(\"reading in images...\")\n",
    "    for line in tqdm(labels):\n",
    "        ##read and convert to Black and White\n",
    "        img = io.imread('images/'+line[0], as_grey=True)\n",
    "        img = resize(img, size)\n",
    "        images.append(img)\n",
    "    print(\"saving...\")\n",
    "    \n",
    "    npimages = np.zeros(shape=(len(images),*size), dtype=np.float64)\n",
    "    for i,im in enumerate(images):\n",
    "        npimages[i] = im\n",
    "    labels = np.array(labels[:,1],dtype=str)\n",
    "    print(labels)\n",
    "    np.save(\"data/labels.npy\",labels)\n",
    "    np.save(\"data/images.npy\",npimages)\n",
    "    "
   ]
  },
  {
   "cell_type": "code",
   "execution_count": 5,
   "metadata": {},
   "outputs": [
    {
     "name": "stdout",
     "output_type": "stream",
     "text": [
      "float64\n",
      "<U11\n"
     ]
    }
   ],
   "source": [
    "images = np.load(\"data/images.npy\")\n",
    "labels = np.load(\"data/labels.npy\")\n",
    "print(images.dtype)\n",
    "print(labels.dtype)"
   ]
  },
  {
   "cell_type": "code",
   "execution_count": 6,
   "metadata": {},
   "outputs": [
    {
     "name": "stdout",
     "output_type": "stream",
     "text": [
      "\t\tHappy\n"
     ]
    },
    {
     "data": {
      "image/png": "[encoded data removed]",
      "text/plain": [
       "<Figure size 432x288 with 1 Axes>"
      ]
     },
     "metadata": {
      "needs_background": "light"
     },
     "output_type": "display_data"
    }
   ],
   "source": [
    "idx = 111\n",
    "plt.imshow(images[idx], cmap=\"gray\")\n",
    "print(\"\\t\\t\"+str(labels[idx]))"
   ]
  },
  {
   "cell_type": "code",
   "execution_count": 7,
   "metadata": {},
   "outputs": [],
   "source": [
    "import random\n",
    "def balanced_subset(images,labels):\n",
    "    #np.warnings.filterwarnings('ignore')\n",
    "    count = Counter(labels)\n",
    "    perclass_count = np.array([[c,count[c]] for c in count.keys()])\n",
    "    max_n = min(perclass_count[:,1])\n",
    "    \n",
    "    perclass_indexes = {cname:random.sample(range(0, n), max_n) for cname,n in perclass_count}\n",
    "    perclass_index = {label:0 for label in count.keys()}\n",
    "    \n",
    "    newlabels = []\n",
    "    newimages = []\n",
    "    total = 0\n",
    "    for i in range(len(labels)):\n",
    "        \n",
    "        label = labels[i]\n",
    "\n",
    "        if perclass_index[label] in perclass_indexes[label]:\n",
    "            total += 1\n",
    "            newlabels.append(label)\n",
    "            newimages.append(images[i])\n",
    "        perclass_index[label] += 1\n",
    "            \n",
    "    newimages, newlabels = np.array(newimages),np.array(newlabels)   \n",
    "        \n",
    "    #print(perclass_count,perclass_indexes)\n",
    "    return newimages, newlabels"
   ]
  },
  {
   "cell_type": "code",
   "execution_count": 8,
   "metadata": {},
   "outputs": [
    {
     "name": "stdout",
     "output_type": "stream",
     "text": [
      "count: [('happy', 40), ('sad', 40), ('angry', 40), ('neutral', 39)] \n",
      "\n"
     ]
    }
   ],
   "source": [
    "from collections import Counter\n",
    "labels = [x.lower() for x in labels]\n",
    "count = Counter(labels)\n",
    "#print(c.most_common())\n",
    "label2int = {y:x for x,(y,_) in enumerate(count.most_common())}\n",
    "int2label = {label2int[key]:key for key in label2int.keys()}\n",
    "\n",
    "nplabels = np.array([label2int[x] for x in labels])\n",
    "assert(len(nplabels) == len(images))\n",
    "print(\"count:\",count.most_common(),\"\\n\")"
   ]
  },
  {
   "cell_type": "code",
   "execution_count": 9,
   "metadata": {},
   "outputs": [
    {
     "data": {
      "text/plain": [
       "16"
      ]
     },
     "execution_count": 9,
     "metadata": {},
     "output_type": "execute_result"
    }
   ],
   "source": [
    "from sklearn.model_selection import train_test_split\n",
    "from sklearn.utils import shuffle\n",
    "x_train, x_val, y_train, y_val = train_test_split(images, nplabels, test_size=.1)\n",
    "len(y_val)"
   ]
  },
  {
   "cell_type": "code",
   "execution_count": 10,
   "metadata": {},
   "outputs": [],
   "source": [
    "def next_batch(images, labels, batch_size):\n",
    "    images, labels = shuffle(images,labels)\n",
    "    for i in range(0,len(labels),batch_size):\n",
    "        if i+batch_size >= len(labels):\n",
    "            yield images[i:],labels[i:]\n",
    "        else:\n",
    "            yield images[i:i+batch_size],labels[i:i+batch_size]"
   ]
  },
  {
   "cell_type": "code",
   "execution_count": 11,
   "metadata": {},
   "outputs": [
    {
     "name": "stdout",
     "output_type": "stream",
     "text": [
      "(128, 128)\n"
     ]
    }
   ],
   "source": [
    "print(images[0].shape)"
   ]
  },
  {
   "cell_type": "markdown",
   "metadata": {},
   "source": [
    "# Build Model"
   ]
  },
  {
   "cell_type": "code",
   "execution_count": 12,
   "metadata": {},
   "outputs": [],
   "source": [
    "import tensorflow as tf"
   ]
  },
  {
   "cell_type": "code",
   "execution_count": 13,
   "metadata": {},
   "outputs": [],
   "source": [
    "num_classes = len(count.most_common())\n",
    "x = tf.placeholder(dtype=tf.float64, shape=(None,128,128),name='x')\n",
    "y = tf.placeholder(dtype=tf.int32, shape=(None),name=\"y\")\n",
    "lr = tf.placeholder(dtype=tf.float32, shape=[], name=\"lr\")"
   ]
  },
  {
   "cell_type": "code",
   "execution_count": 14,
   "metadata": {},
   "outputs": [],
   "source": [
    "one_hot = tf.one_hot(y,num_classes)\n",
    "reshaped = tf.expand_dims(x,-1)"
   ]
  },
  {
   "cell_type": "code",
   "execution_count": 27,
   "metadata": {},
   "outputs": [],
   "source": [
    "#batch,128,128,1\n",
    "\n",
    "#first convolution\n",
    "conv = tf.contrib.layers.conv2d(\n",
    "    reshaped,\n",
    "    32,\n",
    "    (9,9),\n",
    "    stride=(1,1),\n",
    "    padding='VALID',\n",
    "    weights_initializer=tf.initializers.random_normal)\n",
    "#batch,120,120,32\n",
    "\n",
    "#subsample\n",
    "pool = tf.contrib.layers.max_pool2d(\n",
    "    conv,\n",
    "    (4,4),\n",
    "    stride=(4,4))\n",
    "#batch,30,30,32\n",
    "\n",
    "#second convolution\n",
    "conv2 = tf.contrib.layers.conv2d(\n",
    "    pool,\n",
    "    64,\n",
    "    (11,11),\n",
    "    stride=(1,1),\n",
    "    padding='VALID',\n",
    "    weights_initializer=tf.initializers.random_normal)\n",
    "#batch,20,20,64\n",
    "\n",
    "#subsample\n",
    "pool2 = tf.contrib.layers.max_pool2d(\n",
    "    conv2,\n",
    "    (4,4),\n",
    "    stride=(4,4))\n",
    "#batch,5,5,64\n",
    "\n",
    "#flatten\n",
    "flat = tf.contrib.layers.flatten(pool2)\n",
    "#batch,1600\n",
    "\n",
    "#fully connected\n",
    "fc = tf.contrib.layers.fully_connected(\n",
    "    flat,\n",
    "    256,\n",
    "    activation_fn=tf.nn.leaky_relu)\n",
    "\n",
    "#batch,256\n",
    "logits = tf.contrib.layers.fully_connected(\n",
    "    fc,\n",
    "    num_classes,\n",
    "    activation_fn=None)\n",
    "\n",
    "prediction = tf.nn.softmax(logits,)"
   ]
  },
  {
   "cell_type": "code",
   "execution_count": 28,
   "metadata": {},
   "outputs": [],
   "source": [
    "cross_entropy = tf.nn.softmax_cross_entropy_with_logits_v2(logits=logits, labels=one_hot)\n",
    "loss_op = tf.reduce_mean(cross_entropy)\n",
    "optimizer = tf.train.AdamOptimizer(lr).minimize(loss_op)\n",
    "correct_pred = tf.equal(tf.argmax(prediction,1), tf.argmax(one_hot,1))\n",
    "accuracy = tf.reduce_mean(tf.cast(correct_pred, tf.float32), name='accuracy')"
   ]
  },
  {
   "cell_type": "code",
   "execution_count": 30,
   "metadata": {},
   "outputs": [
    {
     "name": "stdout",
     "output_type": "stream",
     "text": [
      "epoch 0 \tbatch: 10\ttrain accuracy: 0.2867\tloss: 121.6415\tval acc: 0.0625\n",
      "epoch 1 \tbatch: 10\ttrain accuracy: 0.3217\tloss: 43.7176\tval acc: 0.5\n",
      "epoch 2 \tbatch: 10\ttrain accuracy: 0.5035\tloss: 13.9679\tval acc: 0.5625\n",
      "epoch 3 \tbatch: 10\ttrain accuracy: 0.5175\tloss: 24.3708\tval acc: 0.4375\n",
      "epoch 4 \tbatch: 10\ttrain accuracy: 0.7972\tloss: 3.4066\tval acc: 0.8125\n",
      "epoch 5 \tbatch: 10\ttrain accuracy: 0.7063\tloss: 5.1909\tval acc: 0.75\n",
      "epoch 6 \tbatch: 10\ttrain accuracy: 0.7762\tloss: 3.8883\tval acc: 0.625\n",
      "epoch 7 \tbatch: 10\ttrain accuracy: 0.8951\tloss: 0.9979\tval acc: 0.875\n",
      "epoch 8 \tbatch: 10\ttrain accuracy: 0.8531\tloss: 1.6588\tval acc: 0.75\n",
      "epoch 9 \tbatch: 10\ttrain accuracy: 0.7552\tloss: 3.0052\tval acc: 0.8125\n",
      "epoch 10 \tbatch: 10\ttrain accuracy: 0.8741\tloss: 1.5503\tval acc: 0.875\n",
      "epoch 11 \tbatch: 10\ttrain accuracy: 0.7203\tloss: 11.6463\tval acc: 0.625\n",
      "epoch 12 \tbatch: 10\ttrain accuracy: 0.7133\tloss: 4.2664\tval acc: 0.75\n",
      "epoch 13 \tbatch: 10\ttrain accuracy: 0.9441\tloss: 0.4744\tval acc: 0.9375\n",
      "epoch 14 \tbatch: 10\ttrain accuracy: 0.9371\tloss: 0.4334\tval acc: 1.0\n",
      "epoch 15 \tbatch: 10\ttrain accuracy: 0.972\tloss: 0.151\tval acc: 1.0\n",
      "epoch 16 \tbatch: 10\ttrain accuracy: 1.0\tloss: 0.0\tval acc: 0.9375\n",
      "epoch 17 \tbatch: 10\ttrain accuracy: 1.0\tloss: 0.0\tval acc: 0.9375\n",
      "epoch 18 \tbatch: 10\ttrain accuracy: 0.993\tloss: 0.0058\tval acc: 0.9375\n",
      "epoch 19 \tbatch: 10\ttrain accuracy: 0.993\tloss: 0.0366\tval acc: 0.9375\n",
      "epoch 20 \tbatch: 10\ttrain accuracy: 0.986\tloss: 0.1475\tval acc: 0.9375\n",
      "epoch 21 \tbatch: 10\ttrain accuracy: 0.972\tloss: 0.3429\tval acc: 0.9375\n",
      "epoch 22 \tbatch: 10\ttrain accuracy: 0.951\tloss: 0.4871\tval acc: 0.9375\n",
      "epoch 23 \tbatch: 10\ttrain accuracy: 1.0\tloss: 0.0\tval acc: 0.9375\n",
      "epoch 24 \tbatch: 10\ttrain accuracy: 0.951\tloss: 0.2361\tval acc: 0.9375\n",
      "epoch 25 \tbatch: 10\ttrain accuracy: 1.0\tloss: 0.0009\tval acc: 1.0\n",
      "epoch 26 \tbatch: 10\ttrain accuracy: 1.0\tloss: 0.0\tval acc: 1.0\n",
      "epoch 27 \tbatch: 10\ttrain accuracy: 0.993\tloss: 0.0583\tval acc: 0.9375\n",
      "epoch 28 \tbatch: 10\ttrain accuracy: 0.9371\tloss: 0.3038\tval acc: 0.8125\n",
      "epoch 29 \tbatch: 10\ttrain accuracy: 0.993\tloss: 0.0679\tval acc: 0.9375\n",
      "epoch 30 \tbatch: 10\ttrain accuracy: 1.0\tloss: 0.0001\tval acc: 0.9375\n",
      "epoch 31 \tbatch: 10\ttrain accuracy: 1.0\tloss: 0.0\tval acc: 0.9375\n",
      "epoch 32 \tbatch: 10\ttrain accuracy: 0.979\tloss: 0.1029\tval acc: 0.875\n",
      "epoch 33 \tbatch: 10\ttrain accuracy: 1.0\tloss: 0.0007\tval acc: 0.9375\n",
      "epoch 34 \tbatch: 10\ttrain accuracy: 0.993\tloss: 0.0847\tval acc: 0.9375\n",
      "epoch 35 \tbatch: 10\ttrain accuracy: 1.0\tloss: 0.0\tval acc: 0.9375\n",
      "epoch 36 \tbatch: 10\ttrain accuracy: 0.9371\tloss: 0.469\tval acc: 0.8125\n",
      "epoch 37 \tbatch: 10\ttrain accuracy: 0.993\tloss: 0.0081\tval acc: 0.9375\n",
      "epoch 38 \tbatch: 10\ttrain accuracy: 0.958\tloss: 0.2891\tval acc: 0.875\n",
      "epoch 39 \tbatch: 10\ttrain accuracy: 0.7552\tloss: 5.2491\tval acc: 0.75\n"
     ]
    }
   ],
   "source": [
    "epochs = 40\n",
    "learn_rate = .0001\n",
    "batch_size = 8\n",
    "\n",
    "with tf.Session() as sess:\n",
    "    sess.run(tf.global_variables_initializer())\n",
    "    saver = tf.train.Saver()\n",
    "    for epoch in range(epochs):\n",
    "        batch_i = 1\n",
    "        #for X,Y in next_batch(x_train,y_train,batch_size):\n",
    "        #X,Y = balanced_subset(images,nplabels)\n",
    "        #X,Y = shuffle(X,Y)\n",
    "        \n",
    "        for x_batch,y_batch in next_batch(x_train,y_train,batch_size):\n",
    "            #print(x.dtype)\n",
    "            sess.run(optimizer,feed_dict={x:x_batch,y:y_batch,lr:learn_rate})\n",
    "            \n",
    "            ###TESTING###\n",
    "            #if epoch == epochs-1:\n",
    "            #    print()\n",
    "            #    \n",
    "            #    logit_output,onehot_output = sess.run([logits,one_hot],feed_dict={x:x_batch,y:y_batch})\n",
    "            #    print(\"onehot output \\n{}\\nlogit output\\n{}\".format(onehot_output,str(logit_output)))\n",
    "            #    idx = np.random.randint(0,len(x_batch))\n",
    "            #    plt.imshow(x_batch[idx], cmap=\"gray\")\n",
    "            #    print(\"\\t\\t{}\\tindex:{}\".format(str(int2label[y_batch[idx]]),idx))\n",
    "            #\n",
    "            #    break\n",
    "            ###TESTING###\n",
    "        \n",
    "            if batch_i % 10 == 0:\n",
    "            \n",
    "                valacc = sess.run(accuracy,feed_dict={x:x_val,y:y_val})\n",
    "                loss, trainacc = sess.run([loss_op, accuracy], feed_dict={x:x_train,y:y_train})\n",
    "                print(\"epoch {} \\tbatch: {}\\ttrain accuracy: {}\\tloss: {}\\tval acc: {}\"\n",
    "                 .format(epoch,batch_i,round(float(trainacc),4),round(float(loss),4), round(float(valacc),4)))\n",
    "                \n",
    "                \n",
    "            batch_i += 1\n",
    "    X,Y = balanced_subset(images,nplabels)\n",
    "    X,Y = shuffle(X,Y)\n",
    "    #print(sess.run(prediction,feed_dict={x:X,y:Y}))\n",
    "    \n",
    "    ###COMMENTED OUT FOR TESTING###\n",
    "    #save_path = saver.save(sess, \"checkpoints/model.ckpt\")\n",
    "\n",
    "            "
   ]
  },
  {
   "cell_type": "code",
   "execution_count": 31,
   "metadata": {},
   "outputs": [],
   "source": [
    "batch_i = np.array(0)\n",
    "trainacc = np.array(0.238473172372)\n",
    "loss = np.array(12314.52365646352)"
   ]
  },
  {
   "cell_type": "code",
   "execution_count": 34,
   "metadata": {},
   "outputs": [
    {
     "name": "stdout",
     "output_type": "stream",
     "text": [
      "batch: 0\ttrain accuracy: 0.2385\tloss: 12314.5237\n"
     ]
    }
   ],
   "source": [
    "print(\"batch: {}\\ttrain accuracy: {}\\tloss: {}\"\n",
    "                      .format(batch_i,np.round(trainacc,4),np.round(loss,4)))"
   ]
  },
  {
   "cell_type": "code",
   "execution_count": 28,
   "metadata": {},
   "outputs": [
    {
     "name": "stdout",
     "output_type": "stream",
     "text": [
      "INFO:tensorflow:Restoring parameters from checkpoints/model.ckpt\n"
     ]
    }
   ],
   "source": [
    "with tf.Session() as sess:\n",
    "    saver = tf.train.Saver()\n",
    "    saver.restore(sess, \"checkpoints/model.ckpt\")\n",
    "    sess.run()"
   ]
  },
  {
   "cell_type": "code",
   "execution_count": null,
   "metadata": {},
   "outputs": [],
   "source": []
  }
 ],
 "metadata": {
  "kernelspec": {
   "display_name": "Python 3",
   "language": "python",
   "name": "python3"
  },
  "language_info": {
   "codemirror_mode": {
    "name": "ipython",
    "version": 3
   },
   "file_extension": ".py",
   "mimetype": "text/x-python",
   "name": "python",
   "nbconvert_exporter": "python",
   "pygments_lexer": "ipython3",
   "version": "3.6.7"
  }
 },
 "nbformat": 4,
 "nbformat_minor": 2
}
