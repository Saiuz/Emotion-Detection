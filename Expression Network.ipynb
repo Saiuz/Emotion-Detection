{
 "cells": [
  {
   "cell_type": "code",
   "execution_count": 5,
   "metadata": {},
   "outputs": [],
   "source": [
    "import numpy as np\n",
    "import csv"
   ]
  },
  {
   "cell_type": "code",
   "execution_count": 6,
   "metadata": {},
   "outputs": [
    {
     "data": {
      "text/plain": [
       "array([['face1.png', 'Neutral'],\n",
       "       ['face2.png', 'Neutral'],\n",
       "       ['face3.png', 'Neutral'],\n",
       "       ['face4.png', 'Neutral'],\n",
       "       ['face5.png', 'Happy'],\n",
       "       ['face6.png', 'Happy'],\n",
       "       ['face7.png', 'Happy'],\n",
       "       ['face8.png', 'Happy'],\n",
       "       ['face9.png', 'Happy'],\n",
       "       ['face10.png', 'Happy'],\n",
       "       ['face11.png', 'Angry'],\n",
       "       ['face12.png', 'Angry'],\n",
       "       ['face13.png', 'Sad'],\n",
       "       ['face14.png', 'Neutral'],\n",
       "       ['face15.png', 'Sad'],\n",
       "       ['face16.png', 'Sad'],\n",
       "       ['face16.png', 'Happy'],\n",
       "       ['face17.png', 'Happy'],\n",
       "       ['face18.png', 'Happy'],\n",
       "       ['face19.png', 'Happy'],\n",
       "       ['face20.png', 'Angry'],\n",
       "       ['face21.png', 'Sad'],\n",
       "       ['face22.png', 'Sad']], dtype='<U10')"
      ]
     },
     "execution_count": 6,
     "metadata": {},
     "output_type": "execute_result"
    }
   ],
   "source": [
    "labels = []\n",
    "\n",
    "with open(\"data/faceLabels.csv\") as csvfile:\n",
    "    reader = csv.reader(csvfile, delimiter=\",\")\n",
    "    for row in reader:\n",
    "        labels.append(row)\n",
    "labels = np.array(labels[1:])\n",
    "\n",
    "labels"
   ]
  },
  {
   "cell_type": "code",
   "execution_count": 7,
   "metadata": {},
   "outputs": [],
   "source": [
    "from skimage import color\n",
    "from skimage import io\n",
    "from skimage.transform import resize\n",
    "import matplotlib.pyplot as plt\n",
    "from tqdm import tqdm"
   ]
  },
  {
   "cell_type": "code",
   "execution_count": 9,
   "metadata": {},
   "outputs": [
    {
     "name": "stdout",
     "output_type": "stream",
     "text": [
      "reading in images...\n"
     ]
    },
    {
     "name": "stderr",
     "output_type": "stream",
     "text": [
      "  0%|                                                                                           | 0/23 [00:00<?, ?it/s]c:\\users\\ablac\\miniconda3\\envs\\expressions\\lib\\site-packages\\skimage\\transform\\_warps.py:105: UserWarning: The default mode, 'constant', will be changed to 'reflect' in skimage 0.15.\n",
      "  warn(\"The default mode, 'constant', will be changed to 'reflect' in \"\n",
      "c:\\users\\ablac\\miniconda3\\envs\\expressions\\lib\\site-packages\\skimage\\transform\\_warps.py:110: UserWarning: Anti-aliasing will be enabled by default in skimage 0.15 to avoid aliasing artifacts when down-sampling images.\n",
      "  warn(\"Anti-aliasing will be enabled by default in skimage 0.15 to \"\n",
      "100%|█████████████████████████████████████████████████████████████████████████████████| 23/23 [00:00<00:00, 395.44it/s]\n"
     ]
    },
    {
     "name": "stdout",
     "output_type": "stream",
     "text": [
      "saving...\n"
     ]
    }
   ],
   "source": [
    "#if true, re-reads and saves all images to numpy array\n",
    "if True:\n",
    "    images = []\n",
    "    size = (128,128)\n",
    "    print(\"reading in images...\")\n",
    "    for line in tqdm(labels):\n",
    "        ##read and convert to Black and White\n",
    "        img = io.imread('data/'+line[0], as_grey=True)\n",
    "        img = resize(img, size)\n",
    "        images.append(img)\n",
    "    print(\"saving...\")\n",
    "    \n",
    "    npimages = np.zeros(shape=(len(images),*size), dtype=np.float64)\n",
    "    for i,im in enumerate(images):\n",
    "        npimages[i] = im\n",
    "    labels = np.array(labels[:,1],dtype=str)\n",
    "    print(labels)\n",
    "    np.save(\"data/labels.npy\",labels)\n",
    "    np.save(\"data/images.npy\",npimages)\n",
    "    "
   ]
  },
  {
   "cell_type": "code",
   "execution_count": 10,
   "metadata": {},
   "outputs": [
    {
     "name": "stdout",
     "output_type": "stream",
     "text": [
      "float64\n",
      "<U10\n"
     ]
    }
   ],
   "source": [
    "images = np.load(\"data/images.npy\")\n",
    "labels = np.load(\"data/labels.npy\")\n",
    "print(images.dtype)\n",
    "print(labels.dtype)"
   ]
  },
  {
   "cell_type": "code",
   "execution_count": 11,
   "metadata": {},
   "outputs": [
    {
     "name": "stdout",
     "output_type": "stream",
     "text": [
      "\t\tNeutral\n"
     ]
    },
    {
     "data": {
      "image/png": "[encoded data removed]",
      "text/plain": [
       "<Figure size 432x288 with 1 Axes>"
      ]
     },
     "metadata": {
      "needs_background": "light"
     },
     "output_type": "display_data"
    }
   ],
   "source": [
    "idx = 0\n",
    "plt.imshow(images[idx], cmap=\"gray\")\n",
    "print(\"\\t\\t\"+str(labels[idx]))"
   ]
  },
  {
   "cell_type": "code",
   "execution_count": 7,
   "metadata": {},
   "outputs": [],
   "source": [
    "import random\n",
    "def balanced_subset(images,labels):\n",
    "    #np.warnings.filterwarnings('ignore')\n",
    "    count = Counter(labels)\n",
    "    perclass_count = np.array([[c,count[c]] for c in count.keys()])\n",
    "    max_n = min(perclass_count[:,1])\n",
    "    \n",
    "    perclass_indexes = {cname:random.sample(range(0, n), max_n) for cname,n in perclass_count}\n",
    "    perclass_index = {label:0 for label in count.keys()}\n",
    "    \n",
    "    newlabels = []\n",
    "    newimages = []\n",
    "    total = 0\n",
    "    for i in range(len(labels)):\n",
    "        \n",
    "        label = labels[i]\n",
    "\n",
    "        if perclass_index[label] in perclass_indexes[label]:\n",
    "            total += 1\n",
    "            newlabels.append(label)\n",
    "            newimages.append(images[i])\n",
    "        perclass_index[label] += 1\n",
    "            \n",
    "    newimages, newlabels = np.array(newimages),np.array(newlabels)   \n",
    "        \n",
    "    #print(perclass_count,perclass_indexes)\n",
    "    return newimages, newlabels"
   ]
  },
  {
   "cell_type": "code",
   "execution_count": 8,
   "metadata": {},
   "outputs": [
    {
     "name": "stdout",
     "output_type": "stream",
     "text": [
      "count: [('neutral', 6868), ('happiness', 5696), ('surprise', 368), ('sadness', 268), ('anger', 252), ('disgust', 208), ('fear', 21), ('contempt', 9)] \n",
      "\n"
     ]
    }
   ],
   "source": [
    "from collections import Counter\n",
    "labels = [x.lower() for x in labels]\n",
    "count = Counter(labels)\n",
    "#print(c.most_common())\n",
    "label2int = {y:x for x,(y,_) in enumerate(count.most_common())}\n",
    "\n",
    "nplabels = np.array([label2int[x] for x in labels])\n",
    "assert(len(nplabels) == len(images))\n",
    "print(\"count:\",count.most_common(),\"\\n\")\n",
    "\n",
    "\n"
   ]
  },
  {
   "cell_type": "code",
   "execution_count": 9,
   "metadata": {},
   "outputs": [
    {
     "data": {
      "text/plain": [
       "137"
      ]
     },
     "execution_count": 9,
     "metadata": {},
     "output_type": "execute_result"
    }
   ],
   "source": [
    "from sklearn.model_selection import train_test_split\n",
    "from sklearn.utils import shuffle\n",
    "x_train, x_val, y_train, y_val = train_test_split(images, nplabels, test_size=.01)\n",
    "len(y_val)"
   ]
  },
  {
   "cell_type": "code",
   "execution_count": 10,
   "metadata": {},
   "outputs": [],
   "source": [
    "def next_batch(images, labels, batch_size):\n",
    "    for i in range(0,len(labels),batch_size):\n",
    "        if i+batch_size >= len(labels):\n",
    "            yield images[i:],labels[i:]\n",
    "        else:\n",
    "            yield images[i:i+batch_size],labels[i:i+batch_size]"
   ]
  },
  {
   "cell_type": "code",
   "execution_count": 11,
   "metadata": {},
   "outputs": [
    {
     "name": "stdout",
     "output_type": "stream",
     "text": [
      "(128, 128)\n"
     ]
    }
   ],
   "source": [
    "print(images[0].shape)"
   ]
  },
  {
   "cell_type": "markdown",
   "metadata": {},
   "source": [
    "# Build Model"
   ]
  },
  {
   "cell_type": "code",
   "execution_count": 12,
   "metadata": {},
   "outputs": [],
   "source": [
    "import tensorflow as tf"
   ]
  },
  {
   "cell_type": "code",
   "execution_count": 13,
   "metadata": {},
   "outputs": [],
   "source": [
    "num_classes = len(count.most_common())\n",
    "x = tf.placeholder(dtype=tf.float32, shape=(None,128,128),name='x')\n",
    "y = tf.placeholder(dtype=tf.uint8, shape=(None),name=\"y\")\n",
    "lr = tf.placeholder(dtype=tf.float32, shape=[], name=\"lr\")"
   ]
  },
  {
   "cell_type": "code",
   "execution_count": 14,
   "metadata": {},
   "outputs": [],
   "source": [
    "one_hot = tf.one_hot(y,num_classes)\n",
    "reshaped = tf.expand_dims(x,-1)"
   ]
  },
  {
   "cell_type": "code",
   "execution_count": 15,
   "metadata": {},
   "outputs": [],
   "source": [
    "#batch,128,128,1\n",
    "\n",
    "#first convolution\n",
    "conv = tf.contrib.layers.conv2d(\n",
    "    reshaped,\n",
    "    32,\n",
    "    (9,9),\n",
    "    stride=(1,1),\n",
    "    padding='VALID',\n",
    "    weights_initializer=tf.initializers.random_normal)\n",
    "#batch,120,120,32\n",
    "\n",
    "#subsample\n",
    "pool = tf.contrib.layers.max_pool2d(\n",
    "    conv,\n",
    "    (4,4),\n",
    "    stride=(4,4))\n",
    "#batch,30,30,32\n",
    "\n",
    "#second convolution\n",
    "conv2 = tf.contrib.layers.conv2d(\n",
    "    pool,\n",
    "    64,\n",
    "    (11,11),\n",
    "    stride=(1,1),\n",
    "    padding='VALID',\n",
    "    weights_initializer=tf.initializers.random_normal)\n",
    "#batch,20,20,64\n",
    "\n",
    "#subsample\n",
    "pool2 = tf.contrib.layers.max_pool2d(\n",
    "    conv2,\n",
    "    (4,4),\n",
    "    stride=(4,4))\n",
    "#batch,5,5,64\n",
    "\n",
    "#flatten\n",
    "flat = tf.contrib.layers.flatten(pool2)\n",
    "#batch,1600\n",
    "\n",
    "#fully connected\n",
    "fc = tf.contrib.layers.fully_connected(\n",
    "    flat,\n",
    "    256,\n",
    "    activation_fn=tf.nn.relu,\n",
    "    weights_initializer=tf.initializers.random_normal)\n",
    "#batch,256\n",
    "logits = tf.contrib.layers.fully_connected(\n",
    "    fc,\n",
    "    num_classes,\n",
    "    weights_initializer=tf.initializers.random_normal)\n",
    "\n",
    "prediction = tf.nn.softmax(logits,)"
   ]
  },
  {
   "cell_type": "code",
   "execution_count": 16,
   "metadata": {},
   "outputs": [],
   "source": [
    "cross_entropy = tf.nn.softmax_cross_entropy_with_logits_v2(logits=logits, labels=one_hot)\n",
    "loss_op = tf.reduce_mean(cross_entropy)\n",
    "optimizer = tf.train.AdamOptimizer(lr).minimize(loss_op)\n",
    "correct_pred = tf.equal(tf.argmax(prediction,1), tf.argmax(one_hot,1))\n",
    "accuracy = tf.reduce_mean(tf.cast(correct_pred, tf.float32), name='accuracy')"
   ]
  },
  {
   "cell_type": "code",
   "execution_count": 24,
   "metadata": {},
   "outputs": [
    {
     "name": "stdout",
     "output_type": "stream",
     "text": [
      "epoch 0 \tbatch: 10\ttrain accuracy: 0.1389\tloss: 32800.9141\tval acc: 0.2847\n",
      "epoch 1 \tbatch: 10\ttrain accuracy: 0.0833\tloss: 19127.6953\tval acc: 0.3577\n",
      "epoch 2 \tbatch: 10\ttrain accuracy: 0.0972\tloss: 6821.5371\tval acc: 0.4453\n",
      "epoch 3 \tbatch: 10\ttrain accuracy: 0.1528\tloss: 1871.5848\tval acc: 0.4818\n",
      "epoch 4 \tbatch: 10\ttrain accuracy: 0.125\tloss: 203.7908\tval acc: 0.4818\n",
      "epoch 5 \tbatch: 10\ttrain accuracy: 0.125\tloss: 169.6104\tval acc: 0.4891\n",
      "epoch 6 \tbatch: 10\ttrain accuracy: 0.125\tloss: 139.4756\tval acc: 0.4891\n",
      "epoch 7 \tbatch: 10\ttrain accuracy: 0.125\tloss: 69.4159\tval acc: 0.4891\n",
      "epoch 8 \tbatch: 10\ttrain accuracy: 0.125\tloss: 2.0794\tval acc: 0.4891\n",
      "epoch 9 \tbatch: 10\ttrain accuracy: 0.1389\tloss: 2.0506\tval acc: 0.4891\n",
      "epoch 10 \tbatch: 10\ttrain accuracy: 0.125\tloss: 232.745\tval acc: 0.4891\n",
      "epoch 11 \tbatch: 10\ttrain accuracy: 0.125\tloss: 2.0794\tval acc: 0.4891\n",
      "epoch 12 \tbatch: 10\ttrain accuracy: 0.125\tloss: 2.0794\tval acc: 0.4818\n",
      "epoch 13 \tbatch: 10\ttrain accuracy: 0.1528\tloss: 98.4618\tval acc: 0.4818\n",
      "epoch 14 \tbatch: 10\ttrain accuracy: 0.125\tloss: 43.0703\tval acc: 0.4891\n",
      "epoch 15 \tbatch: 10\ttrain accuracy: 0.125\tloss: 5.3131\tval acc: 0.4891\n",
      "epoch 16 \tbatch: 10\ttrain accuracy: 0.125\tloss: 27.0616\tval acc: 0.4891\n",
      "epoch 17 \tbatch: 10\ttrain accuracy: 0.125\tloss: 172.0265\tval acc: 0.4891\n",
      "epoch 18 \tbatch: 10\ttrain accuracy: 0.125\tloss: 2.0794\tval acc: 0.4891\n",
      "epoch 19 \tbatch: 10\ttrain accuracy: 0.125\tloss: 2.0794\tval acc: 0.4891\n",
      "epoch 20 \tbatch: 10\ttrain accuracy: 0.1389\tloss: 182.7216\tval acc: 0.4891\n",
      "epoch 21 \tbatch: 10\ttrain accuracy: 0.1389\tloss: 2.0506\tval acc: 0.4891\n",
      "epoch 22 \tbatch: 10\ttrain accuracy: 0.1389\tloss: 73.8837\tval acc: 0.4891\n",
      "epoch 23 \tbatch: 10\ttrain accuracy: 0.1389\tloss: 2.0506\tval acc: 0.4891\n",
      "epoch 24 \tbatch: 10\ttrain accuracy: 0.125\tloss: 2.0794\tval acc: 0.4891\n",
      "epoch 25 \tbatch: 10\ttrain accuracy: 0.1389\tloss: 27.6662\tval acc: 0.4818\n",
      "epoch 26 \tbatch: 10\ttrain accuracy: 0.1389\tloss: 2.0506\tval acc: 0.4818\n",
      "epoch 27 \tbatch: 10\ttrain accuracy: 0.125\tloss: 2.0794\tval acc: 0.4818\n",
      "epoch 28 \tbatch: 10\ttrain accuracy: 0.125\tloss: 2.0794\tval acc: 0.4818\n",
      "epoch 29 \tbatch: 10\ttrain accuracy: 0.125\tloss: 2.0794\tval acc: 0.4818\n",
      "epoch 30 \tbatch: 10\ttrain accuracy: 0.125\tloss: 2.0794\tval acc: 0.4818\n",
      "epoch 31 \tbatch: 10\ttrain accuracy: 0.1389\tloss: 2.0506\tval acc: 0.4818\n",
      "epoch 32 \tbatch: 10\ttrain accuracy: 0.1389\tloss: 2.0506\tval acc: 0.4818\n",
      "epoch 33 \tbatch: 10\ttrain accuracy: 0.125\tloss: 66.7696\tval acc: 0.4818\n",
      "epoch 34 \tbatch: 10\ttrain accuracy: 0.125\tloss: 2.0794\tval acc: 0.4818\n",
      "epoch 35 \tbatch: 10\ttrain accuracy: 0.125\tloss: 2.0794\tval acc: 0.4818\n",
      "epoch 36 \tbatch: 10\ttrain accuracy: 0.125\tloss: 2.0794\tval acc: 0.4818\n",
      "epoch 37 \tbatch: 10\ttrain accuracy: 0.125\tloss: 2.0794\tval acc: 0.4818\n",
      "epoch 38 \tbatch: 10\ttrain accuracy: 0.125\tloss: 2.0794\tval acc: 0.4818\n",
      "epoch 39 \tbatch: 10\ttrain accuracy: 0.125\tloss: 152.892\tval acc: 0.4818\n",
      "[[0.125 0.125 0.125 0.125 0.125 0.125 0.125 0.125]\n",
      " [0.125 0.125 0.125 0.125 0.125 0.125 0.125 0.125]\n",
      " [0.125 0.125 0.125 0.125 0.125 0.125 0.125 0.125]\n",
      " [0.125 0.125 0.125 0.125 0.125 0.125 0.125 0.125]\n",
      " [0.125 0.125 0.125 0.125 0.125 0.125 0.125 0.125]\n",
      " [0.125 0.125 0.125 0.125 0.125 0.125 0.125 0.125]\n",
      " [0.125 0.125 0.125 0.125 0.125 0.125 0.125 0.125]\n",
      " [0.125 0.125 0.125 0.125 0.125 0.125 0.125 0.125]\n",
      " [0.125 0.125 0.125 0.125 0.125 0.125 0.125 0.125]\n",
      " [0.125 0.125 0.125 0.125 0.125 0.125 0.125 0.125]\n",
      " [0.125 0.125 0.125 0.125 0.125 0.125 0.125 0.125]\n",
      " [0.125 0.125 0.125 0.125 0.125 0.125 0.125 0.125]\n",
      " [0.125 0.125 0.125 0.125 0.125 0.125 0.125 0.125]\n",
      " [0.125 0.125 0.125 0.125 0.125 0.125 0.125 0.125]\n",
      " [0.125 0.125 0.125 0.125 0.125 0.125 0.125 0.125]\n",
      " [0.125 0.125 0.125 0.125 0.125 0.125 0.125 0.125]\n",
      " [0.125 0.125 0.125 0.125 0.125 0.125 0.125 0.125]\n",
      " [0.125 0.125 0.125 0.125 0.125 0.125 0.125 0.125]\n",
      " [0.125 0.125 0.125 0.125 0.125 0.125 0.125 0.125]\n",
      " [0.125 0.125 0.125 0.125 0.125 0.125 0.125 0.125]\n",
      " [0.125 0.125 0.125 0.125 0.125 0.125 0.125 0.125]\n",
      " [0.125 0.125 0.125 0.125 0.125 0.125 0.125 0.125]\n",
      " [0.125 0.125 0.125 0.125 0.125 0.125 0.125 0.125]\n",
      " [0.125 0.125 0.125 0.125 0.125 0.125 0.125 0.125]\n",
      " [0.125 0.125 0.125 0.125 0.125 0.125 0.125 0.125]\n",
      " [0.125 0.125 0.125 0.125 0.125 0.125 0.125 0.125]\n",
      " [0.125 0.125 0.125 0.125 0.125 0.125 0.125 0.125]\n",
      " [0.125 0.125 0.125 0.125 0.125 0.125 0.125 0.125]\n",
      " [0.125 0.125 0.125 0.125 0.125 0.125 0.125 0.125]\n",
      " [0.125 0.125 0.125 0.125 0.125 0.125 0.125 0.125]\n",
      " [0.125 0.125 0.125 0.125 0.125 0.125 0.125 0.125]\n",
      " [0.125 0.125 0.125 0.125 0.125 0.125 0.125 0.125]\n",
      " [0.125 0.125 0.125 0.125 0.125 0.125 0.125 0.125]\n",
      " [0.125 0.125 0.125 0.125 0.125 0.125 0.125 0.125]\n",
      " [0.125 0.125 0.125 0.125 0.125 0.125 0.125 0.125]\n",
      " [0.125 0.125 0.125 0.125 0.125 0.125 0.125 0.125]\n",
      " [0.125 0.125 0.125 0.125 0.125 0.125 0.125 0.125]\n",
      " [0.125 0.125 0.125 0.125 0.125 0.125 0.125 0.125]\n",
      " [0.125 0.125 0.125 0.125 0.125 0.125 0.125 0.125]\n",
      " [0.125 0.125 0.125 0.125 0.125 0.125 0.125 0.125]\n",
      " [0.125 0.125 0.125 0.125 0.125 0.125 0.125 0.125]\n",
      " [0.125 0.125 0.125 0.125 0.125 0.125 0.125 0.125]\n",
      " [0.125 0.125 0.125 0.125 0.125 0.125 0.125 0.125]\n",
      " [0.125 0.125 0.125 0.125 0.125 0.125 0.125 0.125]\n",
      " [0.125 0.125 0.125 0.125 0.125 0.125 0.125 0.125]\n",
      " [0.125 0.125 0.125 0.125 0.125 0.125 0.125 0.125]\n",
      " [0.125 0.125 0.125 0.125 0.125 0.125 0.125 0.125]\n",
      " [0.125 0.125 0.125 0.125 0.125 0.125 0.125 0.125]\n",
      " [0.125 0.125 0.125 0.125 0.125 0.125 0.125 0.125]\n",
      " [0.125 0.125 0.125 0.125 0.125 0.125 0.125 0.125]\n",
      " [0.125 0.125 0.125 0.125 0.125 0.125 0.125 0.125]\n",
      " [0.125 0.125 0.125 0.125 0.125 0.125 0.125 0.125]\n",
      " [0.125 0.125 0.125 0.125 0.125 0.125 0.125 0.125]\n",
      " [0.125 0.125 0.125 0.125 0.125 0.125 0.125 0.125]\n",
      " [0.125 0.125 0.125 0.125 0.125 0.125 0.125 0.125]\n",
      " [0.125 0.125 0.125 0.125 0.125 0.125 0.125 0.125]\n",
      " [0.125 0.125 0.125 0.125 0.125 0.125 0.125 0.125]\n",
      " [0.125 0.125 0.125 0.125 0.125 0.125 0.125 0.125]\n",
      " [0.125 0.125 0.125 0.125 0.125 0.125 0.125 0.125]\n",
      " [0.125 0.125 0.125 0.125 0.125 0.125 0.125 0.125]\n",
      " [0.125 0.125 0.125 0.125 0.125 0.125 0.125 0.125]\n",
      " [0.125 0.125 0.125 0.125 0.125 0.125 0.125 0.125]\n",
      " [0.125 0.125 0.125 0.125 0.125 0.125 0.125 0.125]\n",
      " [0.125 0.125 0.125 0.125 0.125 0.125 0.125 0.125]\n",
      " [0.125 0.125 0.125 0.125 0.125 0.125 0.125 0.125]\n",
      " [0.125 0.125 0.125 0.125 0.125 0.125 0.125 0.125]\n",
      " [0.125 0.125 0.125 0.125 0.125 0.125 0.125 0.125]\n",
      " [0.125 0.125 0.125 0.125 0.125 0.125 0.125 0.125]\n",
      " [0.125 0.125 0.125 0.125 0.125 0.125 0.125 0.125]\n",
      " [0.125 0.125 0.125 0.125 0.125 0.125 0.125 0.125]\n",
      " [0.125 0.125 0.125 0.125 0.125 0.125 0.125 0.125]\n",
      " [0.125 0.125 0.125 0.125 0.125 0.125 0.125 0.125]]\n"
     ]
    }
   ],
   "source": [
    "epochs = 40\n",
    "learn_rate = .0001\n",
    "batch_size = 256\n",
    "\n",
    "with tf.Session() as sess:\n",
    "    sess.run(tf.global_variables_initializer())\n",
    "    saver = tf.train.Saver()\n",
    "    for epoch in range(epochs):\n",
    "        batch_i = 1\n",
    "        #for X,Y in next_batch(x_train,y_train,batch_size):\n",
    "        X,Y = balanced_subset(images,nplabels)\n",
    "        X,Y = shuffle(X,Y)\n",
    "        \n",
    "        for i in range(10):\n",
    "            sess.run(optimizer,feed_dict={x:X,y:Y,lr:learn_rate})\n",
    "            if batch_i % 10 == 0:\n",
    "                valacc = sess.run(accuracy,feed_dict={x:x_val,y:y_val})\n",
    "                loss, trainacc = sess.run([loss_op, accuracy], feed_dict={x:X,y:Y})\n",
    "                print(\"epoch {} \\tbatch: {}\\ttrain accuracy: {}\\tloss: {}\\tval acc: {}\"\n",
    "                      .format(epoch,batch_i,round(float(trainacc),4),round(float(loss),4), round(float(valacc),4)))               \n",
    "                \n",
    "            batch_i += 1\n",
    "    X,Y = balanced_subset(images,nplabels)\n",
    "    X,Y = shuffle(X,Y)\n",
    "    print(sess.run(prediction,feed_dict={x:X,y:Y,lr:learn_rate}))\n",
    "    save_path = saver.save(sess, \"checkpoints/model.ckpt\")\n",
    "\n",
    "            "
   ]
  },
  {
   "cell_type": "code",
   "execution_count": null,
   "metadata": {},
   "outputs": [],
   "source": [
    "batch_i = np.array(0)\n",
    "trainacc = np.array(0.238473172372)\n",
    "loss = np.array(12314.52365646352)"
   ]
  },
  {
   "cell_type": "code",
   "execution_count": 34,
   "metadata": {},
   "outputs": [
    {
     "ename": "TypeError",
     "evalue": "type numpy.ndarray doesn't define __round__ method",
     "output_type": "error",
     "traceback": [
      "\u001b[1;31m---------------------------------------------------------------------------\u001b[0m",
      "\u001b[1;31mTypeError\u001b[0m                                 Traceback (most recent call last)",
      "\u001b[1;32m<ipython-input-34-565ad109f53a>\u001b[0m in \u001b[0;36m<module>\u001b[1;34m\u001b[0m\n\u001b[0;32m      1\u001b[0m print(\"batch: {}\\ttrain accuracy: {}\\tloss: {}\"\n\u001b[1;32m----> 2\u001b[1;33m                       .format(batch_i,round(trainacc,4),round(loss,4)))\n\u001b[0m",
      "\u001b[1;31mTypeError\u001b[0m: type numpy.ndarray doesn't define __round__ method"
     ]
    }
   ],
   "source": [
    "print(\"batch: {}\\ttrain accuracy: {}\\tloss: {}\"\n",
    "                      .format(batch_i,round(trainacc,4),round(loss,4)))"
   ]
  },
  {
   "cell_type": "code",
   "execution_count": 28,
   "metadata": {},
   "outputs": [
    {
     "name": "stdout",
     "output_type": "stream",
     "text": [
      "INFO:tensorflow:Restoring parameters from checkpoints/model.ckpt\n"
     ]
    }
   ],
   "source": [
    "with tf.Session() as sess:\n",
    "    saver = tf.train.Saver()\n",
    "    saver.restore(sess, \"checkpoints/model.ckpt\")\n",
    "    sess.run()"
   ]
  },
  {
   "cell_type": "code",
   "execution_count": null,
   "metadata": {},
   "outputs": [],
   "source": []
  }
 ],
 "metadata": {
  "kernelspec": {
   "display_name": "Python 3",
   "language": "python",
   "name": "python3"
  },
  "language_info": {
   "codemirror_mode": {
    "name": "ipython",
    "version": 3
   },
   "file_extension": ".py",
   "mimetype": "text/x-python",
   "name": "python",
   "nbconvert_exporter": "python",
   "pygments_lexer": "ipython3",
   "version": "3.6.7"
  }
 },
 "nbformat": 4,
 "nbformat_minor": 2
}
