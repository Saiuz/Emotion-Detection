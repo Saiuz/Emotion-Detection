{
 "cells": [
  {
   "cell_type": "code",
   "execution_count": 1,
   "metadata": {},
   "outputs": [],
   "source": [
    "import numpy as np\n",
    "import csv"
   ]
  },
  {
   "cell_type": "code",
   "execution_count": 2,
   "metadata": {},
   "outputs": [
    {
     "data": {
      "text/plain": [
       "1999"
      ]
     },
     "execution_count": 2,
     "metadata": {},
     "output_type": "execute_result"
    }
   ],
   "source": [
    "labels = []\n",
    "\n",
    "with open(\"images/faceLabels.csv\") as csvfile:\n",
    "    reader = csv.reader(csvfile, delimiter=\",\")\n",
    "    for row in reader:\n",
    "        labels.append(row)\n",
    "labels = np.array(labels[1:])\n",
    "len(labels)"
   ]
  },
  {
   "cell_type": "code",
   "execution_count": 3,
   "metadata": {},
   "outputs": [],
   "source": [
    "from skimage import color\n",
    "from skimage import io\n",
    "from skimage.transform import resize\n",
    "import matplotlib.pyplot as plt\n",
    "from tqdm import tqdm"
   ]
  },
  {
   "cell_type": "code",
   "execution_count": 4,
   "metadata": {},
   "outputs": [],
   "source": [
    "#if true, re-reads and saves all images to numpy array\n",
    "if False:\n",
    "    images = []\n",
    "    size = (128,128)\n",
    "    print(\"reading in images...\")\n",
    "    for line in tqdm(labels):\n",
    "        ##read and convert to Black and White\n",
    "\n",
    "        img = io.imread('images/'+line[0], as_grey=True)\n",
    "        img = resize(img, size)\n",
    "        images.append(img)\n",
    "    print(\"saving...\")\n",
    "    \n",
    "    npimages = np.zeros(shape=(len(images),*size), dtype=np.float64)\n",
    "    for i,im in enumerate(images):\n",
    "        npimages[i] = im\n",
    "    labels = np.array(labels[:,1],dtype=str)\n",
    "    print(labels)\n",
    "    np.save(\"data/labels.npy\",labels)\n",
    "    np.save(\"data/images.npy\",npimages)\n",
    "    print(\"SAVED\")\n",
    "    "
   ]
  },
  {
   "cell_type": "code",
   "execution_count": 5,
   "metadata": {},
   "outputs": [
    {
     "name": "stdout",
     "output_type": "stream",
     "text": [
      "float64\n",
      "<U12\n"
     ]
    }
   ],
   "source": [
    "images = np.load(\"data/images.npy\")\n",
    "labels = np.load(\"data/labels.npy\")\n",
    "print(images.dtype)\n",
    "print(labels.dtype)"
   ]
  },
  {
   "cell_type": "code",
   "execution_count": 6,
   "metadata": {},
   "outputs": [
    {
     "name": "stdout",
     "output_type": "stream",
     "text": [
      "\t\tHappy\n"
     ]
    },
    {
     "data": {
      "image/png": "[encoded data removed]",
      "text/plain": [
       "<Figure size 432x288 with 1 Axes>"
      ]
     },
     "metadata": {
      "needs_background": "light"
     },
     "output_type": "display_data"
    }
   ],
   "source": [
    "idx = np.random.randint(0,len(labels))\n",
    "plt.imshow(images[idx], cmap=\"gray\")\n",
    "print(\"\\t\\t\"+str(labels[idx]))"
   ]
  },
  {
   "cell_type": "code",
   "execution_count": 7,
   "metadata": {},
   "outputs": [],
   "source": [
    "import random\n",
    "def balanced_subset(images,labels):\n",
    "    #np.warnings.filterwarnings('ignore')\n",
    "    count = Counter(labels)\n",
    "    perclass_count = np.array([[c,count[c]] for c in count.keys()])\n",
    "    max_n = min(perclass_count[:,1])\n",
    "    \n",
    "    perclass_indexes = {cname:random.sample(range(0, n), max_n) for cname,n in perclass_count}\n",
    "    perclass_index = {label:0 for label in count.keys()}\n",
    "    \n",
    "    newlabels = []\n",
    "    newimages = []\n",
    "    total = 0\n",
    "    for i in range(len(labels)):\n",
    "        \n",
    "        label = labels[i]\n",
    "\n",
    "        if perclass_index[label] in perclass_indexes[label]:\n",
    "            total += 1\n",
    "            newlabels.append(label)\n",
    "            newimages.append(images[i])\n",
    "        perclass_index[label] += 1\n",
    "            \n",
    "    newimages, newlabels = np.array(newimages),np.array(newlabels)   \n",
    "        \n",
    "    #print(perclass_count,perclass_indexes)\n",
    "    return newimages, newlabels"
   ]
  },
  {
   "cell_type": "code",
   "execution_count": 8,
   "metadata": {},
   "outputs": [
    {
     "name": "stdout",
     "output_type": "stream",
     "text": [
      "count: [('happy', 500), ('sad', 500), ('angry', 500), ('neutral', 499)] \n",
      "\n"
     ]
    }
   ],
   "source": [
    "from collections import Counter\n",
    "labels = [x.lower() for x in labels]\n",
    "count = Counter(labels)\n",
    "#print(c.most_common())\n",
    "label2int = {y:x for x,(y,_) in enumerate(count.most_common())}\n",
    "int2label = {label2int[key]:key for key in label2int.keys()}\n",
    "\n",
    "nplabels = np.array([label2int[x] for x in labels])\n",
    "assert(len(nplabels) == len(images))\n",
    "print(\"count:\",count.most_common(),\"\\n\")"
   ]
  },
  {
   "cell_type": "code",
   "execution_count": 9,
   "metadata": {},
   "outputs": [
    {
     "data": {
      "text/plain": [
       "200"
      ]
     },
     "execution_count": 9,
     "metadata": {},
     "output_type": "execute_result"
    }
   ],
   "source": [
    "from sklearn.model_selection import train_test_split\n",
    "from sklearn.utils import shuffle\n",
    "x_train, x_val, y_train, y_val = train_test_split(images, nplabels, test_size=.1)\n",
    "len(y_val)"
   ]
  },
  {
   "cell_type": "code",
   "execution_count": 10,
   "metadata": {},
   "outputs": [],
   "source": [
    "def next_batch(images, labels, batch_size):\n",
    "    images, labels = shuffle(images,labels)\n",
    "    for i in range(0,len(labels),batch_size):\n",
    "        if i+batch_size >= len(labels):\n",
    "            yield images[i:],labels[i:]\n",
    "        else:\n",
    "            yield images[i:i+batch_size],labels[i:i+batch_size]"
   ]
  },
  {
   "cell_type": "code",
   "execution_count": 11,
   "metadata": {},
   "outputs": [
    {
     "name": "stdout",
     "output_type": "stream",
     "text": [
      "(128, 128)\n"
     ]
    }
   ],
   "source": [
    "print(images[0].shape)"
   ]
  },
  {
   "cell_type": "markdown",
   "metadata": {},
   "source": [
    "# Build Model"
   ]
  },
  {
   "cell_type": "code",
   "execution_count": 12,
   "metadata": {},
   "outputs": [],
   "source": [
    "import tensorflow as tf\n",
    "from Expression_Network import Expression_Network"
   ]
  },
  {
   "cell_type": "code",
   "execution_count": 13,
   "metadata": {},
   "outputs": [],
   "source": [
    "num_classes = len(count.most_common())\n",
    "x = tf.placeholder(dtype=tf.float32, shape=(None,128,128),name='x')\n",
    "y = tf.placeholder(dtype=tf.int32, shape=(None),name=\"y\")\n",
    "lr = tf.placeholder(dtype=tf.float32, shape=[], name=\"lr\")\n",
    "one_hot = tf.one_hot(y,num_classes)\n",
    "reshaped = tf.expand_dims(x,-1)\n",
    "\n",
    "exnet = Expression_Network(num_classes,Training=True)\n",
    "logits,prediction = exnet.model(x)"
   ]
  },
  {
   "cell_type": "code",
   "execution_count": 14,
   "metadata": {},
   "outputs": [],
   "source": [
    "cross_entropy = tf.nn.softmax_cross_entropy_with_logits_v2(logits=logits, labels=one_hot)\n",
    "loss_op = tf.reduce_mean(cross_entropy)\n",
    "update_ops = tf.get_collection(tf.GraphKeys.UPDATE_OPS)\n",
    "with tf.control_dependencies(update_ops):\n",
    "    optimizer = tf.train.AdamOptimizer(lr).minimize(loss_op)\n",
    "correct_pred = tf.equal(tf.argmax(prediction,1), tf.argmax(one_hot,1))\n",
    "accuracy = tf.reduce_mean(tf.cast(correct_pred, tf.float32), name='accuracy')"
   ]
  },
  {
   "cell_type": "code",
   "execution_count": 15,
   "metadata": {},
   "outputs": [
    {
     "name": "stdout",
     "output_type": "stream",
     "text": [
      "epoch:0 batch:10\ttrain accuracy: 0.2785\tloss: 28.6575\tval acc: 0.2\n",
      "epoch:0 batch:20\ttrain accuracy: 0.2674\tloss: 21.3088\tval acc: 0.19\n",
      "epoch:1 batch:10\ttrain accuracy: 0.284\tloss: 13.3978\tval acc: 0.21\n",
      "epoch:1 batch:20\ttrain accuracy: 0.2863\tloss: 15.364\tval acc: 0.21\n",
      "epoch:2 batch:10\ttrain accuracy: 0.2852\tloss: 12.7984\tval acc: 0.21\n",
      "epoch:2 batch:20\ttrain accuracy: 0.3074\tloss: 10.5432\tval acc: 0.225\n",
      "epoch:3 batch:10\ttrain accuracy: 0.3424\tloss: 7.7231\tval acc: 0.265\n",
      "epoch:3 batch:20\ttrain accuracy: 0.4458\tloss: 4.6556\tval acc: 0.38\n",
      "epoch:4 batch:10\ttrain accuracy: 0.3063\tloss: 7.6347\tval acc: 0.22\n",
      "epoch:4 batch:20\ttrain accuracy: 0.3758\tloss: 4.911\tval acc: 0.28\n",
      "epoch:5 batch:10\ttrain accuracy: 0.4814\tloss: 3.3026\tval acc: 0.43\n",
      "epoch:5 batch:20\ttrain accuracy: 0.4514\tloss: 4.0778\tval acc: 0.385\n",
      "epoch:6 batch:10\ttrain accuracy: 0.5092\tloss: 2.7622\tval acc: 0.46\n",
      "epoch:6 batch:20\ttrain accuracy: 0.4525\tloss: 4.1747\tval acc: 0.385\n",
      "epoch:7 batch:10\ttrain accuracy: 0.5442\tloss: 2.8443\tval acc: 0.52\n",
      "epoch:7 batch:20\ttrain accuracy: 0.5192\tloss: 2.6254\tval acc: 0.495\n",
      "epoch:8 batch:10\ttrain accuracy: 0.5759\tloss: 2.32\tval acc: 0.525\n",
      "epoch:8 batch:20\ttrain accuracy: 0.5914\tloss: 2.2349\tval acc: 0.555\n",
      "epoch:9 batch:10\ttrain accuracy: 0.6354\tloss: 1.926\tval acc: 0.595\n",
      "epoch:9 batch:20\ttrain accuracy: 0.6342\tloss: 1.9803\tval acc: 0.605\n",
      "epoch:10 batch:10\ttrain accuracy: 0.6748\tloss: 1.8398\tval acc: 0.63\n",
      "epoch:10 batch:20\ttrain accuracy: 0.6726\tloss: 1.5992\tval acc: 0.61\n",
      "epoch:11 batch:10\ttrain accuracy: 0.6948\tloss: 1.4313\tval acc: 0.64\n",
      "epoch:11 batch:20\ttrain accuracy: 0.6848\tloss: 1.6557\tval acc: 0.63\n",
      "epoch:12 batch:10\ttrain accuracy: 0.6737\tloss: 1.6766\tval acc: 0.615\n",
      "epoch:12 batch:20\ttrain accuracy: 0.6971\tloss: 1.4663\tval acc: 0.645\n",
      "epoch:13 batch:10\ttrain accuracy: 0.7137\tloss: 1.2761\tval acc: 0.67\n",
      "epoch:13 batch:20\ttrain accuracy: 0.7215\tloss: 1.2384\tval acc: 0.68\n",
      "epoch:14 batch:10\ttrain accuracy: 0.726\tloss: 1.2586\tval acc: 0.655\n",
      "epoch:14 batch:20\ttrain accuracy: 0.7365\tloss: 1.1127\tval acc: 0.675\n",
      "epoch:15 batch:10\ttrain accuracy: 0.7343\tloss: 1.1655\tval acc: 0.685\n",
      "epoch:15 batch:20\ttrain accuracy: 0.7443\tloss: 1.0337\tval acc: 0.68\n",
      "epoch:16 batch:10\ttrain accuracy: 0.7393\tloss: 1.0472\tval acc: 0.68\n",
      "epoch:16 batch:20\ttrain accuracy: 0.7504\tloss: 1.0869\tval acc: 0.685\n",
      "epoch:17 batch:10\ttrain accuracy: 0.7504\tloss: 0.9987\tval acc: 0.68\n",
      "epoch:17 batch:20\ttrain accuracy: 0.7076\tloss: 1.1759\tval acc: 0.655\n",
      "epoch:18 batch:10\ttrain accuracy: 0.7654\tloss: 0.9475\tval acc: 0.71\n",
      "epoch:18 batch:20\ttrain accuracy: 0.7732\tloss: 0.8698\tval acc: 0.725\n",
      "epoch:19 batch:10\ttrain accuracy: 0.781\tloss: 0.7511\tval acc: 0.715\n",
      "epoch:19 batch:20\ttrain accuracy: 0.786\tloss: 0.8784\tval acc: 0.725\n",
      "epoch:20 batch:10\ttrain accuracy: 0.7804\tloss: 0.7364\tval acc: 0.725\n",
      "epoch:20 batch:20\ttrain accuracy: 0.8004\tloss: 0.7055\tval acc: 0.73\n",
      "epoch:21 batch:10\ttrain accuracy: 0.801\tloss: 0.6142\tval acc: 0.74\n",
      "epoch:21 batch:20\ttrain accuracy: 0.8054\tloss: 0.6699\tval acc: 0.74\n",
      "epoch:22 batch:10\ttrain accuracy: 0.7888\tloss: 0.7175\tval acc: 0.725\n",
      "epoch:22 batch:20\ttrain accuracy: 0.8088\tloss: 0.6436\tval acc: 0.74\n",
      "epoch:23 batch:10\ttrain accuracy: 0.7932\tloss: 0.6778\tval acc: 0.735\n",
      "epoch:23 batch:20\ttrain accuracy: 0.8116\tloss: 0.6528\tval acc: 0.74\n",
      "epoch:24 batch:10\ttrain accuracy: 0.806\tloss: 0.6256\tval acc: 0.74\n",
      "epoch:24 batch:20\ttrain accuracy: 0.8266\tloss: 0.5338\tval acc: 0.755\n",
      "epoch:25 batch:10\ttrain accuracy: 0.8305\tloss: 0.5236\tval acc: 0.77\n",
      "epoch:25 batch:20\ttrain accuracy: 0.8099\tloss: 0.5837\tval acc: 0.745\n",
      "epoch:26 batch:10\ttrain accuracy: 0.8188\tloss: 0.6024\tval acc: 0.74\n",
      "epoch:26 batch:20\ttrain accuracy: 0.8638\tloss: 0.4076\tval acc: 0.835\n",
      "epoch:27 batch:10\ttrain accuracy: 0.866\tloss: 0.3783\tval acc: 0.84\n",
      "epoch:27 batch:20\ttrain accuracy: 0.8688\tloss: 0.3906\tval acc: 0.83\n",
      "epoch:28 batch:10\ttrain accuracy: 0.8972\tloss: 0.3172\tval acc: 0.87\n",
      "epoch:28 batch:20\ttrain accuracy: 0.8849\tloss: 0.3398\tval acc: 0.84\n",
      "epoch:29 batch:10\ttrain accuracy: 0.8966\tloss: 0.3101\tval acc: 0.865\n",
      "epoch:29 batch:20\ttrain accuracy: 0.9072\tloss: 0.2886\tval acc: 0.875\n",
      "epoch:30 batch:10\ttrain accuracy: 0.8733\tloss: 0.3513\tval acc: 0.845\n",
      "epoch:30 batch:20\ttrain accuracy: 0.8844\tloss: 0.3271\tval acc: 0.85\n",
      "epoch:31 batch:10\ttrain accuracy: 0.9016\tloss: 0.2887\tval acc: 0.865\n",
      "epoch:31 batch:20\ttrain accuracy: 0.9105\tloss: 0.2666\tval acc: 0.9\n",
      "epoch:32 batch:10\ttrain accuracy: 0.8977\tloss: 0.2884\tval acc: 0.875\n",
      "epoch:32 batch:20\ttrain accuracy: 0.9072\tloss: 0.2721\tval acc: 0.895\n",
      "epoch:33 batch:10\ttrain accuracy: 0.8922\tloss: 0.3031\tval acc: 0.855\n",
      "epoch:33 batch:20\ttrain accuracy: 0.9372\tloss: 0.2102\tval acc: 0.895\n",
      "epoch:34 batch:10\ttrain accuracy: 0.9288\tloss: 0.2309\tval acc: 0.9\n",
      "epoch:34 batch:20\ttrain accuracy: 0.94\tloss: 0.2055\tval acc: 0.905\n",
      "epoch:35 batch:10\ttrain accuracy: 0.9439\tloss: 0.1959\tval acc: 0.895\n",
      "epoch:35 batch:20\ttrain accuracy: 0.9366\tloss: 0.1988\tval acc: 0.91\n",
      "epoch:36 batch:10\ttrain accuracy: 0.9433\tloss: 0.1848\tval acc: 0.905\n",
      "epoch:36 batch:20\ttrain accuracy: 0.9483\tloss: 0.1747\tval acc: 0.905\n",
      "epoch:37 batch:10\ttrain accuracy: 0.935\tloss: 0.2024\tval acc: 0.905\n",
      "epoch:37 batch:20\ttrain accuracy: 0.9461\tloss: 0.1705\tval acc: 0.915\n",
      "epoch:38 batch:10\ttrain accuracy: 0.9489\tloss: 0.1657\tval acc: 0.91\n",
      "epoch:38 batch:20\ttrain accuracy: 0.9483\tloss: 0.1702\tval acc: 0.9\n",
      "epoch:39 batch:10\ttrain accuracy: 0.9511\tloss: 0.1613\tval acc: 0.92\n",
      "epoch:39 batch:20\ttrain accuracy: 0.95\tloss: 0.1581\tval acc: 0.915\n",
      "epoch:40 batch:10\ttrain accuracy: 0.9511\tloss: 0.162\tval acc: 0.92\n",
      "epoch:40 batch:20\ttrain accuracy: 0.9572\tloss: 0.1481\tval acc: 0.925\n",
      "epoch:41 batch:10\ttrain accuracy: 0.9561\tloss: 0.1418\tval acc: 0.93\n",
      "epoch:41 batch:20\ttrain accuracy: 0.9589\tloss: 0.1472\tval acc: 0.93\n",
      "epoch:42 batch:10\ttrain accuracy: 0.9644\tloss: 0.1267\tval acc: 0.95\n",
      "epoch:42 batch:20\ttrain accuracy: 0.9555\tloss: 0.1404\tval acc: 0.935\n",
      "epoch:43 batch:10\ttrain accuracy: 0.9566\tloss: 0.1378\tval acc: 0.935\n",
      "epoch:43 batch:20\ttrain accuracy: 0.9555\tloss: 0.1332\tval acc: 0.94\n",
      "epoch:44 batch:10\ttrain accuracy: 0.9655\tloss: 0.1217\tval acc: 0.925\n",
      "epoch:44 batch:20\ttrain accuracy: 0.9661\tloss: 0.1185\tval acc: 0.945\n",
      "epoch:45 batch:10\ttrain accuracy: 0.9555\tloss: 0.1359\tval acc: 0.935\n",
      "epoch:45 batch:20\ttrain accuracy: 0.9644\tloss: 0.1169\tval acc: 0.94\n",
      "epoch:46 batch:10\ttrain accuracy: 0.9722\tloss: 0.0994\tval acc: 0.95\n",
      "epoch:46 batch:20\ttrain accuracy: 0.97\tloss: 0.1088\tval acc: 0.955\n",
      "epoch:47 batch:10\ttrain accuracy: 0.9477\tloss: 0.1505\tval acc: 0.95\n",
      "epoch:47 batch:20\ttrain accuracy: 0.9678\tloss: 0.1078\tval acc: 0.955\n",
      "epoch:48 batch:10\ttrain accuracy: 0.975\tloss: 0.0971\tval acc: 0.945\n",
      "epoch:48 batch:20\ttrain accuracy: 0.9739\tloss: 0.0972\tval acc: 0.945\n",
      "epoch:49 batch:10\ttrain accuracy: 0.9705\tloss: 0.1051\tval acc: 0.945\n",
      "epoch:49 batch:20\ttrain accuracy: 0.9761\tloss: 0.0943\tval acc: 0.95\n",
      "epoch:50 batch:10\ttrain accuracy: 0.9778\tloss: 0.0928\tval acc: 0.945\n",
      "epoch:50 batch:20\ttrain accuracy: 0.9739\tloss: 0.0959\tval acc: 0.95\n",
      "epoch:51 batch:10\ttrain accuracy: 0.9767\tloss: 0.0879\tval acc: 0.955\n",
      "epoch:51 batch:20\ttrain accuracy: 0.98\tloss: 0.0859\tval acc: 0.96\n",
      "epoch:52 batch:10\ttrain accuracy: 0.9761\tloss: 0.0875\tval acc: 0.96\n",
      "epoch:52 batch:20\ttrain accuracy: 0.9772\tloss: 0.0854\tval acc: 0.96\n",
      "epoch:53 batch:10\ttrain accuracy: 0.9772\tloss: 0.084\tval acc: 0.96\n",
      "epoch:53 batch:20\ttrain accuracy: 0.9778\tloss: 0.0821\tval acc: 0.96\n",
      "epoch:54 batch:10\ttrain accuracy: 0.9805\tloss: 0.0739\tval acc: 0.965\n",
      "epoch:54 batch:20\ttrain accuracy: 0.98\tloss: 0.0749\tval acc: 0.965\n",
      "epoch:55 batch:10\ttrain accuracy: 0.9822\tloss: 0.0746\tval acc: 0.96\n",
      "epoch:55 batch:20\ttrain accuracy: 0.9811\tloss: 0.075\tval acc: 0.96\n",
      "epoch:56 batch:10\ttrain accuracy: 0.9755\tloss: 0.0817\tval acc: 0.965\n",
      "epoch:56 batch:20\ttrain accuracy: 0.9811\tloss: 0.0735\tval acc: 0.965\n",
      "epoch:57 batch:10\ttrain accuracy: 0.985\tloss: 0.0646\tval acc: 0.96\n",
      "epoch:57 batch:20\ttrain accuracy: 0.9844\tloss: 0.0656\tval acc: 0.97\n",
      "epoch:58 batch:10\ttrain accuracy: 0.9817\tloss: 0.0686\tval acc: 0.965\n",
      "epoch:58 batch:20\ttrain accuracy: 0.9822\tloss: 0.0666\tval acc: 0.96\n",
      "epoch:59 batch:10\ttrain accuracy: 0.9878\tloss: 0.0572\tval acc: 0.965\n",
      "epoch:59 batch:20\ttrain accuracy: 0.9894\tloss: 0.0548\tval acc: 0.965\n"
     ]
    },
    {
     "name": "stdout",
     "output_type": "stream",
     "text": [
      "epoch:60 batch:10\ttrain accuracy: 0.9844\tloss: 0.059\tval acc: 0.96\n",
      "epoch:60 batch:20\ttrain accuracy: 0.9878\tloss: 0.0583\tval acc: 0.965\n",
      "epoch:61 batch:10\ttrain accuracy: 0.9883\tloss: 0.0568\tval acc: 0.965\n",
      "epoch:61 batch:20\ttrain accuracy: 0.9861\tloss: 0.058\tval acc: 0.965\n",
      "epoch:62 batch:10\ttrain accuracy: 0.9906\tloss: 0.0502\tval acc: 0.965\n",
      "epoch:62 batch:20\ttrain accuracy: 0.9906\tloss: 0.0494\tval acc: 0.965\n",
      "epoch:63 batch:10\ttrain accuracy: 0.99\tloss: 0.0501\tval acc: 0.965\n",
      "epoch:63 batch:20\ttrain accuracy: 0.9894\tloss: 0.0503\tval acc: 0.97\n",
      "epoch:64 batch:10\ttrain accuracy: 0.9828\tloss: 0.0582\tval acc: 0.965\n",
      "epoch:64 batch:20\ttrain accuracy: 0.9889\tloss: 0.0466\tval acc: 0.965\n",
      "epoch:65 batch:10\ttrain accuracy: 0.9867\tloss: 0.0519\tval acc: 0.97\n",
      "epoch:65 batch:20\ttrain accuracy: 0.9883\tloss: 0.0487\tval acc: 0.975\n",
      "epoch:66 batch:10\ttrain accuracy: 0.9883\tloss: 0.0499\tval acc: 0.965\n",
      "epoch:66 batch:20\ttrain accuracy: 0.99\tloss: 0.0467\tval acc: 0.965\n",
      "epoch:67 batch:10\ttrain accuracy: 0.9889\tloss: 0.0488\tval acc: 0.97\n",
      "epoch:67 batch:20\ttrain accuracy: 0.9911\tloss: 0.0453\tval acc: 0.97\n",
      "epoch:68 batch:10\ttrain accuracy: 0.9911\tloss: 0.0442\tval acc: 0.97\n",
      "epoch:68 batch:20\ttrain accuracy: 0.9911\tloss: 0.0436\tval acc: 0.975\n",
      "epoch:69 batch:10\ttrain accuracy: 0.9917\tloss: 0.0419\tval acc: 0.975\n",
      "epoch:69 batch:20\ttrain accuracy: 0.9928\tloss: 0.0403\tval acc: 0.975\n",
      "epoch:70 batch:10\ttrain accuracy: 0.9922\tloss: 0.0406\tval acc: 0.975\n",
      "epoch:70 batch:20\ttrain accuracy: 0.9917\tloss: 0.0398\tval acc: 0.975\n",
      "epoch:71 batch:10\ttrain accuracy: 0.9928\tloss: 0.037\tval acc: 0.975\n",
      "epoch:71 batch:20\ttrain accuracy: 0.9939\tloss: 0.0364\tval acc: 0.975\n",
      "epoch:72 batch:10\ttrain accuracy: 0.9922\tloss: 0.0382\tval acc: 0.975\n",
      "epoch:72 batch:20\ttrain accuracy: 0.9922\tloss: 0.038\tval acc: 0.975\n",
      "epoch:73 batch:10\ttrain accuracy: 0.9944\tloss: 0.0334\tval acc: 0.975\n",
      "epoch:73 batch:20\ttrain accuracy: 0.9944\tloss: 0.0334\tval acc: 0.975\n",
      "epoch:74 batch:10\ttrain accuracy: 0.9961\tloss: 0.0323\tval acc: 0.975\n",
      "epoch:74 batch:20\ttrain accuracy: 0.9944\tloss: 0.0346\tval acc: 0.975\n",
      "epoch:75 batch:10\ttrain accuracy: 0.9939\tloss: 0.0355\tval acc: 0.975\n",
      "epoch:75 batch:20\ttrain accuracy: 0.9944\tloss: 0.0344\tval acc: 0.975\n",
      "epoch:76 batch:10\ttrain accuracy: 0.9956\tloss: 0.0313\tval acc: 0.975\n",
      "epoch:76 batch:20\ttrain accuracy: 0.9967\tloss: 0.0307\tval acc: 0.975\n",
      "epoch:77 batch:10\ttrain accuracy: 0.9944\tloss: 0.0304\tval acc: 0.98\n",
      "epoch:77 batch:20\ttrain accuracy: 0.9956\tloss: 0.0304\tval acc: 0.98\n",
      "epoch:78 batch:10\ttrain accuracy: 0.995\tloss: 0.0307\tval acc: 0.975\n",
      "epoch:78 batch:20\ttrain accuracy: 0.995\tloss: 0.0301\tval acc: 0.975\n",
      "epoch:79 batch:10\ttrain accuracy: 0.9961\tloss: 0.0282\tval acc: 0.975\n",
      "epoch:79 batch:20\ttrain accuracy: 0.995\tloss: 0.0287\tval acc: 0.975\n",
      "epoch:80 batch:10\ttrain accuracy: 0.9983\tloss: 0.0251\tval acc: 0.975\n",
      "epoch:80 batch:20\ttrain accuracy: 0.9983\tloss: 0.0261\tval acc: 0.975\n",
      "epoch:81 batch:10\ttrain accuracy: 0.9967\tloss: 0.027\tval acc: 0.975\n",
      "epoch:81 batch:20\ttrain accuracy: 0.9967\tloss: 0.0261\tval acc: 0.975\n",
      "epoch:82 batch:10\ttrain accuracy: 0.9967\tloss: 0.0268\tval acc: 0.975\n",
      "epoch:82 batch:20\ttrain accuracy: 0.9967\tloss: 0.0257\tval acc: 0.975\n",
      "epoch:83 batch:10\ttrain accuracy: 0.9972\tloss: 0.0244\tval acc: 0.975\n",
      "epoch:83 batch:20\ttrain accuracy: 0.9972\tloss: 0.0238\tval acc: 0.975\n",
      "epoch:84 batch:10\ttrain accuracy: 0.9978\tloss: 0.0244\tval acc: 0.975\n",
      "epoch:84 batch:20\ttrain accuracy: 0.9978\tloss: 0.0238\tval acc: 0.975\n",
      "epoch:85 batch:10\ttrain accuracy: 0.9978\tloss: 0.0239\tval acc: 0.975\n",
      "epoch:85 batch:20\ttrain accuracy: 0.9983\tloss: 0.0228\tval acc: 0.975\n",
      "epoch:86 batch:10\ttrain accuracy: 0.9989\tloss: 0.0198\tval acc: 0.975\n",
      "epoch:86 batch:20\ttrain accuracy: 0.9989\tloss: 0.0196\tval acc: 0.975\n",
      "epoch:87 batch:10\ttrain accuracy: 0.9978\tloss: 0.0216\tval acc: 0.975\n",
      "epoch:87 batch:20\ttrain accuracy: 0.9983\tloss: 0.0211\tval acc: 0.975\n",
      "epoch:88 batch:10\ttrain accuracy: 0.9989\tloss: 0.0197\tval acc: 0.975\n",
      "epoch:88 batch:20\ttrain accuracy: 0.9989\tloss: 0.0196\tval acc: 0.975\n",
      "epoch:89 batch:10\ttrain accuracy: 0.9983\tloss: 0.0198\tval acc: 0.975\n",
      "epoch:89 batch:20\ttrain accuracy: 0.9983\tloss: 0.0195\tval acc: 0.975\n",
      "epoch:90 batch:10\ttrain accuracy: 0.9989\tloss: 0.0183\tval acc: 0.975\n",
      "epoch:90 batch:20\ttrain accuracy: 0.9989\tloss: 0.0184\tval acc: 0.975\n",
      "epoch:91 batch:10\ttrain accuracy: 0.9983\tloss: 0.0191\tval acc: 0.98\n",
      "epoch:91 batch:20\ttrain accuracy: 0.9983\tloss: 0.0185\tval acc: 0.98\n",
      "epoch:92 batch:10\ttrain accuracy: 0.9989\tloss: 0.0177\tval acc: 0.975\n",
      "epoch:92 batch:20\ttrain accuracy: 0.9989\tloss: 0.0175\tval acc: 0.975\n",
      "epoch:93 batch:10\ttrain accuracy: 0.9978\tloss: 0.0194\tval acc: 0.975\n",
      "epoch:93 batch:20\ttrain accuracy: 0.9983\tloss: 0.0186\tval acc: 0.975\n",
      "epoch:94 batch:10\ttrain accuracy: 0.9989\tloss: 0.0162\tval acc: 0.975\n",
      "epoch:94 batch:20\ttrain accuracy: 0.9989\tloss: 0.0159\tval acc: 0.975\n",
      "epoch:95 batch:10\ttrain accuracy: 0.9989\tloss: 0.0156\tval acc: 0.975\n",
      "epoch:95 batch:20\ttrain accuracy: 0.9989\tloss: 0.0155\tval acc: 0.975\n",
      "epoch:96 batch:10\ttrain accuracy: 0.9989\tloss: 0.0139\tval acc: 0.975\n",
      "epoch:96 batch:20\ttrain accuracy: 0.9989\tloss: 0.014\tval acc: 0.975\n",
      "epoch:97 batch:10\ttrain accuracy: 0.9989\tloss: 0.0146\tval acc: 0.975\n",
      "epoch:97 batch:20\ttrain accuracy: 0.9989\tloss: 0.0146\tval acc: 0.975\n",
      "epoch:98 batch:10\ttrain accuracy: 0.9994\tloss: 0.0151\tval acc: 0.975\n",
      "epoch:98 batch:20\ttrain accuracy: 0.9994\tloss: 0.0148\tval acc: 0.975\n",
      "epoch:99 batch:10\ttrain accuracy: 0.9994\tloss: 0.0134\tval acc: 0.975\n",
      "epoch:99 batch:20\ttrain accuracy: 0.9989\tloss: 0.0133\tval acc: 0.975\n",
      "epoch:100 batch:10\ttrain accuracy: 0.9994\tloss: 0.0133\tval acc: 0.975\n",
      "epoch:100 batch:20\ttrain accuracy: 0.9994\tloss: 0.0132\tval acc: 0.975\n",
      "epoch:101 batch:10\ttrain accuracy: 0.9994\tloss: 0.0128\tval acc: 0.975\n",
      "epoch:101 batch:20\ttrain accuracy: 0.9989\tloss: 0.0128\tval acc: 0.98\n",
      "epoch:102 batch:10\ttrain accuracy: 1.0\tloss: 0.0128\tval acc: 0.98\n",
      "epoch:102 batch:20\ttrain accuracy: 1.0\tloss: 0.0123\tval acc: 0.975\n",
      "epoch:103 batch:10\ttrain accuracy: 1.0\tloss: 0.0123\tval acc: 0.975\n",
      "epoch:103 batch:20\ttrain accuracy: 1.0\tloss: 0.0114\tval acc: 0.975\n",
      "epoch:104 batch:10\ttrain accuracy: 1.0\tloss: 0.0109\tval acc: 0.975\n",
      "epoch:104 batch:20\ttrain accuracy: 1.0\tloss: 0.011\tval acc: 0.975\n",
      "epoch:105 batch:10\ttrain accuracy: 1.0\tloss: 0.0108\tval acc: 0.975\n",
      "epoch:105 batch:20\ttrain accuracy: 1.0\tloss: 0.0109\tval acc: 0.975\n",
      "epoch:106 batch:10\ttrain accuracy: 1.0\tloss: 0.0107\tval acc: 0.975\n",
      "epoch:106 batch:20\ttrain accuracy: 1.0\tloss: 0.0105\tval acc: 0.975\n",
      "epoch:107 batch:10\ttrain accuracy: 1.0\tloss: 0.0106\tval acc: 0.975\n",
      "epoch:107 batch:20\ttrain accuracy: 1.0\tloss: 0.0104\tval acc: 0.975\n",
      "epoch:108 batch:10\ttrain accuracy: 1.0\tloss: 0.0101\tval acc: 0.975\n",
      "epoch:108 batch:20\ttrain accuracy: 1.0\tloss: 0.0099\tval acc: 0.975\n",
      "epoch:109 batch:10\ttrain accuracy: 1.0\tloss: 0.0096\tval acc: 0.975\n",
      "epoch:109 batch:20\ttrain accuracy: 1.0\tloss: 0.0094\tval acc: 0.975\n",
      "epoch:110 batch:10\ttrain accuracy: 0.9994\tloss: 0.01\tval acc: 0.975\n",
      "epoch:110 batch:20\ttrain accuracy: 1.0\tloss: 0.0096\tval acc: 0.975\n",
      "epoch:111 batch:10\ttrain accuracy: 1.0\tloss: 0.009\tval acc: 0.98\n",
      "epoch:111 batch:20\ttrain accuracy: 1.0\tloss: 0.0089\tval acc: 0.975\n",
      "epoch:112 batch:10\ttrain accuracy: 1.0\tloss: 0.0089\tval acc: 0.97\n",
      "epoch:112 batch:20\ttrain accuracy: 1.0\tloss: 0.0084\tval acc: 0.97\n",
      "epoch:113 batch:10\ttrain accuracy: 1.0\tloss: 0.0087\tval acc: 0.975\n",
      "epoch:113 batch:20\ttrain accuracy: 1.0\tloss: 0.0083\tval acc: 0.975\n",
      "epoch:114 batch:10\ttrain accuracy: 1.0\tloss: 0.008\tval acc: 0.975\n",
      "epoch:114 batch:20\ttrain accuracy: 1.0\tloss: 0.0082\tval acc: 0.975\n",
      "epoch:115 batch:10\ttrain accuracy: 1.0\tloss: 0.0083\tval acc: 0.975\n",
      "epoch:115 batch:20\ttrain accuracy: 1.0\tloss: 0.0081\tval acc: 0.975\n",
      "epoch:116 batch:10\ttrain accuracy: 1.0\tloss: 0.0079\tval acc: 0.975\n",
      "epoch:116 batch:20\ttrain accuracy: 1.0\tloss: 0.0078\tval acc: 0.975\n",
      "epoch:117 batch:10\ttrain accuracy: 1.0\tloss: 0.0075\tval acc: 0.975\n",
      "epoch:117 batch:20\ttrain accuracy: 1.0\tloss: 0.0075\tval acc: 0.975\n",
      "epoch:118 batch:10\ttrain accuracy: 1.0\tloss: 0.0076\tval acc: 0.975\n",
      "epoch:118 batch:20\ttrain accuracy: 1.0\tloss: 0.0076\tval acc: 0.975\n",
      "epoch:119 batch:10\ttrain accuracy: 1.0\tloss: 0.0069\tval acc: 0.975\n",
      "epoch:119 batch:20\ttrain accuracy: 1.0\tloss: 0.0069\tval acc: 0.975\n"
     ]
    },
    {
     "name": "stdout",
     "output_type": "stream",
     "text": [
      "epoch:120 batch:10\ttrain accuracy: 1.0\tloss: 0.0068\tval acc: 0.975\n",
      "epoch:120 batch:20\ttrain accuracy: 1.0\tloss: 0.0068\tval acc: 0.975\n",
      "epoch:121 batch:10\ttrain accuracy: 1.0\tloss: 0.0073\tval acc: 0.975\n",
      "epoch:121 batch:20\ttrain accuracy: 1.0\tloss: 0.0071\tval acc: 0.975\n",
      "epoch:122 batch:10\ttrain accuracy: 1.0\tloss: 0.0067\tval acc: 0.975\n",
      "epoch:122 batch:20\ttrain accuracy: 1.0\tloss: 0.0066\tval acc: 0.975\n",
      "epoch:123 batch:10\ttrain accuracy: 1.0\tloss: 0.0061\tval acc: 0.975\n",
      "epoch:123 batch:20\ttrain accuracy: 1.0\tloss: 0.006\tval acc: 0.975\n",
      "epoch:124 batch:10\ttrain accuracy: 1.0\tloss: 0.0058\tval acc: 0.975\n",
      "epoch:124 batch:20\ttrain accuracy: 1.0\tloss: 0.0057\tval acc: 0.975\n",
      "epoch:125 batch:10\ttrain accuracy: 1.0\tloss: 0.0057\tval acc: 0.975\n",
      "epoch:125 batch:20\ttrain accuracy: 1.0\tloss: 0.0056\tval acc: 0.975\n",
      "epoch:126 batch:10\ttrain accuracy: 1.0\tloss: 0.0057\tval acc: 0.975\n",
      "epoch:126 batch:20\ttrain accuracy: 1.0\tloss: 0.0057\tval acc: 0.975\n",
      "epoch:127 batch:10\ttrain accuracy: 1.0\tloss: 0.0055\tval acc: 0.975\n",
      "epoch:127 batch:20\ttrain accuracy: 1.0\tloss: 0.0053\tval acc: 0.975\n",
      "epoch:128 batch:10\ttrain accuracy: 1.0\tloss: 0.0055\tval acc: 0.975\n",
      "epoch:128 batch:20\ttrain accuracy: 1.0\tloss: 0.0052\tval acc: 0.975\n",
      "epoch:129 batch:10\ttrain accuracy: 1.0\tloss: 0.005\tval acc: 0.975\n",
      "epoch:129 batch:20\ttrain accuracy: 1.0\tloss: 0.005\tval acc: 0.975\n",
      "epoch:130 batch:10\ttrain accuracy: 1.0\tloss: 0.0049\tval acc: 0.975\n",
      "epoch:130 batch:20\ttrain accuracy: 1.0\tloss: 0.0047\tval acc: 0.975\n",
      "epoch:131 batch:10\ttrain accuracy: 1.0\tloss: 0.0046\tval acc: 0.975\n",
      "epoch:131 batch:20\ttrain accuracy: 1.0\tloss: 0.0045\tval acc: 0.975\n",
      "epoch:132 batch:10\ttrain accuracy: 1.0\tloss: 0.0045\tval acc: 0.975\n",
      "epoch:132 batch:20\ttrain accuracy: 1.0\tloss: 0.0046\tval acc: 0.975\n",
      "epoch:133 batch:10\ttrain accuracy: 1.0\tloss: 0.0045\tval acc: 0.975\n",
      "epoch:133 batch:20\ttrain accuracy: 1.0\tloss: 0.0044\tval acc: 0.975\n",
      "epoch:134 batch:10\ttrain accuracy: 1.0\tloss: 0.0039\tval acc: 0.975\n",
      "epoch:134 batch:20\ttrain accuracy: 1.0\tloss: 0.0039\tval acc: 0.975\n",
      "epoch:135 batch:10\ttrain accuracy: 1.0\tloss: 0.0039\tval acc: 0.975\n",
      "epoch:135 batch:20\ttrain accuracy: 1.0\tloss: 0.0039\tval acc: 0.975\n",
      "epoch:136 batch:10\ttrain accuracy: 1.0\tloss: 0.0039\tval acc: 0.975\n",
      "epoch:136 batch:20\ttrain accuracy: 1.0\tloss: 0.0038\tval acc: 0.975\n",
      "epoch:137 batch:10\ttrain accuracy: 1.0\tloss: 0.0039\tval acc: 0.975\n",
      "epoch:137 batch:20\ttrain accuracy: 1.0\tloss: 0.0038\tval acc: 0.975\n",
      "epoch:138 batch:10\ttrain accuracy: 1.0\tloss: 0.0036\tval acc: 0.975\n",
      "epoch:138 batch:20\ttrain accuracy: 1.0\tloss: 0.0036\tval acc: 0.975\n",
      "epoch:139 batch:10\ttrain accuracy: 1.0\tloss: 0.0035\tval acc: 0.975\n",
      "epoch:139 batch:20\ttrain accuracy: 1.0\tloss: 0.0034\tval acc: 0.975\n",
      "epoch:140 batch:10\ttrain accuracy: 1.0\tloss: 0.0032\tval acc: 0.975\n",
      "epoch:140 batch:20\ttrain accuracy: 1.0\tloss: 0.0033\tval acc: 0.975\n",
      "epoch:141 batch:10\ttrain accuracy: 1.0\tloss: 0.0033\tval acc: 0.975\n",
      "epoch:141 batch:20\ttrain accuracy: 1.0\tloss: 0.0033\tval acc: 0.975\n",
      "epoch:142 batch:10\ttrain accuracy: 1.0\tloss: 0.0031\tval acc: 0.975\n",
      "epoch:142 batch:20\ttrain accuracy: 1.0\tloss: 0.0031\tval acc: 0.975\n",
      "epoch:143 batch:10\ttrain accuracy: 1.0\tloss: 0.003\tval acc: 0.975\n",
      "epoch:143 batch:20\ttrain accuracy: 1.0\tloss: 0.003\tval acc: 0.975\n",
      "epoch:144 batch:10\ttrain accuracy: 1.0\tloss: 0.0029\tval acc: 0.975\n",
      "epoch:144 batch:20\ttrain accuracy: 1.0\tloss: 0.003\tval acc: 0.975\n",
      "epoch:145 batch:10\ttrain accuracy: 1.0\tloss: 0.0028\tval acc: 0.975\n",
      "epoch:145 batch:20\ttrain accuracy: 1.0\tloss: 0.0029\tval acc: 0.975\n",
      "epoch:146 batch:10\ttrain accuracy: 1.0\tloss: 0.0028\tval acc: 0.975\n",
      "epoch:146 batch:20\ttrain accuracy: 1.0\tloss: 0.0027\tval acc: 0.975\n",
      "epoch:147 batch:10\ttrain accuracy: 1.0\tloss: 0.0027\tval acc: 0.975\n",
      "epoch:147 batch:20\ttrain accuracy: 1.0\tloss: 0.0026\tval acc: 0.975\n",
      "epoch:148 batch:10\ttrain accuracy: 1.0\tloss: 0.0025\tval acc: 0.97\n",
      "epoch:148 batch:20\ttrain accuracy: 1.0\tloss: 0.0025\tval acc: 0.97\n",
      "epoch:149 batch:10\ttrain accuracy: 1.0\tloss: 0.0025\tval acc: 0.975\n",
      "epoch:149 batch:20\ttrain accuracy: 1.0\tloss: 0.0025\tval acc: 0.975\n"
     ]
    }
   ],
   "source": [
    "epochs = 150\n",
    "learn_rate = .0001\n",
    "batch_size = 64\n",
    "\n",
    "with tf.Session() as sess:\n",
    "    sess.run(tf.global_variables_initializer())\n",
    "    saver = tf.train.Saver()\n",
    "    for epoch in range(epochs):\n",
    "        batch_i = 1\n",
    "        \n",
    "        for x_batch,y_batch in next_batch(x_train,y_train,batch_size):\n",
    "            sess.run(optimizer,feed_dict={x:x_batch,y:y_batch,lr:learn_rate,exnet.train_pl:True})\n",
    "        \n",
    "            if batch_i % 10 == 0:\n",
    "            \n",
    "                valacc = sess.run(accuracy,feed_dict={x:x_val,y:y_val,exnet.train_pl:False})\n",
    "                loss, trainacc = sess.run([loss_op, accuracy], feed_dict={x:x_train,y:y_train,exnet.train_pl:False})\n",
    "                print(\"epoch:{} batch:{}\\ttrain accuracy: {}\\tloss: {}\\tval acc: {}\"\n",
    "                 .format(epoch,batch_i,round(float(trainacc),4),round(float(loss),4), round(float(valacc),4)))\n",
    "                \n",
    "                \n",
    "            batch_i += 1\n",
    "    X,Y = balanced_subset(images,nplabels)\n",
    "    X,Y = shuffle(X,Y)\n",
    "    #print(sess.run(prediction,feed_dict={x:X,y:Y}))\n",
    "    \n",
    "  \n",
    "    save_path = saver.save(sess, \"checkpoints/model.ckpt\")\n",
    "\n",
    "            "
   ]
  },
  {
   "cell_type": "code",
   "execution_count": 31,
   "metadata": {},
   "outputs": [],
   "source": [
    "batch_i = np.array(0)\n",
    "trainacc = np.array(0.238473172372)\n",
    "loss = np.array(12314.52365646352)"
   ]
  },
  {
   "cell_type": "code",
   "execution_count": 34,
   "metadata": {},
   "outputs": [
    {
     "name": "stdout",
     "output_type": "stream",
     "text": [
      "batch: 0\ttrain accuracy: 0.2385\tloss: 12314.5237\n"
     ]
    }
   ],
   "source": [
    "print(\"batch: {}\\ttrain accuracy: {}\\tloss: {}\"\n",
    "                      .format(batch_i,np.round(trainacc,4),np.round(loss,4)))"
   ]
  },
  {
   "cell_type": "code",
   "execution_count": 36,
   "metadata": {},
   "outputs": [],
   "source": [
    "num_classes = len(count.most_common())\n",
    "x = tf.placeholder(dtype=tf.float64, shape=(None,128,128),name='x')\n",
    "y = tf.placeholder(dtype=tf.int32, shape=(None),name=\"y\")\n",
    "lr = tf.placeholder(dtype=tf.float32, shape=[], name=\"lr\")"
   ]
  },
  {
   "cell_type": "code",
   "execution_count": 38,
   "metadata": {},
   "outputs": [],
   "source": [
    "#batch,128,128,1\n",
    "\n",
    "#first convolution\n",
    "conv = tf.contrib.layers.conv2d(\n",
    "    reshaped,\n",
    "    32,\n",
    "    (9,9),\n",
    "    stride=(1,1),\n",
    "    padding='VALID',\n",
    "    weights_initializer=tf.initializers.random_normal)\n",
    "#batch,120,120,32\n",
    "\n",
    "#subsample\n",
    "pool = tf.contrib.layers.max_pool2d(\n",
    "    conv,\n",
    "    (4,4),\n",
    "    stride=(4,4))\n",
    "#batch,30,30,32\n",
    "\n",
    "#second convolution\n",
    "conv2 = tf.contrib.layers.conv2d(\n",
    "    pool,\n",
    "    64,\n",
    "    (11,11),\n",
    "    stride=(1,1),\n",
    "    padding='VALID',\n",
    "    weights_initializer=tf.initializers.random_normal)\n",
    "#batch,20,20,64\n",
    "\n",
    "#subsample\n",
    "pool2 = tf.contrib.layers.max_pool2d(\n",
    "    conv2,\n",
    "    (4,4),\n",
    "    stride=(4,4))\n",
    "#batch,5,5,64\n",
    "\n",
    "#flatten\n",
    "flat = tf.contrib.layers.flatten(pool2)\n",
    "#batch,1600\n",
    "\n",
    "#fully connected\n",
    "fc = tf.contrib.layers.fully_connected(\n",
    "    flat,\n",
    "    256,\n",
    "    activation_fn=tf.nn.leaky_relu)\n",
    "\n",
    "#batch,256\n",
    "logits = tf.contrib.layers.fully_connected(\n",
    "    fc,\n",
    "    num_classes,\n",
    "    activation_fn=None)\n",
    "\n",
    "prediction = tf.nn.softmax(logits,)"
   ]
  },
  {
   "cell_type": "code",
   "execution_count": 28,
   "metadata": {},
   "outputs": [
    {
     "name": "stdout",
     "output_type": "stream",
     "text": [
      "INFO:tensorflow:Restoring parameters from checkpoints/model.ckpt\n"
     ]
    }
   ],
   "source": [
    "with tf.Session() as sess:\n",
    "    saver = tf.train.Saver()\n",
    "    saver.restore(sess, \"checkpoints/model.ckpt\")\n",
    "    sess.run()"
   ]
  },
  {
   "cell_type": "code",
   "execution_count": null,
   "metadata": {},
   "outputs": [],
   "source": []
  }
 ],
 "metadata": {
  "kernelspec": {
   "display_name": "Python 3",
   "language": "python",
   "name": "python3"
  },
  "language_info": {
   "codemirror_mode": {
    "name": "ipython",
    "version": 3
   },
   "file_extension": ".py",
   "mimetype": "text/x-python",
   "name": "python",
   "nbconvert_exporter": "python",
   "pygments_lexer": "ipython3",
   "version": "3.6.7"
  }
 },
 "nbformat": 4,
 "nbformat_minor": 2
}
