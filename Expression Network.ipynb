{
 "cells": [
  {
   "cell_type": "code",
   "execution_count": 14,
   "metadata": {},
   "outputs": [],
   "source": [
    "import numpy as np\n",
    "import csv"
   ]
  },
  {
   "cell_type": "code",
   "execution_count": 15,
   "metadata": {},
   "outputs": [
    {
     "data": {
      "text/plain": [
       "998"
      ]
     },
     "execution_count": 15,
     "metadata": {},
     "output_type": "execute_result"
    }
   ],
   "source": [
    "labels = []\n",
    "\n",
    "with open(\"images/faceLabels.csv\") as csvfile:\n",
    "    reader = csv.reader(csvfile, delimiter=\",\")\n",
    "    for row in reader:\n",
    "        labels.append(row)\n",
    "labels = np.array(labels[1:])\n",
    "len(labels)"
   ]
  },
  {
   "cell_type": "code",
   "execution_count": 16,
   "metadata": {},
   "outputs": [],
   "source": [
    "from skimage import color\n",
    "from skimage import io\n",
    "from skimage.transform import resize\n",
    "import matplotlib.pyplot as plt\n",
    "from tqdm import tqdm"
   ]
  },
  {
   "cell_type": "code",
   "execution_count": 17,
   "metadata": {},
   "outputs": [
    {
     "name": "stdout",
     "output_type": "stream",
     "text": [
      "reading in images...\n"
     ]
    },
    {
     "name": "stderr",
     "output_type": "stream",
     "text": [
      "100%|████████████████████████████████████████████████████████████████████████████| 998/998 [00:01<00:00, 652.14it/s]\n"
     ]
    },
    {
     "name": "stdout",
     "output_type": "stream",
     "text": [
      "saving...\n",
      "['Neutral' 'Neutral' 'Neutral' 'Neutral' 'Neutral' 'Neutral' 'Neutral'\n",
      " 'Neutral' 'Neutral' 'Neutral' 'Neutral' 'Neutral' 'Neutral' 'Neutral'\n",
      " 'Neutral' 'Neutral' 'Neutral' 'Neutral' 'Neutral' 'Happy' 'Happy' 'Happy'\n",
      " 'Happy' 'Happy' 'Happy' 'Happy' 'Happy' 'Happy' 'Happy' 'Happy' 'Happy'\n",
      " 'Happy' 'Happy' 'Happy' 'Happy' 'Happy' 'Happy' 'Happy' 'Happy' 'Happy'\n",
      " 'Sad' 'Sad' 'Sad' 'Sad' 'Sad' 'Sad' 'Sad' 'Sad' 'Sad' 'Sad' 'Sad' 'Sad'\n",
      " 'Sad' 'Sad' 'Sad' 'Sad' 'Sad' 'Sad' 'Sad' 'Sad' 'Angry' 'Angry' 'Angry'\n",
      " 'Angry' 'Angry' 'Angry' 'Angry' 'Angry' 'Angry' 'Angry' 'Angry' 'Angry'\n",
      " 'Angry' 'Angry' 'Angry' 'Angry' 'Angry' 'Angry' 'Angry' 'Angry' 'Neutral'\n",
      " 'Neutral' 'Neutral' 'Neutral' 'Neutral' 'Neutral' 'Neutral' 'Neutral'\n",
      " 'Neutral' 'Neutral' 'Neutral' 'Neutral' 'Neutral' 'Neutral' 'Neutral'\n",
      " 'Neutral' 'Neutral' 'Neutral' 'Neutral' 'Neutral' 'Happy' 'Happy' 'Happy'\n",
      " 'Happy' 'Happy' 'Happy' 'Happy' 'Happy' 'Happy' 'Happy' 'Happy' 'Happy'\n",
      " 'Happy' 'Happy' 'Happy' 'Happy' 'Happy' 'Happy' 'Happy' 'Sad' 'Sad' 'Sad'\n",
      " 'Sad' 'Sad' 'Sad' 'Sad' 'Sad' 'Sad' 'Sad' 'Sad' 'Sad' 'Sad' 'Sad' 'Sad'\n",
      " 'Sad' 'Sad' 'Sad' 'Sad' 'Sad' 'Angry' 'Angry' 'Angry' 'Angry' 'Angry'\n",
      " 'Angry' 'Angry' 'Angry' 'Angry' 'Angry' 'Angry' 'Angry' 'Angry' 'Angry'\n",
      " 'Angry' 'Angry' 'Angry' 'Angry' 'Angry' 'Neutral' 'Neutral' 'Neutral'\n",
      " 'Neutral' 'Neutral' 'Neutral' 'Neutral' 'Neutral' 'Happy' 'Neutral'\n",
      " 'Neutral' 'Neutral' 'Neutral' 'Neutral' 'Neutral' 'Neutral' 'Neutral'\n",
      " 'Neutral' 'Neutral' 'Neutral' 'Neutral' 'Neutral' 'Neutral' 'Neutral'\n",
      " 'Neutral' 'Neutral' 'Neutral' 'Neutral' 'Neutral' 'Neutral' 'Neutral'\n",
      " 'Neutral' 'Neutral' 'Neutral' 'Neutral' 'Neutral' 'Neutral' 'Neutral'\n",
      " 'Neutral' 'Neutral' 'Neutral' 'Neutral' 'Neutral' 'Neutral' 'Neutral'\n",
      " 'Neutral' 'Neutral' 'Neutral' 'Neutral' 'Neutral' 'Neutral' 'Neutral'\n",
      " 'Neutral' 'Neutral' 'Neutral' 'Neutral' 'Neutral' 'Neutral' 'Neutral'\n",
      " 'Neutral' 'Neutral' 'Neutral' 'Neutral' 'Neutral' 'Neutral' 'Neutral'\n",
      " 'Neutral' 'Neutral' 'Neutral' 'Neutral' 'Neutral' 'Neutral' 'Neutral'\n",
      " 'Neutral' 'Neutral' 'Neutral' 'Neutral' 'Neutral' 'Neutral' 'Neutral'\n",
      " 'Neutral' 'Neutral' 'Neutral' 'Neutral' 'Neutral' 'Neutral' 'Neutral'\n",
      " 'Neutral' 'Neutral' 'Neutral' 'Neutral' 'Neutral' 'Neutral' 'Neutral'\n",
      " 'Neutral' 'Neutral' 'Neutral' 'Neutral' 'Neutral' 'Neutral' 'Neutral'\n",
      " 'Happy' 'Happy' 'Happy' 'Happy' 'Happy' 'Happy' 'Happy' 'Happy' 'Happy'\n",
      " 'Happy' 'Happy' 'Happy' 'Happy' 'Happy' 'Happy' 'Happy' 'Happy' 'Happy'\n",
      " 'Happy' 'Happy' 'Happy' 'Happy' 'Happy' 'Happy' 'Happy' 'Happy' 'Happy'\n",
      " 'Happy' 'Happy' 'Happy' 'Happy' 'Happy' 'Happy' 'Happy' 'Happy' 'Happy'\n",
      " 'Happy' 'Happy' 'Happy' 'Happy' 'Happy' 'Happy' 'Happy' 'Happy' 'Happy'\n",
      " 'Happy' 'Happy' 'Happy' 'Happy' 'Happy' 'Happy' 'Happy' 'Happy' 'Happy'\n",
      " 'Happy' 'Happy' 'Happy' 'Happy' 'Happy' 'Happy' 'Happy' 'Happy' 'Happy'\n",
      " 'Happy' 'Happy' 'Happy' 'Happy' 'Happy' 'Happy' 'Happy' 'Happy' 'Happy'\n",
      " 'Happy' 'Happy' 'Happy' 'Happy' 'Happy' 'Happy' 'Happy' 'Happy' 'Happy'\n",
      " 'Happy' 'Happy' 'Happy' 'Happy' 'Happy' 'Happy' 'Happy' 'Happy' 'Happy'\n",
      " 'Happy' 'Happy' 'Happy' 'Happy' 'Happy' 'Happy' 'Happy' 'Happy' 'Happy'\n",
      " 'Sad' 'Sad' 'Sad' 'Sad' 'Sad' 'Sad' 'Sad' 'Sad' 'Sad' 'Sad' 'Sad' 'Sad'\n",
      " 'Sad' 'Sad' 'Sad' 'Sad' 'Sad' 'Sad' 'Sad' 'Sad' 'Sad' 'Sad' 'Sad' 'Sad'\n",
      " 'Sad' 'Sad' 'Sad' 'Sad' 'Sad' 'Sad' 'Sad' 'Sad' 'Sad' 'Sad' 'Sad' 'Sad'\n",
      " 'Sad' 'Sad' 'Sad' 'Sad' 'Sad' 'Sad' 'Sad' 'Sad' 'Sad' 'Sad' 'Sad' 'Sad'\n",
      " 'Sad' 'Sad' 'Sad' 'Sad' 'Sad' 'Sad' 'Sad' 'Sad' 'Sad' 'Sad' 'Sad' 'Sad'\n",
      " 'Sad' 'Sad' 'Sad' 'Sad' 'Sad' 'Sad' 'Sad' 'Sad' 'Sad' 'Sad' 'Sad' 'Sad'\n",
      " 'Sad' 'Sad' 'Sad' 'Sad' 'Sad' 'Sad' 'Sad' 'Sad' 'Sad' 'Sad' 'Sad' 'Sad'\n",
      " 'Sad' 'Sad' 'Sad' 'Sad' 'Sad' 'Sad' 'Sad' 'Sad' 'Sad' 'Sad' 'Sad' 'Sad'\n",
      " 'Sad' 'Sad' 'Sad' 'Sad' 'Angry' 'Angry' 'Angry' 'Angry' 'Angry' 'Angry'\n",
      " 'Angry' 'Angry' 'Angry' 'Angry' 'Angry' 'Angry' 'Angry' 'Angry' 'Angry'\n",
      " 'Angry' 'Angry' 'Angry' 'Angry' 'Angry' 'Angry' 'Angry' 'Angry' 'Angry'\n",
      " 'Angry' 'Angry' 'Angry' 'Angry' 'Angry' 'Angry' 'Angry' 'Angry' 'Angry'\n",
      " 'Angry' 'Angry' 'Angry' 'Angry' 'Angry' 'Angry' 'Angry' 'Angry' 'Angry'\n",
      " 'Angry' 'Angry' 'Angry' 'Angry' 'Angry' 'Angry' 'Angry' 'Angry' 'Angry'\n",
      " 'Angry' 'Angry' 'Angry' 'Angry' 'Angry' 'Angry' 'Angry' 'Angry' 'Angry'\n",
      " 'Angry' 'Angry' 'Angry' 'Angry' 'Angry' 'Angry' 'Angry' 'Angry' 'Angry'\n",
      " 'Angry' 'Angry' 'Angry' 'Angry' 'Angry' 'Angry' 'Angry' 'Angry' 'Angry'\n",
      " 'Angry' 'Angry' 'Angry' 'Angry' 'Angry' 'Angry' 'Angry' 'Angry' 'Angry'\n",
      " 'Angry' 'Angry' 'Angry' 'Angry' 'Angry' 'Angry' 'Angry' 'Angry' 'Angry'\n",
      " 'Angry' 'Angry' 'Angry' 'Angry' 'Happy' 'Happy' 'Happy' 'Happy' 'Happy'\n",
      " 'Happy' 'Happy' 'Happy' 'Happy' 'Happy' 'Happy' 'Happy' 'Happy' 'Happy'\n",
      " 'Happy' 'Happy' 'Happy' 'Happy' 'Happy' 'Happy' 'Happy' 'Happy' 'Happy'\n",
      " 'Happy' 'Happy' 'Happy' 'Happy' 'Happy' 'Happy' 'Happy' 'Happy' 'Happy'\n",
      " 'Happy' 'Happy' 'Happy' 'Happy' 'Happy' 'Happy' 'Happy' 'Happy' 'Happy'\n",
      " 'Happy' 'Happy' 'Happy' 'Happy' 'Happy' 'Happy' 'Happy' 'Happy' 'Happy'\n",
      " 'Happy' 'Happy' 'Happy' 'Happy' 'Happy' 'Happy' 'Happy' 'Happy' 'Happy'\n",
      " 'Happy' 'Happy' 'Happy' 'Happy' 'Happy' 'Happy' 'Happy' 'Happy' 'Happy'\n",
      " 'Happy' 'Happy' 'Happy' 'Happy' 'Happy' 'Happy' 'Happy' 'Happy' 'Happy'\n",
      " 'Happy' 'Happy' 'Happy' 'Happy' 'Happy' 'Happy' 'Happy' 'Happy' 'Happy'\n",
      " 'Happy' 'Happy' 'Happy' 'Happy' 'Happy' 'Happy' 'Happy' 'Happy' 'Happy'\n",
      " 'Happy' 'Happy' 'Happy' 'Happy' 'Happy' 'Sad' 'Sad' 'Sad' 'Sad' 'Sad'\n",
      " 'Sad' 'Sad' 'Sad' 'Sad' 'Sad' 'Sad' 'Sad' 'Sad' 'Sad' 'Sad' 'Sad' 'Sad'\n",
      " 'Sad' 'Sad' 'Sad' 'Sad' 'Sad' 'Sad' 'Sad' 'Sad' 'Sad' 'Sad' 'Sad' 'Sad'\n",
      " 'Sad' 'Sad' 'Sad' 'Sad' 'Sad' 'Sad' 'Sad' 'Sad' 'Sad' 'Sad' 'Sad' 'Sad'\n",
      " 'Sad' 'Sad' 'Sad' 'Sad' 'Sad' 'Sad' 'Sad' 'Sad' 'Sad' 'Sad' 'Sad' 'Sad'\n",
      " 'Sad' 'Sad' 'Sad' 'Sad' 'Sad' 'Sad' 'Sad' 'Sad' 'Sad' 'Sad' 'Sad' 'Sad'\n",
      " 'Sad' 'Sad' 'Sad' 'Sad' 'Sad' 'Sad' 'Sad' 'Sad' 'Sad' 'Sad' 'Sad' 'Sad'\n",
      " 'Sad' 'Sad' 'Sad' 'Sad' 'Sad' 'Sad' 'Sad' 'Sad' 'Sad' 'Sad' 'Sad' 'Sad'\n",
      " 'Sad' 'Sad' 'Sad' 'Sad' 'Sad' 'Sad' 'Sad' 'Sad' 'Sad' 'Sad' 'Sad' 'Angry'\n",
      " 'Angry' 'Angry' 'Angry' 'Angry' 'Angry' 'Angry' 'Angry' 'Angry' 'Angry'\n",
      " 'Angry' 'Angry' 'Angry' 'Angry' 'Angry' 'Angry' 'Angry' 'Angry' 'Angry'\n",
      " 'Angry' 'Angry' 'Angry' 'Angry' 'Angry' 'Angry' 'Angry' 'Angry' 'Angry'\n",
      " 'Angry' 'Angry' 'Angry' 'Angry' 'Angry' 'Angry' 'Angry' 'Angry' 'Angry'\n",
      " 'Angry' 'Angry' 'Angry' 'Angry' 'Angry' 'Angry' 'Angry' 'Angry' 'Angry'\n",
      " 'Angry' 'Angry' 'Angry' 'Angry' 'Angry' 'Angry' 'Angry' 'Angry' 'Angry'\n",
      " 'Angry' 'Angry' 'Angry' 'Angry' 'Angry' 'Angry' 'Angry' 'Angry' 'Angry'\n",
      " 'Angry' 'Angry' 'Angry' 'Angry' 'Angry' 'Angry' 'Angry' 'Angry' 'Angry'\n",
      " 'Angry' 'Angry' 'Angry' 'Angry' 'Angry' 'Angry' 'Angry' 'Angry' 'Angry'\n",
      " 'Angry' 'Angry' 'Angry' 'Angry' 'Angry' 'Angry' 'Angry' 'Angry' 'Angry'\n",
      " 'Angry' 'Angry' 'Angry' 'Angry' 'Angry' 'Angry' 'Angry' 'Angry' 'Angry'\n",
      " 'Angry' 'Angry' 'Angry' 'Angry' 'Neutral' 'Neutral' 'Neutral' 'Neutral'\n",
      " 'Neutral' 'Neutral' 'Neutral' 'Neutral' 'Neutral' 'Neutral' 'Neutral'\n",
      " 'Neutral' 'Neutral' 'Neutral' 'Neutral' 'Neutral' 'Neutral' 'Neutral'\n",
      " 'Neutral' 'Neutral' 'Neutral' 'Neutral' 'Neutral' 'Neutral' 'Neutral'\n",
      " 'Neutral' 'Neutral' 'Neutral' 'Neutral' 'Neutral' 'Neutral' 'Neutral'\n",
      " 'Neutral' 'Neutral' 'Neutral' 'Neutral' 'Neutral' 'Neutral' 'Neutral'\n",
      " 'Neutral' 'Neutral' 'Neutral' 'Neutral' 'Neutral' 'Neutral' 'Neutral'\n",
      " 'Neutral' 'Neutral' 'Neutral' 'Neutral' 'Neutral' 'Neutral' 'Neutral'\n",
      " 'Neutral' 'Neutral' 'Neutral' 'Neutral' 'Neutral' 'Neutral' 'Neutral'\n",
      " 'Neutral' 'Neutral' 'Neutral' 'Neutral' 'Neutral' 'Neutral' 'Neutral'\n",
      " 'Neutral' 'Neutral' 'Neutral' 'Neutral' 'Neutral' 'Neutral' 'Neutral'\n",
      " 'Neutral' 'Neutral' 'Neutral' 'Neutral' 'Neutral' 'Neutral' 'Neutral'\n",
      " 'Neutral' 'Neutral' 'Neutral' 'Neutral' 'Neutral' 'Neutral' 'Neutral'\n",
      " 'Neutral' 'Neutral' 'Neutral' 'Neutral' 'Neutral' 'Neutral' 'Neutral'\n",
      " 'Neutral' 'Neutral' 'Neutral' 'Neutral' 'Neutral' 'Neutral' 'Neutral'\n",
      " 'Neutral' 'Neutral' 'Neutral' 'Neutral' 'Neutral' 'Neutral' 'Neutral'\n",
      " 'Neutral' 'Happy' 'Happy' 'Happy' 'Happy' 'Happy' 'Happy' 'Happy' 'Happy'\n",
      " 'Happy' 'Happy' 'Angry' 'Angry' 'Angry' 'Angry' 'Angry' 'Angry' 'Sad'\n",
      " 'Sad' 'Sad' 'Sad' 'Sad' 'Sad' 'Sad' 'Sad' 'Sad' 'Sad']\n"
     ]
    }
   ],
   "source": [
    "#if true, re-reads and saves all images to numpy array\n",
    "if False:\n",
    "    images = []\n",
    "    size = (128,128)\n",
    "    print(\"reading in images...\")\n",
    "    for line in tqdm(labels):\n",
    "        ##read and convert to Black and White\n",
    "\n",
    "        img = io.imread('images/'+line[0], as_grey=True)\n",
    "        img = resize(img, size)\n",
    "        images.append(img)\n",
    "    print(\"saving...\")\n",
    "    \n",
    "    npimages = np.zeros(shape=(len(images),*size), dtype=np.float64)\n",
    "    for i,im in enumerate(images):\n",
    "        npimages[i] = im\n",
    "    labels = np.array(labels[:,1],dtype=str)\n",
    "    print(labels)\n",
    "    np.save(\"data/labels.npy\",labels)\n",
    "    np.save(\"data/images.npy\",npimages)\n",
    "    "
   ]
  },
  {
   "cell_type": "code",
   "execution_count": 18,
   "metadata": {},
   "outputs": [
    {
     "name": "stdout",
     "output_type": "stream",
     "text": [
      "float64\n",
      "<U11\n"
     ]
    }
   ],
   "source": [
    "images = np.load(\"data/images.npy\")\n",
    "labels = np.load(\"data/labels.npy\")\n",
    "print(images.dtype)\n",
    "print(labels.dtype)"
   ]
  },
  {
   "cell_type": "code",
   "execution_count": 28,
   "metadata": {},
   "outputs": [
    {
     "name": "stdout",
     "output_type": "stream",
     "text": [
      "\t\tSad\n"
     ]
    },
    {
     "data": {
      "image/png": "[encoded data removed]",
      "text/plain": [
       "<Figure size 432x288 with 1 Axes>"
      ]
     },
     "metadata": {
      "needs_background": "light"
     },
     "output_type": "display_data"
    }
   ],
   "source": [
    "idx = np.random.randint(0,len(labels))\n",
    "plt.imshow(images[idx], cmap=\"gray\")\n",
    "print(\"\\t\\t\"+str(labels[idx]))"
   ]
  },
  {
   "cell_type": "code",
   "execution_count": 29,
   "metadata": {},
   "outputs": [],
   "source": [
    "import random\n",
    "def balanced_subset(images,labels):\n",
    "    #np.warnings.filterwarnings('ignore')\n",
    "    count = Counter(labels)\n",
    "    perclass_count = np.array([[c,count[c]] for c in count.keys()])\n",
    "    max_n = min(perclass_count[:,1])\n",
    "    \n",
    "    perclass_indexes = {cname:random.sample(range(0, n), max_n) for cname,n in perclass_count}\n",
    "    perclass_index = {label:0 for label in count.keys()}\n",
    "    \n",
    "    newlabels = []\n",
    "    newimages = []\n",
    "    total = 0\n",
    "    for i in range(len(labels)):\n",
    "        \n",
    "        label = labels[i]\n",
    "\n",
    "        if perclass_index[label] in perclass_indexes[label]:\n",
    "            total += 1\n",
    "            newlabels.append(label)\n",
    "            newimages.append(images[i])\n",
    "        perclass_index[label] += 1\n",
    "            \n",
    "    newimages, newlabels = np.array(newimages),np.array(newlabels)   \n",
    "        \n",
    "    #print(perclass_count,perclass_indexes)\n",
    "    return newimages, newlabels"
   ]
  },
  {
   "cell_type": "code",
   "execution_count": 30,
   "metadata": {},
   "outputs": [
    {
     "name": "stdout",
     "output_type": "stream",
     "text": [
      "count: [('happy', 250), ('sad', 250), ('neutral', 249), ('angry', 249)] \n",
      "\n"
     ]
    }
   ],
   "source": [
    "from collections import Counter\n",
    "labels = [x.lower() for x in labels]\n",
    "count = Counter(labels)\n",
    "#print(c.most_common())\n",
    "label2int = {y:x for x,(y,_) in enumerate(count.most_common())}\n",
    "int2label = {label2int[key]:key for key in label2int.keys()}\n",
    "\n",
    "nplabels = np.array([label2int[x] for x in labels])\n",
    "assert(len(nplabels) == len(images))\n",
    "print(\"count:\",count.most_common(),\"\\n\")"
   ]
  },
  {
   "cell_type": "code",
   "execution_count": 32,
   "metadata": {},
   "outputs": [
    {
     "data": {
      "text/plain": [
       "50"
      ]
     },
     "execution_count": 32,
     "metadata": {},
     "output_type": "execute_result"
    }
   ],
   "source": [
    "from sklearn.model_selection import train_test_split\n",
    "from sklearn.utils import shuffle\n",
    "x_train, x_val, y_train, y_val = train_test_split(images, nplabels, test_size=.05)\n",
    "len(y_val)"
   ]
  },
  {
   "cell_type": "code",
   "execution_count": 33,
   "metadata": {},
   "outputs": [],
   "source": [
    "def next_batch(images, labels, batch_size):\n",
    "    images, labels = shuffle(images,labels)\n",
    "    for i in range(0,len(labels),batch_size):\n",
    "        if i+batch_size >= len(labels):\n",
    "            yield images[i:],labels[i:]\n",
    "        else:\n",
    "            yield images[i:i+batch_size],labels[i:i+batch_size]"
   ]
  },
  {
   "cell_type": "code",
   "execution_count": 34,
   "metadata": {},
   "outputs": [
    {
     "name": "stdout",
     "output_type": "stream",
     "text": [
      "(128, 128)\n"
     ]
    }
   ],
   "source": [
    "print(images[0].shape)"
   ]
  },
  {
   "cell_type": "markdown",
   "metadata": {},
   "source": [
    "# Build Model"
   ]
  },
  {
   "cell_type": "code",
   "execution_count": 35,
   "metadata": {},
   "outputs": [],
   "source": [
    "import tensorflow as tf"
   ]
  },
  {
   "cell_type": "code",
   "execution_count": 36,
   "metadata": {},
   "outputs": [],
   "source": [
    "num_classes = len(count.most_common())\n",
    "x = tf.placeholder(dtype=tf.float64, shape=(None,128,128),name='x')\n",
    "y = tf.placeholder(dtype=tf.int32, shape=(None),name=\"y\")\n",
    "lr = tf.placeholder(dtype=tf.float32, shape=[], name=\"lr\")"
   ]
  },
  {
   "cell_type": "code",
   "execution_count": 37,
   "metadata": {},
   "outputs": [],
   "source": [
    "one_hot = tf.one_hot(y,num_classes)\n",
    "reshaped = tf.expand_dims(x,-1)"
   ]
  },
  {
   "cell_type": "code",
   "execution_count": 38,
   "metadata": {},
   "outputs": [],
   "source": [
    "#batch,128,128,1\n",
    "\n",
    "#first convolution\n",
    "conv = tf.contrib.layers.conv2d(\n",
    "    reshaped,\n",
    "    32,\n",
    "    (9,9),\n",
    "    stride=(1,1),\n",
    "    padding='VALID',\n",
    "    weights_initializer=tf.initializers.random_normal)\n",
    "#batch,120,120,32\n",
    "\n",
    "#subsample\n",
    "pool = tf.contrib.layers.max_pool2d(\n",
    "    conv,\n",
    "    (4,4),\n",
    "    stride=(4,4))\n",
    "#batch,30,30,32\n",
    "\n",
    "#second convolution\n",
    "conv2 = tf.contrib.layers.conv2d(\n",
    "    pool,\n",
    "    64,\n",
    "    (11,11),\n",
    "    stride=(1,1),\n",
    "    padding='VALID',\n",
    "    weights_initializer=tf.initializers.random_normal)\n",
    "#batch,20,20,64\n",
    "\n",
    "#subsample\n",
    "pool2 = tf.contrib.layers.max_pool2d(\n",
    "    conv2,\n",
    "    (4,4),\n",
    "    stride=(4,4))\n",
    "#batch,5,5,64\n",
    "\n",
    "#flatten\n",
    "flat = tf.contrib.layers.flatten(pool2)\n",
    "#batch,1600\n",
    "\n",
    "#fully connected\n",
    "fc = tf.contrib.layers.fully_connected(\n",
    "    flat,\n",
    "    256,\n",
    "    activation_fn=tf.nn.leaky_relu)\n",
    "\n",
    "#batch,256\n",
    "logits = tf.contrib.layers.fully_connected(\n",
    "    fc,\n",
    "    num_classes,\n",
    "    activation_fn=None)\n",
    "\n",
    "prediction = tf.nn.softmax(logits,)"
   ]
  },
  {
   "cell_type": "code",
   "execution_count": 39,
   "metadata": {},
   "outputs": [],
   "source": [
    "cross_entropy = tf.nn.softmax_cross_entropy_with_logits_v2(logits=logits, labels=one_hot)\n",
    "loss_op = tf.reduce_mean(cross_entropy)\n",
    "optimizer = tf.train.AdamOptimizer(lr).minimize(loss_op)\n",
    "correct_pred = tf.equal(tf.argmax(prediction,1), tf.argmax(one_hot,1))\n",
    "accuracy = tf.reduce_mean(tf.cast(correct_pred, tf.float32), name='accuracy')"
   ]
  },
  {
   "cell_type": "code",
   "execution_count": 42,
   "metadata": {},
   "outputs": [
    {
     "name": "stdout",
     "output_type": "stream",
     "text": [
      "epoch 0 \tbatch: 10\ttrain accuracy: 0.3027\tloss: 35.8573\tval acc: 0.4\n",
      "epoch 0 \tbatch: 20\ttrain accuracy: 0.3629\tloss: 27.9512\tval acc: 0.46\n",
      "epoch 0 \tbatch: 30\ttrain accuracy: 0.3924\tloss: 22.9541\tval acc: 0.46\n",
      "epoch 1 \tbatch: 10\ttrain accuracy: 0.4895\tloss: 15.8214\tval acc: 0.58\n",
      "epoch 1 \tbatch: 20\ttrain accuracy: 0.4747\tloss: 10.7643\tval acc: 0.58\n",
      "epoch 1 \tbatch: 30\ttrain accuracy: 0.5169\tloss: 10.4628\tval acc: 0.6\n",
      "epoch 2 \tbatch: 10\ttrain accuracy: 0.5454\tloss: 9.7346\tval acc: 0.62\n",
      "epoch 2 \tbatch: 20\ttrain accuracy: 0.5812\tloss: 7.3594\tval acc: 0.62\n",
      "epoch 2 \tbatch: 30\ttrain accuracy: 0.6308\tloss: 6.3441\tval acc: 0.68\n",
      "epoch 3 \tbatch: 10\ttrain accuracy: 0.6181\tloss: 9.2544\tval acc: 0.6\n",
      "epoch 3 \tbatch: 20\ttrain accuracy: 0.6983\tloss: 4.4173\tval acc: 0.74\n",
      "epoch 3 \tbatch: 30\ttrain accuracy: 0.653\tloss: 5.2843\tval acc: 0.74\n",
      "epoch 4 \tbatch: 10\ttrain accuracy: 0.6171\tloss: 7.9875\tval acc: 0.62\n",
      "epoch 4 \tbatch: 20\ttrain accuracy: 0.673\tloss: 5.264\tval acc: 0.74\n",
      "epoch 4 \tbatch: 30\ttrain accuracy: 0.7827\tloss: 2.84\tval acc: 0.84\n",
      "epoch 5 \tbatch: 10\ttrain accuracy: 0.788\tloss: 2.6328\tval acc: 0.78\n",
      "epoch 5 \tbatch: 20\ttrain accuracy: 0.7975\tloss: 2.812\tval acc: 0.78\n",
      "epoch 5 \tbatch: 30\ttrain accuracy: 0.8259\tloss: 2.1436\tval acc: 0.82\n",
      "epoch 6 \tbatch: 10\ttrain accuracy: 0.788\tloss: 2.9231\tval acc: 0.76\n",
      "epoch 6 \tbatch: 20\ttrain accuracy: 0.6867\tloss: 4.5911\tval acc: 0.84\n",
      "epoch 6 \tbatch: 30\ttrain accuracy: 0.8143\tloss: 2.4516\tval acc: 0.78\n",
      "epoch 7 \tbatch: 10\ttrain accuracy: 0.7363\tloss: 4.3479\tval acc: 0.72\n",
      "epoch 7 \tbatch: 20\ttrain accuracy: 0.807\tloss: 2.6531\tval acc: 0.74\n",
      "epoch 7 \tbatch: 30\ttrain accuracy: 0.8871\tloss: 1.2433\tval acc: 0.84\n",
      "epoch 8 \tbatch: 10\ttrain accuracy: 0.7637\tloss: 2.9896\tval acc: 0.86\n",
      "epoch 8 \tbatch: 20\ttrain accuracy: 0.8998\tloss: 1.1079\tval acc: 0.84\n",
      "epoch 8 \tbatch: 30\ttrain accuracy: 0.865\tloss: 1.6858\tval acc: 0.84\n",
      "epoch 9 \tbatch: 10\ttrain accuracy: 0.8924\tloss: 1.0654\tval acc: 0.82\n",
      "epoch 9 \tbatch: 20\ttrain accuracy: 0.8186\tloss: 2.2916\tval acc: 0.84\n",
      "epoch 9 \tbatch: 30\ttrain accuracy: 0.8439\tloss: 1.7868\tval acc: 0.84\n",
      "epoch 10 \tbatch: 10\ttrain accuracy: 0.8492\tloss: 1.4813\tval acc: 0.86\n",
      "epoch 10 \tbatch: 20\ttrain accuracy: 0.827\tloss: 2.3553\tval acc: 0.82\n",
      "epoch 10 \tbatch: 30\ttrain accuracy: 0.8238\tloss: 2.4613\tval acc: 0.8\n",
      "epoch 11 \tbatch: 10\ttrain accuracy: 0.8207\tloss: 2.2708\tval acc: 0.88\n",
      "epoch 11 \tbatch: 20\ttrain accuracy: 0.9304\tloss: 0.732\tval acc: 0.94\n",
      "epoch 11 \tbatch: 30\ttrain accuracy: 0.866\tloss: 1.6587\tval acc: 0.88\n",
      "epoch 12 \tbatch: 10\ttrain accuracy: 0.8755\tloss: 1.8303\tval acc: 0.9\n",
      "epoch 12 \tbatch: 20\ttrain accuracy: 0.9335\tloss: 0.5822\tval acc: 0.9\n",
      "epoch 12 \tbatch: 30\ttrain accuracy: 0.8038\tloss: 3.0892\tval acc: 0.74\n",
      "epoch 13 \tbatch: 10\ttrain accuracy: 0.962\tloss: 0.3253\tval acc: 0.9\n",
      "epoch 13 \tbatch: 20\ttrain accuracy: 0.9262\tloss: 0.7787\tval acc: 0.84\n",
      "epoch 13 \tbatch: 30\ttrain accuracy: 0.9441\tloss: 0.3342\tval acc: 0.9\n",
      "epoch 14 \tbatch: 10\ttrain accuracy: 0.6814\tloss: 5.3669\tval acc: 0.76\n",
      "epoch 14 \tbatch: 20\ttrain accuracy: 0.8534\tloss: 1.48\tval acc: 0.9\n",
      "epoch 14 \tbatch: 30\ttrain accuracy: 0.9103\tloss: 0.9807\tval acc: 0.9\n",
      "epoch 15 \tbatch: 10\ttrain accuracy: 0.9662\tloss: 0.2496\tval acc: 0.88\n",
      "epoch 15 \tbatch: 20\ttrain accuracy: 0.9757\tloss: 0.2363\tval acc: 0.9\n",
      "epoch 15 \tbatch: 30\ttrain accuracy: 0.9726\tloss: 0.1712\tval acc: 0.88\n",
      "epoch 16 \tbatch: 10\ttrain accuracy: 0.9114\tloss: 0.748\tval acc: 0.86\n",
      "epoch 16 \tbatch: 20\ttrain accuracy: 0.9557\tloss: 0.3284\tval acc: 0.88\n",
      "epoch 16 \tbatch: 30\ttrain accuracy: 0.961\tloss: 0.308\tval acc: 0.94\n",
      "epoch 17 \tbatch: 10\ttrain accuracy: 0.8544\tloss: 1.8764\tval acc: 0.76\n",
      "epoch 17 \tbatch: 20\ttrain accuracy: 0.961\tloss: 0.3687\tval acc: 0.96\n",
      "epoch 17 \tbatch: 30\ttrain accuracy: 0.9662\tloss: 0.2095\tval acc: 0.92\n",
      "epoch 18 \tbatch: 10\ttrain accuracy: 0.9694\tloss: 0.1873\tval acc: 0.92\n",
      "epoch 18 \tbatch: 20\ttrain accuracy: 0.9103\tloss: 1.2461\tval acc: 0.9\n",
      "epoch 18 \tbatch: 30\ttrain accuracy: 0.9599\tloss: 0.2669\tval acc: 0.94\n",
      "epoch 19 \tbatch: 10\ttrain accuracy: 0.9789\tloss: 0.1607\tval acc: 0.9\n",
      "epoch 19 \tbatch: 20\ttrain accuracy: 0.9146\tloss: 0.8809\tval acc: 0.9\n",
      "epoch 19 \tbatch: 30\ttrain accuracy: 0.9167\tloss: 0.8277\tval acc: 0.9\n"
     ]
    }
   ],
   "source": [
    "epochs = 20\n",
    "learn_rate = .0001\n",
    "batch_size = 32\n",
    "\n",
    "with tf.Session() as sess:\n",
    "    sess.run(tf.global_variables_initializer())\n",
    "    saver = tf.train.Saver()\n",
    "    for epoch in range(epochs):\n",
    "        batch_i = 1\n",
    "        \n",
    "        for x_batch,y_batch in next_batch(x_train,y_train,batch_size):\n",
    "            sess.run(optimizer,feed_dict={x:x_batch,y:y_batch,lr:learn_rate})\n",
    "        \n",
    "            if batch_i % 10 == 0:\n",
    "            \n",
    "                valacc = sess.run(accuracy,feed_dict={x:x_val,y:y_val})\n",
    "                loss, trainacc = sess.run([loss_op, accuracy], feed_dict={x:x_train,y:y_train})\n",
    "                print(\"epoch {} \\tbatch: {}\\ttrain accuracy: {}\\tloss: {}\\tval acc: {}\"\n",
    "                 .format(epoch,batch_i,round(float(trainacc),4),round(float(loss),4), round(float(valacc),4)))\n",
    "                \n",
    "                \n",
    "            batch_i += 1\n",
    "    X,Y = balanced_subset(images,nplabels)\n",
    "    X,Y = shuffle(X,Y)\n",
    "    #print(sess.run(prediction,feed_dict={x:X,y:Y}))\n",
    "    \n",
    "  \n",
    "    save_path = saver.save(sess, \"checkpoints/model.ckpt\")\n",
    "\n",
    "            "
   ]
  },
  {
   "cell_type": "code",
   "execution_count": 31,
   "metadata": {},
   "outputs": [],
   "source": [
    "batch_i = np.array(0)\n",
    "trainacc = np.array(0.238473172372)\n",
    "loss = np.array(12314.52365646352)"
   ]
  },
  {
   "cell_type": "code",
   "execution_count": 34,
   "metadata": {},
   "outputs": [
    {
     "name": "stdout",
     "output_type": "stream",
     "text": [
      "batch: 0\ttrain accuracy: 0.2385\tloss: 12314.5237\n"
     ]
    }
   ],
   "source": [
    "print(\"batch: {}\\ttrain accuracy: {}\\tloss: {}\"\n",
    "                      .format(batch_i,np.round(trainacc,4),np.round(loss,4)))"
   ]
  },
  {
   "cell_type": "code",
   "execution_count": 28,
   "metadata": {},
   "outputs": [
    {
     "name": "stdout",
     "output_type": "stream",
     "text": [
      "INFO:tensorflow:Restoring parameters from checkpoints/model.ckpt\n"
     ]
    }
   ],
   "source": [
    "with tf.Session() as sess:\n",
    "    saver = tf.train.Saver()\n",
    "    saver.restore(sess, \"checkpoints/model.ckpt\")\n",
    "    sess.run()"
   ]
  },
  {
   "cell_type": "code",
   "execution_count": null,
   "metadata": {},
   "outputs": [],
   "source": []
  }
 ],
 "metadata": {
  "kernelspec": {
   "display_name": "Python 3",
   "language": "python",
   "name": "python3"
  },
  "language_info": {
   "codemirror_mode": {
    "name": "ipython",
    "version": 3
   },
   "file_extension": ".py",
   "mimetype": "text/x-python",
   "name": "python",
   "nbconvert_exporter": "python",
   "pygments_lexer": "ipython3",
   "version": "3.6.7"
  }
 },
 "nbformat": 4,
 "nbformat_minor": 2
}
