{
 "cells": [
  {
   "cell_type": "markdown",
   "metadata": {},
   "source": [
    "# Training the Network\n",
    "### Saving to numpy array\n",
    "For quick loading, it's helpful to save all the labels and images to a numpy array. This lets us easily load the arrays if we want to retrain the network on the same data. If we didn't do this, we would have to read every single image into an array every time we wanted to train. \n",
    "\n",
    "The first time you use a dataset after modifying it, set the bool below to True to save to an array. Then set it to false and you will just load the already saved array on your next use."
   ]
  },
  {
   "cell_type": "code",
   "execution_count": 21,
   "metadata": {},
   "outputs": [],
   "source": [
    "import numpy as np\n",
    "import csv"
   ]
  },
  {
   "cell_type": "code",
   "execution_count": 22,
   "metadata": {},
   "outputs": [],
   "source": [
    "from skimage import color\n",
    "from skimage import io\n",
    "from skimage.transform import resize\n",
    "import matplotlib.pyplot as plt\n",
    "from tqdm import tqdm"
   ]
  },
  {
   "cell_type": "code",
   "execution_count": 23,
   "metadata": {},
   "outputs": [],
   "source": [
    "# if true, re-reads and saves all images to numpy array\n",
    "if False:\n",
    "    labels = []\n",
    "\n",
    "    with open(\"data/faceLabels.csv\") as csvfile:\n",
    "        reader = csv.reader(csvfile, delimiter=\",\")\n",
    "        for row in reader:\n",
    "            labels.append(row)\n",
    "    labels = np.array(labels[1:])\n",
    "    images = []\n",
    "    size = (128,128)\n",
    "    print(\"reading in images...\")\n",
    "    \n",
    "    # tqdm is just creating a helpful loading bar. Functionally, it might as well read 'for line in labels:'\n",
    "    for line in tqdm(labels):\n",
    "        # read and convert to Black and White.\n",
    "        img = io.imread('images/'+line[0], as_grey=True)\n",
    "        # resize to fit the input to our model\n",
    "        img = resize(img, size)\n",
    "        images.append(img)\n",
    "    print(\"saving...\")\n",
    "    \n",
    "    # create empty numpy array to put all images into\n",
    "    npimages = np.zeros(shape=(len(images),*size), dtype=np.float64)\n",
    "    for i,im in enumerate(images):\n",
    "        npimages[i] = im\n",
    "    labels = np.array(labels[:,1],dtype=str)\n",
    "    print(labels)\n",
    "    np.save(\"data/labels.npy\",labels)\n",
    "    np.save(\"data/images.npy\",npimages)\n",
    "    print(\"SAVED\")\n",
    "    "
   ]
  },
  {
   "cell_type": "code",
   "execution_count": 32,
   "metadata": {},
   "outputs": [],
   "source": [
    "#load arrays\n",
    "images = np.load(\"data/images.npy\")\n",
    "labels = np.load(\"data/labels.npy\")"
   ]
  },
  {
   "cell_type": "markdown",
   "metadata": {},
   "source": [
    "### Checking images\n",
    "show a random image and it's label just to sanity check our dataset."
   ]
  },
  {
   "cell_type": "code",
   "execution_count": 33,
   "metadata": {},
   "outputs": [
    {
     "name": "stdout",
     "output_type": "stream",
     "text": [
      "\t\tSad\n"
     ]
    },
    {
     "data": {
      "image/png": "[encoded data removed]",
      "text/plain": [
       "<Figure size 432x288 with 1 Axes>"
      ]
     },
     "metadata": {
      "needs_background": "light"
     },
     "output_type": "display_data"
    }
   ],
   "source": [
    "idx = np.random.randint(0,len(labels))\n",
    "plt.imshow(images[idx], cmap=\"gray\")\n",
    "print(\"\\t\\t\"+str(labels[idx]))"
   ]
  },
  {
   "cell_type": "markdown",
   "metadata": {},
   "source": [
    "# Transform labels to integers\n",
    "In order for the network to understand our labels, we need to one-hot-encode them. \n",
    "This means creating an array of zeros with a one representing our label.  \n",
    "If we have 4 labels [Neutral, happy, Sad, Angry], then a happy label will look like this.  \n",
    "[0,1,0,0]  \n",
    "Since happy is the second index, we mark it with a 1.\n",
    "\n",
    "The first step to one hot encoding is turning our labels into integers"
   ]
  },
  {
   "cell_type": "code",
   "execution_count": 60,
   "metadata": {},
   "outputs": [
    {
     "name": "stdout",
     "output_type": "stream",
     "text": [
      "count: [('Happy', 500), ('Sad', 500), ('Angry', 500), ('Neutral', 499)]\n"
     ]
    }
   ],
   "source": [
    "from collections import Counter\n",
    "\n",
    "#read labels and corisponding integers from csv file where we configured them.\n",
    "intlabel = []\n",
    "with open(\"data/labelList.csv\") as csvfile:\n",
    "    reader = csv.reader(csvfile, delimiter=\",\")\n",
    "    for row in reader:\n",
    "        intlabel.append(row)\n",
    "\n",
    "#put values into dicts for easy conversion\n",
    "label2int = {y:int(x) for x,y in intlabel}\n",
    "int2label = {int(x):y for x,y in intlabel}\n",
    "\n",
    "#turn whole array of labels into integers\n",
    "nplabels = np.array([label2int[x] for x in labels])\n",
    "assert(len(nplabels) == len(images))\n",
    "\n",
    "#count our labels to make sure they are relatively balanced and are being read correctly\n",
    "count = Counter(labels)\n",
    "print(\"count:\",count.most_common())"
   ]
  },
  {
   "cell_type": "code",
   "execution_count": 63,
   "metadata": {},
   "outputs": [],
   "source": [
    "def one_hot(labels):\n",
    "    #create a matrix big enough to store all our one hot encoded labels\n",
    "    y = np.zeros([len(labels),max(labels)+1],dtype=int)\n",
    "    y[np.arange(len(labels)),labels] = 1\n",
    "    return y"
   ]
  },
  {
   "cell_type": "markdown",
   "metadata": {},
   "source": [
    "# Split training and testing datasets"
   ]
  },
  {
   "cell_type": "code",
   "execution_count": 64,
   "metadata": {},
   "outputs": [
    {
     "name": "stdout",
     "output_type": "stream",
     "text": [
      "number of validation samples: 200\n"
     ]
    }
   ],
   "source": [
    "from sklearn.model_selection import train_test_split\n",
    "from sklearn.utils import shuffle\n",
    "x_train, x_val, y_train, y_val = train_test_split(images, nplabels, test_size=.1)\n",
    "y_train = one_hot(y_train)\n",
    "y_val = one_hot(y_val)\n",
    "print(\"number of validation samples:\",str(len(y_val)))"
   ]
  },
  {
   "cell_type": "markdown",
   "metadata": {},
   "source": [
    "# Build Model"
   ]
  },
  {
   "cell_type": "code",
   "execution_count": 19,
   "metadata": {},
   "outputs": [],
   "source": [
    "import tensorflow as tf\n",
    "from Expression_Network import Expression_Network"
   ]
  },
  {
   "cell_type": "code",
   "execution_count": 20,
   "metadata": {
    "scrolled": true
   },
   "outputs": [
    {
     "name": "stdout",
     "output_type": "stream",
     "text": [
      "Model: \"sequential\"\n",
      "_________________________________________________________________\n",
      "Layer (type)                 Output Shape              Param #   \n",
      "=================================================================\n",
      "reshape (Reshape)            (None, 128, 128, 1)       0         \n",
      "_________________________________________________________________\n",
      "conv2d (Conv2D)              (None, 120, 120, 32)      2624      \n",
      "_________________________________________________________________\n",
      "max_pooling2d (MaxPooling2D) (None, 30, 30, 32)        0         \n",
      "_________________________________________________________________\n",
      "batch_normalization_v1 (Batc (None, 30, 30, 32)        128       \n",
      "_________________________________________________________________\n",
      "conv2d_1 (Conv2D)            (None, 20, 20, 64)        247872    \n",
      "_________________________________________________________________\n",
      "max_pooling2d_1 (MaxPooling2 (None, 5, 5, 64)          0         \n",
      "_________________________________________________________________\n",
      "dropout (Dropout)            (None, 5, 5, 64)          0         \n",
      "_________________________________________________________________\n",
      "flatten (Flatten)            (None, 1600)              0         \n",
      "_________________________________________________________________\n",
      "dense (Dense)                (None, 256)               409856    \n",
      "_________________________________________________________________\n",
      "dense_1 (Dense)              (None, 4)                 1028      \n",
      "=================================================================\n",
      "Total params: 661,508\n",
      "Trainable params: 661,444\n",
      "Non-trainable params: 64\n",
      "_________________________________________________________________\n"
     ]
    }
   ],
   "source": [
    "num_classes = len(count.most_common())\n",
    "\n",
    "exnet = Expression_Network(num_classes,Training=True).build_model()\n",
    "exnet.build(input_shape=(None,128,128))\n",
    "exnet.summary()"
   ]
  },
  {
   "cell_type": "code",
   "execution_count": 15,
   "metadata": {},
   "outputs": [],
   "source": [
    "exnet.compile(\"Adam\",\"categorical_crossentropy\",metrics=['accuracy'])\n",
    "\n",
    "tb_callback= tf.keras.callbacks.TensorBoard(log_dir=\"data\")"
   ]
  },
  {
   "cell_type": "code",
   "execution_count": 16,
   "metadata": {
    "scrolled": true
   },
   "outputs": [
    {
     "name": "stdout",
     "output_type": "stream",
     "text": [
      "Train on 1799 samples, validate on 200 samples\n",
      "Epoch 1/200\n",
      "1799/1799 - 3s - loss: 1.7998 - accuracy: 0.4186 - val_loss: 1.7723 - val_accuracy: 0.3950\n",
      "Epoch 2/200\n",
      "1799/1799 - 1s - loss: 0.9388 - accuracy: 0.8038 - val_loss: 1.6529 - val_accuracy: 0.8650\n",
      "Epoch 3/200\n",
      "1799/1799 - 1s - loss: 0.6058 - accuracy: 0.9266 - val_loss: 1.6038 - val_accuracy: 0.5100\n",
      "Epoch 4/200\n",
      "1799/1799 - 1s - loss: 0.5148 - accuracy: 0.9461 - val_loss: 1.6055 - val_accuracy: 0.6800\n",
      "Epoch 5/200\n",
      "1799/1799 - 1s - loss: 0.4307 - accuracy: 0.9666 - val_loss: 1.3300 - val_accuracy: 0.8650\n",
      "Epoch 6/200\n",
      "1799/1799 - 1s - loss: 0.3423 - accuracy: 0.9867 - val_loss: 1.2393 - val_accuracy: 0.8850\n",
      "Epoch 7/200\n",
      "1799/1799 - 1s - loss: 0.3062 - accuracy: 0.9867 - val_loss: 0.8636 - val_accuracy: 0.8400\n",
      "Epoch 8/200\n",
      "1799/1799 - 1s - loss: 0.2858 - accuracy: 0.9861 - val_loss: 0.5717 - val_accuracy: 0.9400\n",
      "Epoch 9/200\n",
      "1799/1799 - 1s - loss: 0.2703 - accuracy: 0.9850 - val_loss: 0.5933 - val_accuracy: 0.8800\n",
      "Epoch 10/200\n",
      "1799/1799 - 1s - loss: 0.2710 - accuracy: 0.9783 - val_loss: 0.3755 - val_accuracy: 0.9550\n",
      "Epoch 11/200\n",
      "1799/1799 - 1s - loss: 0.2227 - accuracy: 0.9883 - val_loss: 0.3534 - val_accuracy: 0.9450\n",
      "Epoch 12/200\n",
      "1799/1799 - 1s - loss: 0.1887 - accuracy: 0.9944 - val_loss: 0.2921 - val_accuracy: 0.9550\n",
      "Epoch 13/200\n",
      "1799/1799 - 1s - loss: 0.1700 - accuracy: 0.9972 - val_loss: 0.5133 - val_accuracy: 0.9150\n",
      "Epoch 14/200\n",
      "1799/1799 - 1s - loss: 0.2216 - accuracy: 0.9722 - val_loss: 0.4272 - val_accuracy: 0.9200\n",
      "Epoch 15/200\n",
      "1799/1799 - 1s - loss: 0.1916 - accuracy: 0.9828 - val_loss: 0.2012 - val_accuracy: 0.9800\n",
      "Epoch 16/200\n",
      "1799/1799 - 1s - loss: 0.1414 - accuracy: 0.9967 - val_loss: 0.2095 - val_accuracy: 0.9750\n",
      "Epoch 17/200\n",
      "1799/1799 - 1s - loss: 0.1308 - accuracy: 0.9950 - val_loss: 0.1924 - val_accuracy: 0.9700\n",
      "Epoch 18/200\n",
      "1799/1799 - 1s - loss: 0.1232 - accuracy: 0.9944 - val_loss: 0.1703 - val_accuracy: 0.9800\n",
      "Epoch 19/200\n",
      "1799/1799 - 1s - loss: 0.1117 - accuracy: 0.9950 - val_loss: 0.2169 - val_accuracy: 0.9550\n",
      "Epoch 20/200\n",
      "1799/1799 - 1s - loss: 0.1248 - accuracy: 0.9917 - val_loss: 0.3324 - val_accuracy: 0.9500\n",
      "Epoch 21/200\n",
      "1799/1799 - 1s - loss: 0.1045 - accuracy: 0.9950 - val_loss: 0.3151 - val_accuracy: 0.9450\n",
      "Epoch 22/200\n",
      "1799/1799 - 1s - loss: 0.0882 - accuracy: 0.9978 - val_loss: 0.2532 - val_accuracy: 0.9550\n",
      "Epoch 23/200\n",
      "1799/1799 - 1s - loss: 0.0777 - accuracy: 1.0000 - val_loss: 0.1615 - val_accuracy: 0.9650\n",
      "Epoch 24/200\n",
      "1799/1799 - 1s - loss: 0.0681 - accuracy: 1.0000 - val_loss: 0.1324 - val_accuracy: 0.9700\n",
      "Epoch 25/200\n",
      "1799/1799 - 1s - loss: 0.0611 - accuracy: 1.0000 - val_loss: 0.1455 - val_accuracy: 0.9650\n",
      "Epoch 26/200\n",
      "1799/1799 - 1s - loss: 0.0559 - accuracy: 1.0000 - val_loss: 0.1299 - val_accuracy: 0.9750\n",
      "Epoch 27/200\n",
      "1799/1799 - 1s - loss: 0.0741 - accuracy: 0.9917 - val_loss: 0.4810 - val_accuracy: 0.9300\n",
      "Epoch 28/200\n",
      "1799/1799 - 1s - loss: 0.1280 - accuracy: 0.9789 - val_loss: 0.2450 - val_accuracy: 0.9400\n",
      "Epoch 29/200\n",
      "1799/1799 - 1s - loss: 0.0999 - accuracy: 0.9878 - val_loss: 0.3773 - val_accuracy: 0.9450\n",
      "Epoch 30/200\n",
      "1799/1799 - 1s - loss: 0.0877 - accuracy: 0.9917 - val_loss: 0.2961 - val_accuracy: 0.9150\n",
      "Epoch 31/200\n",
      "1799/1799 - 1s - loss: 0.1306 - accuracy: 0.9778 - val_loss: 0.4112 - val_accuracy: 0.9150\n",
      "Epoch 32/200\n",
      "1799/1799 - 1s - loss: 0.1323 - accuracy: 0.9800 - val_loss: 0.3040 - val_accuracy: 0.9250\n",
      "Epoch 33/200\n",
      "1799/1799 - 1s - loss: 0.2132 - accuracy: 0.9600 - val_loss: 3.5453 - val_accuracy: 0.7100\n",
      "Epoch 34/200\n",
      "1799/1799 - 1s - loss: 0.1823 - accuracy: 0.9700 - val_loss: 0.2266 - val_accuracy: 0.9500\n",
      "Epoch 35/200\n",
      "1799/1799 - 1s - loss: 0.1379 - accuracy: 0.9833 - val_loss: 0.1754 - val_accuracy: 0.9750\n",
      "Epoch 36/200\n",
      "1799/1799 - 1s - loss: 0.0980 - accuracy: 0.9928 - val_loss: 0.1584 - val_accuracy: 0.9800\n",
      "Epoch 37/200\n",
      "1799/1799 - 1s - loss: 0.0848 - accuracy: 0.9956 - val_loss: 0.1802 - val_accuracy: 0.9700\n",
      "Epoch 38/200\n",
      "1799/1799 - 1s - loss: 0.0703 - accuracy: 0.9972 - val_loss: 0.1569 - val_accuracy: 0.9750\n",
      "Epoch 39/200\n",
      "1799/1799 - 1s - loss: 0.0609 - accuracy: 0.9994 - val_loss: 0.1943 - val_accuracy: 0.9700\n",
      "Epoch 40/200\n",
      "1799/1799 - 1s - loss: 0.0727 - accuracy: 0.9939 - val_loss: 0.1389 - val_accuracy: 0.9700\n",
      "Epoch 41/200\n",
      "1799/1799 - 1s - loss: 0.0662 - accuracy: 0.9933 - val_loss: 0.1735 - val_accuracy: 0.9600\n",
      "Epoch 42/200\n",
      "1799/1799 - 1s - loss: 0.0541 - accuracy: 0.9989 - val_loss: 0.1709 - val_accuracy: 0.9650\n",
      "Epoch 43/200\n",
      "1799/1799 - 1s - loss: 0.0564 - accuracy: 0.9967 - val_loss: 0.2356 - val_accuracy: 0.9550\n",
      "Epoch 44/200\n",
      "1799/1799 - 1s - loss: 0.0624 - accuracy: 0.9950 - val_loss: 0.1437 - val_accuracy: 0.9750\n",
      "Epoch 45/200\n",
      "1799/1799 - 1s - loss: 0.0495 - accuracy: 0.9989 - val_loss: 0.1313 - val_accuracy: 0.9800\n",
      "Epoch 46/200\n",
      "1799/1799 - 1s - loss: 0.0438 - accuracy: 0.9994 - val_loss: 0.1626 - val_accuracy: 0.9600\n",
      "Epoch 47/200\n",
      "1799/1799 - 1s - loss: 0.0498 - accuracy: 0.9961 - val_loss: 0.1373 - val_accuracy: 0.9750\n",
      "Epoch 48/200\n",
      "1799/1799 - 1s - loss: 0.0428 - accuracy: 0.9983 - val_loss: 0.1465 - val_accuracy: 0.9750\n",
      "Epoch 49/200\n",
      "1799/1799 - 1s - loss: 0.0402 - accuracy: 0.9989 - val_loss: 0.0938 - val_accuracy: 0.9900\n",
      "Epoch 50/200\n",
      "1799/1799 - 1s - loss: 0.0331 - accuracy: 1.0000 - val_loss: 0.0928 - val_accuracy: 0.9900\n",
      "Epoch 51/200\n",
      "1799/1799 - 1s - loss: 0.0304 - accuracy: 1.0000 - val_loss: 0.1366 - val_accuracy: 0.9650\n",
      "Epoch 52/200\n",
      "1799/1799 - 1s - loss: 0.0419 - accuracy: 0.9961 - val_loss: 0.1727 - val_accuracy: 0.9550\n",
      "Epoch 53/200\n",
      "1799/1799 - 1s - loss: 0.0363 - accuracy: 0.9989 - val_loss: 0.1243 - val_accuracy: 0.9750\n",
      "Epoch 54/200\n",
      "1799/1799 - 1s - loss: 0.0288 - accuracy: 1.0000 - val_loss: 0.1475 - val_accuracy: 0.9700\n",
      "Epoch 55/200\n",
      "1799/1799 - 1s - loss: 0.0270 - accuracy: 1.0000 - val_loss: 0.1187 - val_accuracy: 0.9850\n",
      "Epoch 56/200\n",
      "1799/1799 - 1s - loss: 0.0248 - accuracy: 1.0000 - val_loss: 0.1075 - val_accuracy: 0.9900\n",
      "Epoch 57/200\n",
      "1799/1799 - 1s - loss: 0.0224 - accuracy: 1.0000 - val_loss: 0.0963 - val_accuracy: 0.9850\n",
      "Epoch 58/200\n",
      "1799/1799 - 1s - loss: 0.0232 - accuracy: 0.9994 - val_loss: 0.1190 - val_accuracy: 0.9800\n",
      "Epoch 59/200\n",
      "1799/1799 - 1s - loss: 0.0215 - accuracy: 1.0000 - val_loss: 0.1655 - val_accuracy: 0.9600\n",
      "Epoch 60/200\n",
      "1799/1799 - 1s - loss: 0.0219 - accuracy: 0.9994 - val_loss: 0.1223 - val_accuracy: 0.9750\n",
      "Epoch 61/200\n",
      "1799/1799 - 1s - loss: 0.0393 - accuracy: 0.9933 - val_loss: 0.1298 - val_accuracy: 0.9750\n",
      "Epoch 62/200\n",
      "1799/1799 - 1s - loss: 0.0623 - accuracy: 0.9911 - val_loss: 0.1575 - val_accuracy: 0.9500\n",
      "Epoch 63/200\n",
      "1799/1799 - 1s - loss: 0.0884 - accuracy: 0.9839 - val_loss: 0.1886 - val_accuracy: 0.9650\n",
      "Epoch 64/200\n",
      "1799/1799 - 1s - loss: 0.0575 - accuracy: 0.9950 - val_loss: 0.1442 - val_accuracy: 0.9550\n",
      "Epoch 65/200\n",
      "1799/1799 - 1s - loss: 0.0546 - accuracy: 0.9944 - val_loss: 0.1324 - val_accuracy: 0.9700\n",
      "Epoch 66/200\n",
      "1799/1799 - 1s - loss: 0.2270 - accuracy: 0.9450 - val_loss: 0.3379 - val_accuracy: 0.9100\n",
      "Epoch 67/200\n",
      "1799/1799 - 1s - loss: 0.0900 - accuracy: 0.9889 - val_loss: 0.2666 - val_accuracy: 0.9600\n",
      "Epoch 68/200\n",
      "1799/1799 - 1s - loss: 0.0850 - accuracy: 0.9889 - val_loss: 0.1463 - val_accuracy: 0.9650\n",
      "Epoch 69/200\n",
      "1799/1799 - 1s - loss: 0.0593 - accuracy: 0.9967 - val_loss: 0.1149 - val_accuracy: 0.9750\n",
      "Epoch 70/200\n",
      "1799/1799 - 1s - loss: 0.0486 - accuracy: 1.0000 - val_loss: 0.1138 - val_accuracy: 0.9750\n",
      "Epoch 71/200\n",
      "1799/1799 - 1s - loss: 0.0444 - accuracy: 0.9994 - val_loss: 0.1632 - val_accuracy: 0.9650\n",
      "Epoch 72/200\n",
      "1799/1799 - 1s - loss: 0.0458 - accuracy: 0.9983 - val_loss: 0.2271 - val_accuracy: 0.9500\n",
      "Epoch 73/200\n",
      "1799/1799 - 1s - loss: 0.0406 - accuracy: 0.9989 - val_loss: 0.1403 - val_accuracy: 0.9700\n",
      "Epoch 74/200\n",
      "1799/1799 - 1s - loss: 0.0364 - accuracy: 0.9994 - val_loss: 0.2262 - val_accuracy: 0.9450\n",
      "Epoch 75/200\n",
      "1799/1799 - 1s - loss: 0.0466 - accuracy: 0.9983 - val_loss: 0.1908 - val_accuracy: 0.9800\n",
      "Epoch 76/200\n",
      "1799/1799 - 1s - loss: 0.0328 - accuracy: 1.0000 - val_loss: 0.1645 - val_accuracy: 0.9750\n",
      "Epoch 77/200\n",
      "1799/1799 - 1s - loss: 0.0316 - accuracy: 0.9994 - val_loss: 0.1713 - val_accuracy: 0.9650\n",
      "Epoch 78/200\n",
      "1799/1799 - 1s - loss: 0.0298 - accuracy: 0.9994 - val_loss: 0.1496 - val_accuracy: 0.9650\n",
      "Epoch 79/200\n",
      "1799/1799 - 1s - loss: 0.0295 - accuracy: 0.9989 - val_loss: 0.1947 - val_accuracy: 0.9700\n"
     ]
    },
    {
     "name": "stdout",
     "output_type": "stream",
     "text": [
      "Epoch 80/200\n",
      "1799/1799 - 1s - loss: 0.0553 - accuracy: 0.9900 - val_loss: 0.7229 - val_accuracy: 0.8700\n",
      "Epoch 81/200\n",
      "1799/1799 - 1s - loss: 0.0770 - accuracy: 0.9883 - val_loss: 0.8129 - val_accuracy: 0.8450\n",
      "Epoch 82/200\n",
      "1799/1799 - 1s - loss: 0.0844 - accuracy: 0.9839 - val_loss: 0.3119 - val_accuracy: 0.9500\n",
      "Epoch 83/200\n",
      "1799/1799 - 1s - loss: 0.0595 - accuracy: 0.9944 - val_loss: 0.1571 - val_accuracy: 0.9650\n",
      "Epoch 84/200\n",
      "1799/1799 - 1s - loss: 0.0482 - accuracy: 0.9994 - val_loss: 0.1502 - val_accuracy: 0.9750\n",
      "Epoch 85/200\n",
      "1799/1799 - 1s - loss: 0.0417 - accuracy: 0.9978 - val_loss: 0.1680 - val_accuracy: 0.9650\n",
      "Epoch 86/200\n",
      "1799/1799 - 1s - loss: 0.0388 - accuracy: 0.9983 - val_loss: 0.1044 - val_accuracy: 0.9750\n",
      "Epoch 87/200\n",
      "1799/1799 - 1s - loss: 0.0342 - accuracy: 1.0000 - val_loss: 0.1884 - val_accuracy: 0.9650\n",
      "Epoch 88/200\n",
      "1799/1799 - 1s - loss: 0.0689 - accuracy: 0.9883 - val_loss: 0.3815 - val_accuracy: 0.9550\n",
      "Epoch 89/200\n",
      "1799/1799 - 1s - loss: 0.0679 - accuracy: 0.9911 - val_loss: 0.2828 - val_accuracy: 0.9550\n",
      "Epoch 90/200\n",
      "1799/1799 - 1s - loss: 0.0594 - accuracy: 0.9950 - val_loss: 0.2232 - val_accuracy: 0.9450\n",
      "Epoch 91/200\n",
      "1799/1799 - 1s - loss: 0.0437 - accuracy: 0.9989 - val_loss: 0.2237 - val_accuracy: 0.9600\n",
      "Epoch 92/200\n",
      "1799/1799 - 1s - loss: 0.0452 - accuracy: 0.9983 - val_loss: 0.2735 - val_accuracy: 0.9450\n",
      "Epoch 93/200\n",
      "1799/1799 - 1s - loss: 0.0658 - accuracy: 0.9900 - val_loss: 0.3208 - val_accuracy: 0.9600\n",
      "Epoch 94/200\n",
      "1799/1799 - 1s - loss: 0.0703 - accuracy: 0.9917 - val_loss: 0.3342 - val_accuracy: 0.9500\n",
      "Epoch 95/200\n",
      "1799/1799 - 1s - loss: 0.0612 - accuracy: 0.9928 - val_loss: 0.1594 - val_accuracy: 0.9600\n",
      "Epoch 96/200\n",
      "1799/1799 - 1s - loss: 0.0423 - accuracy: 1.0000 - val_loss: 0.1301 - val_accuracy: 0.9700\n",
      "Epoch 97/200\n",
      "1799/1799 - 1s - loss: 0.0368 - accuracy: 1.0000 - val_loss: 0.1533 - val_accuracy: 0.9800\n",
      "Epoch 98/200\n",
      "1799/1799 - 1s - loss: 0.0332 - accuracy: 1.0000 - val_loss: 0.1490 - val_accuracy: 0.9800\n",
      "Epoch 99/200\n",
      "1799/1799 - 1s - loss: 0.0308 - accuracy: 1.0000 - val_loss: 0.1627 - val_accuracy: 0.9650\n",
      "Epoch 100/200\n",
      "1799/1799 - 1s - loss: 0.0283 - accuracy: 1.0000 - val_loss: 0.1446 - val_accuracy: 0.9750\n",
      "Epoch 101/200\n",
      "1799/1799 - 1s - loss: 0.0260 - accuracy: 1.0000 - val_loss: 0.1368 - val_accuracy: 0.9650\n",
      "Epoch 102/200\n",
      "1799/1799 - 1s - loss: 0.0315 - accuracy: 0.9972 - val_loss: 0.1169 - val_accuracy: 0.9700\n",
      "Epoch 103/200\n",
      "1799/1799 - 1s - loss: 0.0343 - accuracy: 0.9967 - val_loss: 0.1995 - val_accuracy: 0.9600\n",
      "Epoch 104/200\n",
      "1799/1799 - 1s - loss: 0.0320 - accuracy: 0.9972 - val_loss: 0.1579 - val_accuracy: 0.9550\n",
      "Epoch 105/200\n",
      "1799/1799 - 1s - loss: 0.0426 - accuracy: 0.9956 - val_loss: 0.1515 - val_accuracy: 0.9600\n",
      "Epoch 106/200\n",
      "1799/1799 - 1s - loss: 0.0702 - accuracy: 0.9889 - val_loss: 0.1203 - val_accuracy: 0.9750\n",
      "Epoch 107/200\n",
      "1799/1799 - 1s - loss: 0.0524 - accuracy: 0.9944 - val_loss: 0.2796 - val_accuracy: 0.9450\n",
      "Epoch 108/200\n",
      "1799/1799 - 1s - loss: 0.0446 - accuracy: 0.9972 - val_loss: 0.1810 - val_accuracy: 0.9700\n",
      "Epoch 109/200\n",
      "1799/1799 - 1s - loss: 0.0516 - accuracy: 0.9950 - val_loss: 0.1233 - val_accuracy: 0.9700\n",
      "Epoch 110/200\n",
      "1799/1799 - 1s - loss: 0.0374 - accuracy: 0.9989 - val_loss: 0.1771 - val_accuracy: 0.9700\n",
      "Epoch 111/200\n"
     ]
    },
    {
     "ename": "KeyboardInterrupt",
     "evalue": "",
     "output_type": "error",
     "traceback": [
      "\u001b[1;31m---------------------------------------------------------------------------\u001b[0m",
      "\u001b[1;31mKeyboardInterrupt\u001b[0m                         Traceback (most recent call last)",
      "\u001b[1;32m<ipython-input-16-7bc666154a79>\u001b[0m in \u001b[0;36m<module>\u001b[1;34m\u001b[0m\n\u001b[0;32m      1\u001b[0m \u001b[1;31m#exnet.fit_generator(next_batch(x_train,y_train,64),steps_per_epoch=1,epochs=1)\u001b[0m\u001b[1;33m\u001b[0m\u001b[1;33m\u001b[0m\u001b[1;33m\u001b[0m\u001b[0m\n\u001b[1;32m----> 2\u001b[1;33m \u001b[0mexnet\u001b[0m\u001b[1;33m.\u001b[0m\u001b[0mfit\u001b[0m\u001b[1;33m(\u001b[0m\u001b[0mx_train\u001b[0m\u001b[1;33m,\u001b[0m\u001b[0my_train\u001b[0m\u001b[1;33m,\u001b[0m \u001b[0mvalidation_data\u001b[0m\u001b[1;33m=\u001b[0m\u001b[1;33m(\u001b[0m\u001b[0mx_val\u001b[0m\u001b[1;33m,\u001b[0m\u001b[0my_val\u001b[0m\u001b[1;33m)\u001b[0m\u001b[1;33m,\u001b[0m\u001b[0msteps_per_epoch\u001b[0m\u001b[1;33m=\u001b[0m\u001b[1;32mNone\u001b[0m\u001b[1;33m,\u001b[0m\u001b[0mepochs\u001b[0m\u001b[1;33m=\u001b[0m\u001b[1;36m200\u001b[0m\u001b[1;33m,\u001b[0m\u001b[0mverbose\u001b[0m\u001b[1;33m=\u001b[0m\u001b[1;36m2\u001b[0m\u001b[1;33m,\u001b[0m\u001b[0mcallbacks\u001b[0m\u001b[1;33m=\u001b[0m\u001b[1;33m[\u001b[0m\u001b[0mtb_callback\u001b[0m\u001b[1;33m]\u001b[0m\u001b[1;33m)\u001b[0m\u001b[1;33m\u001b[0m\u001b[1;33m\u001b[0m\u001b[0m\n\u001b[0m",
      "\u001b[1;32mc:\\users\\ablac\\miniconda3\\envs\\expressions2\\lib\\site-packages\\tensorflow\\python\\keras\\engine\\training.py\u001b[0m in \u001b[0;36mfit\u001b[1;34m(self, x, y, batch_size, epochs, verbose, callbacks, validation_split, validation_data, shuffle, class_weight, sample_weight, initial_epoch, steps_per_epoch, validation_steps, validation_freq, max_queue_size, workers, use_multiprocessing, **kwargs)\u001b[0m\n\u001b[0;32m    871\u001b[0m           \u001b[0mvalidation_steps\u001b[0m\u001b[1;33m=\u001b[0m\u001b[0mvalidation_steps\u001b[0m\u001b[1;33m,\u001b[0m\u001b[1;33m\u001b[0m\u001b[1;33m\u001b[0m\u001b[0m\n\u001b[0;32m    872\u001b[0m           \u001b[0mvalidation_freq\u001b[0m\u001b[1;33m=\u001b[0m\u001b[0mvalidation_freq\u001b[0m\u001b[1;33m,\u001b[0m\u001b[1;33m\u001b[0m\u001b[1;33m\u001b[0m\u001b[0m\n\u001b[1;32m--> 873\u001b[1;33m           steps_name='steps_per_epoch')\n\u001b[0m\u001b[0;32m    874\u001b[0m \u001b[1;33m\u001b[0m\u001b[0m\n\u001b[0;32m    875\u001b[0m   def evaluate(self,\n",
      "\u001b[1;32mc:\\users\\ablac\\miniconda3\\envs\\expressions2\\lib\\site-packages\\tensorflow\\python\\keras\\engine\\training_arrays.py\u001b[0m in \u001b[0;36mmodel_iteration\u001b[1;34m(model, inputs, targets, sample_weights, batch_size, epochs, verbose, callbacks, val_inputs, val_targets, val_sample_weights, shuffle, initial_epoch, steps_per_epoch, validation_steps, validation_freq, mode, validation_in_fit, prepared_feed_values_from_dataset, steps_name, **kwargs)\u001b[0m\n\u001b[0;32m    350\u001b[0m \u001b[1;33m\u001b[0m\u001b[0m\n\u001b[0;32m    351\u001b[0m         \u001b[1;31m# Get outputs.\u001b[0m\u001b[1;33m\u001b[0m\u001b[1;33m\u001b[0m\u001b[1;33m\u001b[0m\u001b[0m\n\u001b[1;32m--> 352\u001b[1;33m         \u001b[0mbatch_outs\u001b[0m \u001b[1;33m=\u001b[0m \u001b[0mf\u001b[0m\u001b[1;33m(\u001b[0m\u001b[0mins_batch\u001b[0m\u001b[1;33m)\u001b[0m\u001b[1;33m\u001b[0m\u001b[1;33m\u001b[0m\u001b[0m\n\u001b[0m\u001b[0;32m    353\u001b[0m         \u001b[1;32mif\u001b[0m \u001b[1;32mnot\u001b[0m \u001b[0misinstance\u001b[0m\u001b[1;33m(\u001b[0m\u001b[0mbatch_outs\u001b[0m\u001b[1;33m,\u001b[0m \u001b[0mlist\u001b[0m\u001b[1;33m)\u001b[0m\u001b[1;33m:\u001b[0m\u001b[1;33m\u001b[0m\u001b[1;33m\u001b[0m\u001b[0m\n\u001b[0;32m    354\u001b[0m           \u001b[0mbatch_outs\u001b[0m \u001b[1;33m=\u001b[0m \u001b[1;33m[\u001b[0m\u001b[0mbatch_outs\u001b[0m\u001b[1;33m]\u001b[0m\u001b[1;33m\u001b[0m\u001b[1;33m\u001b[0m\u001b[0m\n",
      "\u001b[1;32mc:\\users\\ablac\\miniconda3\\envs\\expressions2\\lib\\site-packages\\tensorflow\\python\\keras\\backend.py\u001b[0m in \u001b[0;36m__call__\u001b[1;34m(self, inputs)\u001b[0m\n\u001b[0;32m   3215\u001b[0m         \u001b[0mvalue\u001b[0m \u001b[1;33m=\u001b[0m \u001b[0mmath_ops\u001b[0m\u001b[1;33m.\u001b[0m\u001b[0mcast\u001b[0m\u001b[1;33m(\u001b[0m\u001b[0mvalue\u001b[0m\u001b[1;33m,\u001b[0m \u001b[0mtensor\u001b[0m\u001b[1;33m.\u001b[0m\u001b[0mdtype\u001b[0m\u001b[1;33m)\u001b[0m\u001b[1;33m\u001b[0m\u001b[1;33m\u001b[0m\u001b[0m\n\u001b[0;32m   3216\u001b[0m       \u001b[0mconverted_inputs\u001b[0m\u001b[1;33m.\u001b[0m\u001b[0mappend\u001b[0m\u001b[1;33m(\u001b[0m\u001b[0mvalue\u001b[0m\u001b[1;33m)\u001b[0m\u001b[1;33m\u001b[0m\u001b[1;33m\u001b[0m\u001b[0m\n\u001b[1;32m-> 3217\u001b[1;33m     \u001b[0moutputs\u001b[0m \u001b[1;33m=\u001b[0m \u001b[0mself\u001b[0m\u001b[1;33m.\u001b[0m\u001b[0m_graph_fn\u001b[0m\u001b[1;33m(\u001b[0m\u001b[1;33m*\u001b[0m\u001b[0mconverted_inputs\u001b[0m\u001b[1;33m)\u001b[0m\u001b[1;33m\u001b[0m\u001b[1;33m\u001b[0m\u001b[0m\n\u001b[0m\u001b[0;32m   3218\u001b[0m     return nest.pack_sequence_as(self._outputs_structure,\n\u001b[0;32m   3219\u001b[0m                                  [x.numpy() for x in outputs])\n",
      "\u001b[1;32mc:\\users\\ablac\\miniconda3\\envs\\expressions2\\lib\\site-packages\\tensorflow\\python\\eager\\function.py\u001b[0m in \u001b[0;36m__call__\u001b[1;34m(self, *args, **kwargs)\u001b[0m\n\u001b[0;32m    556\u001b[0m       raise TypeError(\"Keyword arguments {} unknown. Expected {}.\".format(\n\u001b[0;32m    557\u001b[0m           list(kwargs.keys()), list(self._arg_keywords)))\n\u001b[1;32m--> 558\u001b[1;33m     \u001b[1;32mreturn\u001b[0m \u001b[0mself\u001b[0m\u001b[1;33m.\u001b[0m\u001b[0m_call_flat\u001b[0m\u001b[1;33m(\u001b[0m\u001b[0margs\u001b[0m\u001b[1;33m)\u001b[0m\u001b[1;33m\u001b[0m\u001b[1;33m\u001b[0m\u001b[0m\n\u001b[0m\u001b[0;32m    559\u001b[0m \u001b[1;33m\u001b[0m\u001b[0m\n\u001b[0;32m    560\u001b[0m   \u001b[1;32mdef\u001b[0m \u001b[0m_filtered_call\u001b[0m\u001b[1;33m(\u001b[0m\u001b[0mself\u001b[0m\u001b[1;33m,\u001b[0m \u001b[0margs\u001b[0m\u001b[1;33m,\u001b[0m \u001b[0mkwargs\u001b[0m\u001b[1;33m)\u001b[0m\u001b[1;33m:\u001b[0m\u001b[1;33m\u001b[0m\u001b[1;33m\u001b[0m\u001b[0m\n",
      "\u001b[1;32mc:\\users\\ablac\\miniconda3\\envs\\expressions2\\lib\\site-packages\\tensorflow\\python\\eager\\function.py\u001b[0m in \u001b[0;36m_call_flat\u001b[1;34m(self, args)\u001b[0m\n\u001b[0;32m    625\u001b[0m     \u001b[1;31m# Only need to override the gradient in graph mode and when we have outputs.\u001b[0m\u001b[1;33m\u001b[0m\u001b[1;33m\u001b[0m\u001b[1;33m\u001b[0m\u001b[0m\n\u001b[0;32m    626\u001b[0m     \u001b[1;32mif\u001b[0m \u001b[0mcontext\u001b[0m\u001b[1;33m.\u001b[0m\u001b[0mexecuting_eagerly\u001b[0m\u001b[1;33m(\u001b[0m\u001b[1;33m)\u001b[0m \u001b[1;32mor\u001b[0m \u001b[1;32mnot\u001b[0m \u001b[0mself\u001b[0m\u001b[1;33m.\u001b[0m\u001b[0moutputs\u001b[0m\u001b[1;33m:\u001b[0m\u001b[1;33m\u001b[0m\u001b[1;33m\u001b[0m\u001b[0m\n\u001b[1;32m--> 627\u001b[1;33m       \u001b[0moutputs\u001b[0m \u001b[1;33m=\u001b[0m \u001b[0mself\u001b[0m\u001b[1;33m.\u001b[0m\u001b[0m_inference_function\u001b[0m\u001b[1;33m.\u001b[0m\u001b[0mcall\u001b[0m\u001b[1;33m(\u001b[0m\u001b[0mctx\u001b[0m\u001b[1;33m,\u001b[0m \u001b[0margs\u001b[0m\u001b[1;33m)\u001b[0m\u001b[1;33m\u001b[0m\u001b[1;33m\u001b[0m\u001b[0m\n\u001b[0m\u001b[0;32m    628\u001b[0m     \u001b[1;32melse\u001b[0m\u001b[1;33m:\u001b[0m\u001b[1;33m\u001b[0m\u001b[1;33m\u001b[0m\u001b[0m\n\u001b[0;32m    629\u001b[0m       \u001b[0mself\u001b[0m\u001b[1;33m.\u001b[0m\u001b[0m_register_gradient\u001b[0m\u001b[1;33m(\u001b[0m\u001b[1;33m)\u001b[0m\u001b[1;33m\u001b[0m\u001b[1;33m\u001b[0m\u001b[0m\n",
      "\u001b[1;32mc:\\users\\ablac\\miniconda3\\envs\\expressions2\\lib\\site-packages\\tensorflow\\python\\eager\\function.py\u001b[0m in \u001b[0;36mcall\u001b[1;34m(self, ctx, args)\u001b[0m\n\u001b[0;32m    413\u001b[0m             attrs=(\"executor_type\", executor_type,\n\u001b[0;32m    414\u001b[0m                    \"config_proto\", config),\n\u001b[1;32m--> 415\u001b[1;33m             ctx=ctx)\n\u001b[0m\u001b[0;32m    416\u001b[0m       \u001b[1;31m# Replace empty list with None\u001b[0m\u001b[1;33m\u001b[0m\u001b[1;33m\u001b[0m\u001b[1;33m\u001b[0m\u001b[0m\n\u001b[0;32m    417\u001b[0m       \u001b[0moutputs\u001b[0m \u001b[1;33m=\u001b[0m \u001b[0moutputs\u001b[0m \u001b[1;32mor\u001b[0m \u001b[1;32mNone\u001b[0m\u001b[1;33m\u001b[0m\u001b[1;33m\u001b[0m\u001b[0m\n",
      "\u001b[1;32mc:\\users\\ablac\\miniconda3\\envs\\expressions2\\lib\\site-packages\\tensorflow\\python\\eager\\execute.py\u001b[0m in \u001b[0;36mquick_execute\u001b[1;34m(op_name, num_outputs, inputs, attrs, ctx, name)\u001b[0m\n\u001b[0;32m     58\u001b[0m     tensors = pywrap_tensorflow.TFE_Py_Execute(ctx._handle, device_name,\n\u001b[0;32m     59\u001b[0m                                                \u001b[0mop_name\u001b[0m\u001b[1;33m,\u001b[0m \u001b[0minputs\u001b[0m\u001b[1;33m,\u001b[0m \u001b[0mattrs\u001b[0m\u001b[1;33m,\u001b[0m\u001b[1;33m\u001b[0m\u001b[1;33m\u001b[0m\u001b[0m\n\u001b[1;32m---> 60\u001b[1;33m                                                num_outputs)\n\u001b[0m\u001b[0;32m     61\u001b[0m   \u001b[1;32mexcept\u001b[0m \u001b[0mcore\u001b[0m\u001b[1;33m.\u001b[0m\u001b[0m_NotOkStatusException\u001b[0m \u001b[1;32mas\u001b[0m \u001b[0me\u001b[0m\u001b[1;33m:\u001b[0m\u001b[1;33m\u001b[0m\u001b[1;33m\u001b[0m\u001b[0m\n\u001b[0;32m     62\u001b[0m     \u001b[1;32mif\u001b[0m \u001b[0mname\u001b[0m \u001b[1;32mis\u001b[0m \u001b[1;32mnot\u001b[0m \u001b[1;32mNone\u001b[0m\u001b[1;33m:\u001b[0m\u001b[1;33m\u001b[0m\u001b[1;33m\u001b[0m\u001b[0m\n",
      "\u001b[1;31mKeyboardInterrupt\u001b[0m: "
     ]
    }
   ],
   "source": [
    "#exnet.fit_generator(next_batch(x_train,y_train,64),steps_per_epoch=1,epochs=1)\n",
    "exnet.fit(x_train,y_train, validation_data=(x_val,y_val),steps_per_epoch=None,epochs=200,verbose=2,callbacks=[tb_callback])"
   ]
  },
  {
   "cell_type": "code",
   "execution_count": 17,
   "metadata": {},
   "outputs": [],
   "source": [
    "#exnet.save_weights(\"checkpoints/model.h5\")\n",
    "exnet.save_weights(\"checkpoints/model.h5\")"
   ]
  }
 ],
 "metadata": {
  "kernelspec": {
   "display_name": "Python 3",
   "language": "python",
   "name": "python3"
  },
  "language_info": {
   "codemirror_mode": {
    "name": "ipython",
    "version": 3
   },
   "file_extension": ".py",
   "mimetype": "text/x-python",
   "name": "python",
   "nbconvert_exporter": "python",
   "pygments_lexer": "ipython3",
   "version": "3.6.8"
  }
 },
 "nbformat": 4,
 "nbformat_minor": 2
}
