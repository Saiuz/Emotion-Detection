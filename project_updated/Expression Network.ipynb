{
 "cells": [
  {
   "cell_type": "code",
   "execution_count": 1,
   "metadata": {},
   "outputs": [],
   "source": [
    "import numpy as np\n",
    "import csv"
   ]
  },
  {
   "cell_type": "code",
   "execution_count": 2,
   "metadata": {},
   "outputs": [
    {
     "data": {
      "text/plain": [
       "1999"
      ]
     },
     "execution_count": 2,
     "metadata": {},
     "output_type": "execute_result"
    }
   ],
   "source": [
    "labels = []\n",
    "\n",
    "with open(\"images/faceLabels.csv\") as csvfile:\n",
    "    reader = csv.reader(csvfile, delimiter=\",\")\n",
    "    for row in reader:\n",
    "        labels.append(row)\n",
    "labels = np.array(labels[1:])\n",
    "len(labels)"
   ]
  },
  {
   "cell_type": "code",
   "execution_count": 3,
   "metadata": {},
   "outputs": [],
   "source": [
    "from skimage import color\n",
    "from skimage import io\n",
    "from skimage.transform import resize\n",
    "import matplotlib.pyplot as plt\n",
    "from tqdm import tqdm"
   ]
  },
  {
   "cell_type": "code",
   "execution_count": 4,
   "metadata": {},
   "outputs": [],
   "source": [
    "#if true, re-reads and saves all images to numpy array\n",
    "if False:\n",
    "    images = []\n",
    "    size = (128,128)\n",
    "    print(\"reading in images...\")\n",
    "    for line in tqdm(labels):\n",
    "        ##read and convert to Black and White\n",
    "\n",
    "        img = io.imread('images/'+line[0], as_grey=True)\n",
    "        img = resize(img, size)\n",
    "        images.append(img)\n",
    "    print(\"saving...\")\n",
    "    \n",
    "    npimages = np.zeros(shape=(len(images),*size), dtype=np.float64)\n",
    "    for i,im in enumerate(images):\n",
    "        npimages[i] = im\n",
    "    labels = np.array(labels[:,1],dtype=str)\n",
    "    print(labels)\n",
    "    np.save(\"data/labels.npy\",labels)\n",
    "    np.save(\"data/images.npy\",npimages)\n",
    "    print(\"SAVED\")\n",
    "    "
   ]
  },
  {
   "cell_type": "code",
   "execution_count": 5,
   "metadata": {},
   "outputs": [
    {
     "name": "stdout",
     "output_type": "stream",
     "text": [
      "float64\n",
      "<U12\n"
     ]
    }
   ],
   "source": [
    "images = np.load(\"data/images.npy\")\n",
    "labels = np.load(\"data/labels.npy\")\n",
    "print(images.dtype)\n",
    "print(labels.dtype)"
   ]
  },
  {
   "cell_type": "code",
   "execution_count": 6,
   "metadata": {},
   "outputs": [
    {
     "name": "stdout",
     "output_type": "stream",
     "text": [
      "\t\tHappy\n"
     ]
    },
    {
     "data": {
      "image/png": "[encoded data removed]",
      "text/plain": [
       "<Figure size 432x288 with 1 Axes>"
      ]
     },
     "metadata": {
      "needs_background": "light"
     },
     "output_type": "display_data"
    }
   ],
   "source": [
    "idx = np.random.randint(0,len(labels))\n",
    "plt.imshow(images[idx], cmap=\"gray\")\n",
    "print(\"\\t\\t\"+str(labels[idx]))"
   ]
  },
  {
   "cell_type": "code",
   "execution_count": 7,
   "metadata": {},
   "outputs": [],
   "source": [
    "import random\n",
    "def balanced_subset(images,labels):\n",
    "    #np.warnings.filterwarnings('ignore')\n",
    "    count = Counter(labels)\n",
    "    perclass_count = np.array([[c,count[c]] for c in count.keys()])\n",
    "    max_n = min(perclass_count[:,1])\n",
    "    \n",
    "    perclass_indexes = {cname:random.sample(range(0, n), max_n) for cname,n in perclass_count}\n",
    "    perclass_index = {label:0 for label in count.keys()}\n",
    "    \n",
    "    newlabels = []\n",
    "    newimages = []\n",
    "    total = 0\n",
    "    for i in range(len(labels)):\n",
    "        \n",
    "        label = labels[i]\n",
    "\n",
    "        if perclass_index[label] in perclass_indexes[label]:\n",
    "            total += 1\n",
    "            newlabels.append(label)\n",
    "            newimages.append(images[i])\n",
    "        perclass_index[label] += 1\n",
    "            \n",
    "    newimages, newlabels = np.array(newimages),np.array(newlabels)   \n",
    "        \n",
    "    #print(perclass_count,perclass_indexes)\n",
    "    return newimages, newlabels"
   ]
  },
  {
   "cell_type": "code",
   "execution_count": 8,
   "metadata": {},
   "outputs": [
    {
     "name": "stdout",
     "output_type": "stream",
     "text": [
      "count: [('happy', 500), ('sad', 500), ('angry', 500), ('neutral', 499)] \n",
      "\n"
     ]
    }
   ],
   "source": [
    "from collections import Counter\n",
    "labels = [x.lower() for x in labels]\n",
    "count = Counter(labels)\n",
    "#print(c.most_common())\n",
    "label2int = {y:x for x,(y,_) in enumerate(count.most_common())}\n",
    "int2label = {label2int[key]:key for key in label2int.keys()}\n",
    "\n",
    "nplabels = np.array([label2int[x] for x in labels])\n",
    "assert(len(nplabels) == len(images))\n",
    "print(\"count:\",count.most_common(),\"\\n\")"
   ]
  },
  {
   "cell_type": "code",
   "execution_count": 9,
   "metadata": {},
   "outputs": [],
   "source": [
    "def one_hot(labels):\n",
    "    y = np.zeros([len(labels),max(labels)+1],dtype=int)\n",
    "    y[np.arange(len(labels)),labels] = 1\n",
    "    return y"
   ]
  },
  {
   "cell_type": "code",
   "execution_count": 10,
   "metadata": {},
   "outputs": [
    {
     "data": {
      "text/plain": [
       "200"
      ]
     },
     "execution_count": 10,
     "metadata": {},
     "output_type": "execute_result"
    }
   ],
   "source": [
    "from sklearn.model_selection import train_test_split\n",
    "from sklearn.utils import shuffle\n",
    "x_train, x_val, y_train, y_val = train_test_split(images, nplabels, test_size=.1)\n",
    "y_train = one_hot(y_train)\n",
    "y_val = one_hot(y_val)\n",
    "len(y_val)\n"
   ]
  },
  {
   "cell_type": "code",
   "execution_count": 11,
   "metadata": {},
   "outputs": [],
   "source": [
    "def next_batch(images, labels, batch_size):\n",
    "    images, labels = shuffle(images,labels)\n",
    "    zeros = np.zeros([len(labels),max(labels)+1],dtype=int)\n",
    "    zeros[np.arange(len(labels)),labels] = 1\n",
    "    onehotLabels =  zeros\n",
    "    for i in range(0,len(onehotLabels),batch_size):\n",
    "        if i+batch_size >= len(onehotLabels):\n",
    "            yield images[i:],onehotLabels[i:]\n",
    "        else:\n",
    "            yield images[i:i+batch_size],onehotLabels[i:i+batch_size]"
   ]
  },
  {
   "cell_type": "code",
   "execution_count": 12,
   "metadata": {},
   "outputs": [
    {
     "name": "stdout",
     "output_type": "stream",
     "text": [
      "(128, 128)\n"
     ]
    }
   ],
   "source": [
    "print(images[0].shape)"
   ]
  },
  {
   "cell_type": "markdown",
   "metadata": {},
   "source": [
    "# Build Model"
   ]
  },
  {
   "cell_type": "code",
   "execution_count": 13,
   "metadata": {},
   "outputs": [],
   "source": [
    "import tensorflow as tf\n",
    "from Expression_Network import Expression_Network"
   ]
  },
  {
   "cell_type": "code",
   "execution_count": 14,
   "metadata": {
    "scrolled": true
   },
   "outputs": [
    {
     "name": "stdout",
     "output_type": "stream",
     "text": [
      "WARNING:tensorflow:From c:\\users\\ablac\\miniconda3\\lib\\site-packages\\tensorflow\\python\\ops\\resource_variable_ops.py:435: colocate_with (from tensorflow.python.framework.ops) is deprecated and will be removed in a future version.\n",
      "Instructions for updating:\n",
      "Colocations handled automatically by placer.\n",
      "_________________________________________________________________\n",
      "Layer (type)                 Output Shape              Param #   \n",
      "=================================================================\n",
      "reshape (Reshape)            (None, 128, 128, 1)       0         \n",
      "_________________________________________________________________\n",
      "conv2d (Conv2D)              (None, 120, 120, 32)      2624      \n",
      "_________________________________________________________________\n",
      "max_pooling2d (MaxPooling2D) (None, 30, 30, 32)        0         \n",
      "_________________________________________________________________\n",
      "batch_normalization_v1 (Batc (None, 30, 30, 32)        128       \n",
      "_________________________________________________________________\n",
      "conv2d_1 (Conv2D)            (None, 20, 20, 64)        247872    \n",
      "_________________________________________________________________\n",
      "max_pooling2d_1 (MaxPooling2 (None, 5, 5, 64)          0         \n",
      "_________________________________________________________________\n",
      "batch_normalization_v1_1 (Ba (None, 5, 5, 64)          256       \n",
      "_________________________________________________________________\n",
      "flatten (Flatten)            (None, 1600)              0         \n",
      "_________________________________________________________________\n",
      "dense (Dense)                (None, 256)               409856    \n",
      "_________________________________________________________________\n",
      "batch_normalization_v1_2 (Ba (None, 256)               1024      \n",
      "_________________________________________________________________\n",
      "dense_1 (Dense)              (None, 4)                 1028      \n",
      "=================================================================\n",
      "Total params: 662,788\n",
      "Trainable params: 662,084\n",
      "Non-trainable params: 704\n",
      "_________________________________________________________________\n"
     ]
    }
   ],
   "source": [
    "num_classes = len(count.most_common())\n",
    "#x = tf.placeholder(dtype=tf.float32, shape=(None,128,128),name='x')\n",
    "#y = tf.placeholder(dtype=tf.int32, shape=(None),name=\"y\")\n",
    "#lr = tf.placeholder(dtype=tf.float32, shape=[], name=\"lr\")\n",
    "#one_hot = tf.one_hot(y,num_classes)\n",
    "#reshaped = tf.expand_dims(x,-1)\n",
    "\n",
    "exnet = Expression_Network(num_classes,Training=True).build_model()\n",
    "exnet.build(input_shape=(None,128,128))\n",
    "exnet.summary()"
   ]
  },
  {
   "cell_type": "code",
   "execution_count": 15,
   "metadata": {},
   "outputs": [],
   "source": [
    "exnet.compile(\"Adam\",\"categorical_crossentropy\",metrics=['accuracy'])\n",
    "\n",
    "tb_callback= tf.keras.callbacks.TensorBoard(log_dir=\"data\")\n",
    "\n",
    "\n",
    "#cross_entropy = tf.nn.softmax_cross_entropy_with_logits_v2(logits=logits, labels=one_hot)\n",
    "#loss_op = tf.reduce_mean(cross_entropy)\n",
    "#update_ops = tf.get_collection(tf.GraphKeys.UPDATE_OPS)\n",
    "#with tf.control_dependencies(update_ops):\n",
    "#    optimizer = tf.train.AdamOptimizer(lr).minimize(loss_op)\n",
    "#correct_pred = tf.equal(tf.argmax(prediction,1), tf.argmax(one_hot,1))\n",
    "#accuracy = tf.reduce_mean(tf.cast(correct_pred, tf.float32), name='accuracy')"
   ]
  },
  {
   "cell_type": "code",
   "execution_count": 16,
   "metadata": {
    "scrolled": true
   },
   "outputs": [
    {
     "name": "stdout",
     "output_type": "stream",
     "text": [
      "Train on 1799 samples, validate on 200 samples\n",
      "WARNING:tensorflow:From c:\\users\\ablac\\miniconda3\\lib\\site-packages\\tensorflow\\python\\ops\\math_ops.py:3066: to_int32 (from tensorflow.python.ops.math_ops) is deprecated and will be removed in a future version.\n",
      "Instructions for updating:\n",
      "Use tf.cast instead.\n",
      "Epoch 1/50\n",
      " - 2s - loss: 1.0427 - acc: 0.6248 - val_loss: 1.7175 - val_acc: 0.3150\n",
      "Epoch 2/50\n",
      " - 1s - loss: 0.3098 - acc: 0.9144 - val_loss: 2.0157 - val_acc: 0.2600\n",
      "Epoch 3/50\n",
      " - 1s - loss: 0.1533 - acc: 0.9539 - val_loss: 2.5787 - val_acc: 0.2600\n",
      "Epoch 4/50\n",
      " - 1s - loss: 0.0793 - acc: 0.9817 - val_loss: 3.1254 - val_acc: 0.2100\n",
      "Epoch 5/50\n",
      " - 1s - loss: 0.0570 - acc: 0.9878 - val_loss: 3.7074 - val_acc: 0.2100\n",
      "Epoch 6/50\n",
      " - 1s - loss: 0.0501 - acc: 0.9889 - val_loss: 4.0010 - val_acc: 0.2100\n",
      "Epoch 7/50\n",
      " - 1s - loss: 0.0384 - acc: 0.9911 - val_loss: 3.9077 - val_acc: 0.2100\n",
      "Epoch 8/50\n",
      " - 1s - loss: 0.0982 - acc: 0.9678 - val_loss: 3.7209 - val_acc: 0.2250\n",
      "Epoch 9/50\n",
      " - 1s - loss: 0.0901 - acc: 0.9694 - val_loss: 2.2015 - val_acc: 0.3050\n",
      "Epoch 10/50\n",
      " - 1s - loss: 0.0578 - acc: 0.9789 - val_loss: 1.3681 - val_acc: 0.4450\n",
      "Epoch 11/50\n",
      " - 1s - loss: 0.0182 - acc: 0.9961 - val_loss: 1.3791 - val_acc: 0.4050\n",
      "Epoch 12/50\n",
      " - 1s - loss: 0.0128 - acc: 0.9961 - val_loss: 1.9834 - val_acc: 0.3500\n",
      "Epoch 13/50\n",
      " - 1s - loss: 0.0131 - acc: 0.9989 - val_loss: 1.1051 - val_acc: 0.4650\n",
      "Epoch 14/50\n",
      " - 1s - loss: 0.0102 - acc: 0.9978 - val_loss: 1.0571 - val_acc: 0.5950\n",
      "Epoch 15/50\n",
      " - 1s - loss: 0.0035 - acc: 1.0000 - val_loss: 0.8725 - val_acc: 0.6500\n",
      "Epoch 16/50\n",
      " - 1s - loss: 0.0018 - acc: 1.0000 - val_loss: 0.6952 - val_acc: 0.7350\n",
      "Epoch 17/50\n",
      " - 1s - loss: 0.0094 - acc: 0.9983 - val_loss: 0.6227 - val_acc: 0.7250\n",
      "Epoch 18/50\n",
      " - 1s - loss: 0.0186 - acc: 0.9956 - val_loss: 0.9540 - val_acc: 0.7150\n",
      "Epoch 19/50\n",
      " - 1s - loss: 0.0212 - acc: 0.9928 - val_loss: 0.5177 - val_acc: 0.8650\n",
      "Epoch 20/50\n",
      " - 1s - loss: 0.0082 - acc: 0.9994 - val_loss: 0.1872 - val_acc: 0.9400\n",
      "Epoch 21/50\n",
      " - 1s - loss: 0.0047 - acc: 0.9994 - val_loss: 0.1501 - val_acc: 0.9550\n",
      "Epoch 22/50\n",
      " - 1s - loss: 0.0106 - acc: 0.9978 - val_loss: 0.0987 - val_acc: 0.9600\n",
      "Epoch 23/50\n",
      " - 1s - loss: 0.0078 - acc: 0.9989 - val_loss: 0.3316 - val_acc: 0.9000\n",
      "Epoch 24/50\n",
      " - 1s - loss: 0.0030 - acc: 0.9994 - val_loss: 0.4528 - val_acc: 0.8750\n",
      "Epoch 25/50\n",
      " - 1s - loss: 0.0476 - acc: 0.9839 - val_loss: 3.3473 - val_acc: 0.5850\n",
      "Epoch 26/50\n",
      " - 1s - loss: 0.0243 - acc: 0.9944 - val_loss: 2.3188 - val_acc: 0.7450\n",
      "Epoch 27/50\n",
      " - 1s - loss: 0.0125 - acc: 0.9956 - val_loss: 0.9114 - val_acc: 0.7350\n",
      "Epoch 28/50\n",
      " - 1s - loss: 0.0146 - acc: 0.9939 - val_loss: 0.2006 - val_acc: 0.9500\n",
      "Epoch 29/50\n",
      " - 1s - loss: 0.0118 - acc: 0.9967 - val_loss: 1.3337 - val_acc: 0.7950\n",
      "Epoch 30/50\n",
      " - 1s - loss: 0.0078 - acc: 0.9972 - val_loss: 0.4690 - val_acc: 0.8850\n",
      "Epoch 31/50\n",
      " - 1s - loss: 0.0165 - acc: 0.9939 - val_loss: 0.8341 - val_acc: 0.7850\n",
      "Epoch 32/50\n",
      " - 1s - loss: 0.0078 - acc: 0.9978 - val_loss: 0.6087 - val_acc: 0.8250\n",
      "Epoch 33/50\n",
      " - 1s - loss: 0.0159 - acc: 0.9956 - val_loss: 3.7545 - val_acc: 0.4200\n",
      "Epoch 34/50\n",
      " - 1s - loss: 0.0301 - acc: 0.9906 - val_loss: 1.0837 - val_acc: 0.7000\n",
      "Epoch 35/50\n",
      " - 1s - loss: 0.0115 - acc: 0.9972 - val_loss: 0.7999 - val_acc: 0.8500\n",
      "Epoch 36/50\n",
      " - 1s - loss: 0.0474 - acc: 0.9872 - val_loss: 0.5318 - val_acc: 0.8500\n",
      "Epoch 37/50\n",
      " - 1s - loss: 0.0567 - acc: 0.9811 - val_loss: 5.1059 - val_acc: 0.6200\n",
      "Epoch 38/50\n",
      " - 1s - loss: 0.0083 - acc: 0.9983 - val_loss: 4.9594 - val_acc: 0.6500\n",
      "Epoch 39/50\n",
      " - 1s - loss: 0.0045 - acc: 0.9994 - val_loss: 4.0343 - val_acc: 0.6600\n",
      "Epoch 40/50\n",
      " - 1s - loss: 0.0056 - acc: 0.9989 - val_loss: 2.4129 - val_acc: 0.5600\n",
      "Epoch 41/50\n",
      " - 1s - loss: 0.0049 - acc: 0.9983 - val_loss: 1.3095 - val_acc: 0.7000\n",
      "Epoch 42/50\n",
      " - 1s - loss: 0.0018 - acc: 0.9994 - val_loss: 0.4724 - val_acc: 0.8650\n",
      "Epoch 43/50\n",
      " - 1s - loss: 9.5252e-04 - acc: 1.0000 - val_loss: 0.2278 - val_acc: 0.9250\n",
      "Epoch 44/50\n",
      " - 1s - loss: 7.6595e-04 - acc: 1.0000 - val_loss: 0.1068 - val_acc: 0.9600\n",
      "Epoch 45/50\n",
      " - 1s - loss: 0.0014 - acc: 1.0000 - val_loss: 0.0521 - val_acc: 0.9800\n",
      "Epoch 46/50\n",
      " - 1s - loss: 0.0012 - acc: 1.0000 - val_loss: 0.1207 - val_acc: 0.9600\n",
      "Epoch 47/50\n",
      " - 1s - loss: 3.7056e-04 - acc: 1.0000 - val_loss: 0.0723 - val_acc: 0.9650\n",
      "Epoch 48/50\n",
      " - 1s - loss: 0.0034 - acc: 0.9994 - val_loss: 0.1357 - val_acc: 0.9600\n",
      "Epoch 49/50\n",
      " - 1s - loss: 0.0414 - acc: 0.9894 - val_loss: 7.8101 - val_acc: 0.3500\n",
      "Epoch 50/50\n",
      " - 1s - loss: 0.0363 - acc: 0.9867 - val_loss: 8.1601 - val_acc: 0.3050\n"
     ]
    },
    {
     "data": {
      "text/plain": [
       "<tensorflow.python.keras.callbacks.History at 0x21324fe5e80>"
      ]
     },
     "execution_count": 16,
     "metadata": {},
     "output_type": "execute_result"
    }
   ],
   "source": [
    "#exnet.fit_generator(next_batch(x_train,y_train,64),steps_per_epoch=1,epochs=1)\n",
    "exnet.fit(x_train,y_train, validation_data=(x_val,y_val),steps_per_epoch=None,epochs=50,verbose=2,batch_size=64,callbacks=[tb_callback])"
   ]
  },
  {
   "cell_type": "code",
   "execution_count": 17,
   "metadata": {},
   "outputs": [],
   "source": [
    "#exnet.save_weights(\"checkpoints/model.h5\")\n",
    "exnet.save_weights(\"checkpoints/model.h5\")"
   ]
  },
  {
   "cell_type": "code",
   "execution_count": 33,
   "metadata": {},
   "outputs": [],
   "source": [
    "del exnet"
   ]
  },
  {
   "cell_type": "code",
   "execution_count": 36,
   "metadata": {},
   "outputs": [],
   "source": [
    "exnet = Expression_Network(num_classes,Training=True).build_model()\n",
    "exnet.build(input_shape=(None,128,128))\n",
    "exnet.load_weights(\"checkpoints/model.h5\")\n",
    "exnet.compile(\"Adam\",\"categorical_crossentropy\",metrics=['accuracy'])\n",
    "\n"
   ]
  },
  {
   "cell_type": "code",
   "execution_count": 37,
   "metadata": {},
   "outputs": [
    {
     "name": "stdout",
     "output_type": "stream",
     "text": [
      "Train on 1799 samples, validate on 200 samples\n",
      "Epoch 1/5\n",
      " - 1s - loss: 0.0196 - acc: 0.9944 - val_loss: 0.2577 - val_acc: 0.9150\n",
      "Epoch 2/5\n",
      " - 1s - loss: 0.0181 - acc: 0.9928 - val_loss: 0.1177 - val_acc: 0.9550\n",
      "Epoch 3/5\n",
      " - 1s - loss: 0.0315 - acc: 0.9855 - val_loss: 3.1315 - val_acc: 0.6550\n",
      "Epoch 4/5\n",
      " - 1s - loss: 0.0076 - acc: 0.9967 - val_loss: 0.2749 - val_acc: 0.9000\n",
      "Epoch 5/5\n",
      " - 1s - loss: 0.0242 - acc: 0.9922 - val_loss: 0.2597 - val_acc: 0.9150\n"
     ]
    },
    {
     "data": {
      "text/plain": [
       "<tensorflow.python.keras.callbacks.History at 0x22ee6a35198>"
      ]
     },
     "execution_count": 37,
     "metadata": {},
     "output_type": "execute_result"
    }
   ],
   "source": [
    "exnet.fit(x_train,y_train, validation_data=(x_val,y_val),steps_per_epoch=None,epochs=5,verbose=2,batch_size=64,callbacks=[tb_callback])"
   ]
  },
  {
   "cell_type": "code",
   "execution_count": 25,
   "metadata": {},
   "outputs": [
    {
     "ename": "RuntimeError",
     "evalue": "Attempted to use a closed Session.",
     "output_type": "error",
     "traceback": [
      "\u001b[1;31m---------------------------------------------------------------------------\u001b[0m",
      "\u001b[1;31mRuntimeError\u001b[0m                              Traceback (most recent call last)",
      "\u001b[1;32m<ipython-input-25-4112d870355d>\u001b[0m in \u001b[0;36m<module>\u001b[1;34m\u001b[0m\n\u001b[0;32m      9\u001b[0m \u001b[1;33m\u001b[0m\u001b[0m\n\u001b[0;32m     10\u001b[0m     \u001b[1;32mfor\u001b[0m \u001b[0mx_batch\u001b[0m\u001b[1;33m,\u001b[0m\u001b[0my_batch\u001b[0m \u001b[1;32min\u001b[0m \u001b[0mnext_batch\u001b[0m\u001b[1;33m(\u001b[0m\u001b[0mx_train\u001b[0m\u001b[1;33m,\u001b[0m\u001b[0my_train\u001b[0m\u001b[1;33m,\u001b[0m\u001b[0mbatch_size\u001b[0m\u001b[1;33m)\u001b[0m\u001b[1;33m:\u001b[0m\u001b[1;33m\u001b[0m\u001b[0m\n\u001b[1;32m---> 11\u001b[1;33m         \u001b[0msess\u001b[0m\u001b[1;33m.\u001b[0m\u001b[0mrun\u001b[0m\u001b[1;33m(\u001b[0m\u001b[0moptimizer\u001b[0m\u001b[1;33m,\u001b[0m\u001b[0mfeed_dict\u001b[0m\u001b[1;33m=\u001b[0m\u001b[1;33m{\u001b[0m\u001b[0mx\u001b[0m\u001b[1;33m:\u001b[0m\u001b[0mx_batch\u001b[0m\u001b[1;33m,\u001b[0m\u001b[0my\u001b[0m\u001b[1;33m:\u001b[0m\u001b[0my_batch\u001b[0m\u001b[1;33m,\u001b[0m\u001b[0mlr\u001b[0m\u001b[1;33m:\u001b[0m\u001b[0mlearn_rate\u001b[0m\u001b[1;33m,\u001b[0m\u001b[0mexnet\u001b[0m\u001b[1;33m.\u001b[0m\u001b[0mtrain_pl\u001b[0m\u001b[1;33m:\u001b[0m\u001b[1;32mTrue\u001b[0m\u001b[1;33m}\u001b[0m\u001b[1;33m)\u001b[0m\u001b[1;33m\u001b[0m\u001b[0m\n\u001b[0m\u001b[0;32m     12\u001b[0m \u001b[1;33m\u001b[0m\u001b[0m\n\u001b[0;32m     13\u001b[0m         \u001b[1;32mif\u001b[0m \u001b[0mbatch_i\u001b[0m \u001b[1;33m%\u001b[0m \u001b[1;36m10\u001b[0m \u001b[1;33m==\u001b[0m \u001b[1;36m0\u001b[0m\u001b[1;33m:\u001b[0m\u001b[1;33m\u001b[0m\u001b[0m\n",
      "\u001b[1;32mc:\\users\\ablac\\miniconda3\\lib\\site-packages\\tensorflow\\python\\client\\session.py\u001b[0m in \u001b[0;36mrun\u001b[1;34m(self, fetches, feed_dict, options, run_metadata)\u001b[0m\n\u001b[0;32m    927\u001b[0m     \u001b[1;32mtry\u001b[0m\u001b[1;33m:\u001b[0m\u001b[1;33m\u001b[0m\u001b[0m\n\u001b[0;32m    928\u001b[0m       result = self._run(None, fetches, feed_dict, options_ptr,\n\u001b[1;32m--> 929\u001b[1;33m                          run_metadata_ptr)\n\u001b[0m\u001b[0;32m    930\u001b[0m       \u001b[1;32mif\u001b[0m \u001b[0mrun_metadata\u001b[0m\u001b[1;33m:\u001b[0m\u001b[1;33m\u001b[0m\u001b[0m\n\u001b[0;32m    931\u001b[0m         \u001b[0mproto_data\u001b[0m \u001b[1;33m=\u001b[0m \u001b[0mtf_session\u001b[0m\u001b[1;33m.\u001b[0m\u001b[0mTF_GetBuffer\u001b[0m\u001b[1;33m(\u001b[0m\u001b[0mrun_metadata_ptr\u001b[0m\u001b[1;33m)\u001b[0m\u001b[1;33m\u001b[0m\u001b[0m\n",
      "\u001b[1;32mc:\\users\\ablac\\miniconda3\\lib\\site-packages\\tensorflow\\python\\client\\session.py\u001b[0m in \u001b[0;36m_run\u001b[1;34m(self, handle, fetches, feed_dict, options, run_metadata)\u001b[0m\n\u001b[0;32m   1073\u001b[0m     \u001b[1;31m# Check session.\u001b[0m\u001b[1;33m\u001b[0m\u001b[1;33m\u001b[0m\u001b[0m\n\u001b[0;32m   1074\u001b[0m     \u001b[1;32mif\u001b[0m \u001b[0mself\u001b[0m\u001b[1;33m.\u001b[0m\u001b[0m_closed\u001b[0m\u001b[1;33m:\u001b[0m\u001b[1;33m\u001b[0m\u001b[0m\n\u001b[1;32m-> 1075\u001b[1;33m       \u001b[1;32mraise\u001b[0m \u001b[0mRuntimeError\u001b[0m\u001b[1;33m(\u001b[0m\u001b[1;34m'Attempted to use a closed Session.'\u001b[0m\u001b[1;33m)\u001b[0m\u001b[1;33m\u001b[0m\u001b[0m\n\u001b[0m\u001b[0;32m   1076\u001b[0m     \u001b[1;32mif\u001b[0m \u001b[0mself\u001b[0m\u001b[1;33m.\u001b[0m\u001b[0mgraph\u001b[0m\u001b[1;33m.\u001b[0m\u001b[0mversion\u001b[0m \u001b[1;33m==\u001b[0m \u001b[1;36m0\u001b[0m\u001b[1;33m:\u001b[0m\u001b[1;33m\u001b[0m\u001b[0m\n\u001b[0;32m   1077\u001b[0m       raise RuntimeError('The Session graph is empty.  Add operations to the '\n",
      "\u001b[1;31mRuntimeError\u001b[0m: Attempted to use a closed Session."
     ]
    }
   ],
   "source": [
    "epochs = 150\n",
    "learn_rate = .0001\n",
    "batch_size = 64\n",
    "\n",
    "\n",
    "saver = tf.train.Saver()\n",
    "for epoch in range(epochs):\n",
    "    batch_i = 1\n",
    "\n",
    "    for x_batch,y_batch in next_batch(x_train,y_train,batch_size):\n",
    "        sess.run(optimizer,feed_dict={x:x_batch,y:y_batch,lr:learn_rate,exnet.train_pl:True})\n",
    "\n",
    "        if batch_i % 10 == 0:\n",
    "\n",
    "            valacc = sess.run(accuracy,feed_dict={x:x_val,y:y_val,exnet.train_pl:False})\n",
    "            loss, trainacc = sess.run([loss_op, accuracy], feed_dict={x:x_train,y:y_train,exnet.train_pl:False})\n",
    "            print(\"epoch:{} batch:{}\\ttrain accuracy: {}\\tloss: {}\\tval acc: {}\"\n",
    "             .format(epoch,batch_i,round(float(trainacc),4),round(float(loss),4), round(float(valacc),4)))\n",
    "\n",
    "\n",
    "        batch_i += 1\n",
    "X,Y = balanced_subset(images,nplabels)\n",
    "X,Y = shuffle(X,Y)\n",
    "#print(sess.run(prediction,feed_dict={x:X,y:Y}))\n",
    "\n",
    "\n",
    "save_path = saver.save(sess, \"checkpoints/model.ckpt\")\n",
    "\n",
    "            "
   ]
  },
  {
   "cell_type": "code",
   "execution_count": 31,
   "metadata": {},
   "outputs": [],
   "source": [
    "batch_i = np.array(0)\n",
    "trainacc = np.array(0.238473172372)\n",
    "loss = np.array(12314.52365646352)"
   ]
  },
  {
   "cell_type": "code",
   "execution_count": 34,
   "metadata": {},
   "outputs": [
    {
     "name": "stdout",
     "output_type": "stream",
     "text": [
      "batch: 0\ttrain accuracy: 0.2385\tloss: 12314.5237\n"
     ]
    }
   ],
   "source": [
    "print(\"batch: {}\\ttrain accuracy: {}\\tloss: {}\"\n",
    "                      .format(batch_i,np.round(trainacc,4),np.round(loss,4)))"
   ]
  },
  {
   "cell_type": "code",
   "execution_count": 36,
   "metadata": {},
   "outputs": [],
   "source": [
    "num_classes = len(count.most_common())\n",
    "x = tf.placeholder(dtype=tf.float64, shape=(None,128,128),name='x')\n",
    "y = tf.placeholder(dtype=tf.int32, shape=(None),name=\"y\")\n",
    "lr = tf.placeholder(dtype=tf.float32, shape=[], name=\"lr\")"
   ]
  },
  {
   "cell_type": "code",
   "execution_count": 38,
   "metadata": {},
   "outputs": [],
   "source": [
    "#batch,128,128,1\n",
    "\n",
    "#first convolution\n",
    "conv = tf.contrib.layers.conv2d(\n",
    "    reshaped,\n",
    "    32,\n",
    "    (9,9),\n",
    "    stride=(1,1),\n",
    "    padding='VALID',\n",
    "    weights_initializer=tf.initializers.random_normal)\n",
    "#batch,120,120,32\n",
    "\n",
    "#subsample\n",
    "pool = tf.contrib.layers.max_pool2d(\n",
    "    conv,\n",
    "    (4,4),\n",
    "    stride=(4,4))\n",
    "#batch,30,30,32\n",
    "\n",
    "#second convolution\n",
    "conv2 = tf.contrib.layers.conv2d(\n",
    "    pool,\n",
    "    64,\n",
    "    (11,11),\n",
    "    stride=(1,1),\n",
    "    padding='VALID',\n",
    "    weights_initializer=tf.initializers.random_normal)\n",
    "#batch,20,20,64\n",
    "\n",
    "#subsample\n",
    "pool2 = tf.contrib.layers.max_pool2d(\n",
    "    conv2,\n",
    "    (4,4),\n",
    "    stride=(4,4))\n",
    "#batch,5,5,64\n",
    "\n",
    "#flatten\n",
    "flat = tf.contrib.layers.flatten(pool2)\n",
    "#batch,1600\n",
    "\n",
    "#fully connected\n",
    "fc = tf.contrib.layers.fully_connected(\n",
    "    flat,\n",
    "    256,\n",
    "    activation_fn=tf.nn.leaky_relu)\n",
    "\n",
    "#batch,256\n",
    "logits = tf.contrib.layers.fully_connected(\n",
    "    fc,\n",
    "    num_classes,\n",
    "    activation_fn=None)\n",
    "\n",
    "prediction = tf.nn.softmax(logits,)"
   ]
  },
  {
   "cell_type": "code",
   "execution_count": 28,
   "metadata": {},
   "outputs": [
    {
     "name": "stdout",
     "output_type": "stream",
     "text": [
      "INFO:tensorflow:Restoring parameters from checkpoints/model.ckpt\n"
     ]
    }
   ],
   "source": [
    "with tf.Session() as sess:\n",
    "    saver = tf.train.Saver()\n",
    "    saver.restore(sess, \"checkpoints/model.ckpt\")\n",
    "    sess.run()"
   ]
  },
  {
   "cell_type": "code",
   "execution_count": null,
   "metadata": {},
   "outputs": [],
   "source": []
  }
 ],
 "metadata": {
  "kernelspec": {
   "display_name": "Python 3",
   "language": "python",
   "name": "python3"
  },
  "language_info": {
   "codemirror_mode": {
    "name": "ipython",
    "version": 3
   },
   "file_extension": ".py",
   "mimetype": "text/x-python",
   "name": "python",
   "nbconvert_exporter": "python",
   "pygments_lexer": "ipython3",
   "version": "3.7.0"
  }
 },
 "nbformat": 4,
 "nbformat_minor": 2
}
